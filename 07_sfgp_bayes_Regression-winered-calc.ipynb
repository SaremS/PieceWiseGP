{
 "cells": [
  {
   "cell_type": "code",
   "execution_count": 1,
   "id": "306f139c-fd46-4b96-aa35-18a9af0ea356",
   "metadata": {},
   "outputs": [],
   "source": [
    "using Plots, StatsPlots\n",
    "include(\"src/SFGP_bayesreg-learnable.jl\")\n",
    "using Flux\n",
    "using StatsBase\n",
    "using CSV, DataFrames\n",
    "using ScikitLearn\n",
    "using KnetMetrics\n",
    "using Tables"
   ]
  },
  {
   "cell_type": "code",
   "execution_count": 2,
   "id": "4d8d82db-dc0c-4615-83d9-4d6ceddc4c18",
   "metadata": {},
   "outputs": [
    {
     "data": {
      "text/plain": [
       "1×1599 Matrix{Float64}:\n",
       " 5.0  5.0  5.0  6.0  5.0  5.0  5.0  7.0  …  6.0  6.0  5.0  6.0  6.0  5.0  6.0"
      ]
     },
     "execution_count": 2,
     "metadata": {},
     "output_type": "execute_result"
    }
   ],
   "source": [
    "df = Matrix(CSV.File(\"./data/winequality-red.csv\") |> DataFrame)\n",
    "X = Matrix(transpose(df[:,1:end-1]))\n",
    "y = Matrix(transpose(df[:,end:end]))\n"
   ]
  },
  {
   "cell_type": "code",
   "execution_count": 3,
   "id": "bc10b27b-0984-4a9f-8c61-3bfb8e4f9830",
   "metadata": {},
   "outputs": [
    {
     "data": {
      "text/plain": [
       "getRMSE (generic function with 1 method)"
      ]
     },
     "execution_count": 3,
     "metadata": {},
     "output_type": "execute_result"
    }
   ],
   "source": [
    "function getLoglike(mm::SFGP,X,y)\n",
    "    \n",
    "    m,S = mm.gp(X)\n",
    "    s = Matrix(transpose(sqrt.(diag(S))[:,:]))\n",
    "    \n",
    "    probs = getProbs.(m,s,mm.lower,mm.upper)\n",
    "    sigvals_mean = (mm.vals_varmean)\n",
    "    sigvals_std = abs.(mm.vals_varstd)\n",
    "    \n",
    "    full_std = sqrt.(sigvals_std.^2 .+ abs(mm.s[1,1])^2)\n",
    "    \n",
    "\n",
    "    return mean(logpdf.([MixtureModel(Normal.(sigvals_mean,full_std),p) for p in Flux.unstack(probs,2)],y[:]))\n",
    "end\n",
    "\n",
    "\n",
    "function getRMSE(mm::SFGP,X,y)\n",
    "    \n",
    "    m,S = mm.gp(X)\n",
    "    s = Matrix(transpose(sqrt.(diag(S))[:,:]))\n",
    "    \n",
    "    probs = getProbs.(m,s,mm.lower,mm.upper)\n",
    "    vals = (mm.vals_varmean) \n",
    "    \n",
    "    \n",
    "    return sqrt.(mean(((sum(probs.*vals,dims=1).-y).^2)))\n",
    "    \n",
    "end"
   ]
  },
  {
   "cell_type": "code",
   "execution_count": 4,
   "id": "d0107415-7066-44f6-8744-b88e5c0ab64a",
   "metadata": {},
   "outputs": [
    {
     "name": "stdout",
     "output_type": "stream",
     "text": [
      "1\n",
      "2\n",
      "3\n",
      "4\n",
      "5\n",
      "6\n",
      "7\n",
      "8\n",
      "9\n",
      "10\n"
     ]
    }
   ],
   "source": [
    "import Random\n",
    "Random.seed!(321)\n",
    "\n",
    "folds = ScikitLearn.CrossValidation.KFold(size(X,2),n_folds=10)\n",
    "\n",
    "lls = []\n",
    "rmses = []\n",
    "i = 0\n",
    "\n",
    "for (train, test) in folds\n",
    "\n",
    "    Xm = mean(X,dims=2)\n",
    "    Xs = std(X,dims=2)\n",
    "    sfgp = SFGP(SVGP((X[:,1:10] .- Xm)./Xs),20,3)\n",
    "    \n",
    "    params = Flux.params(sfgp)\n",
    "    opt = ADAM(0.05)\n",
    "    \n",
    "    Xtrain = X[:,train]\n",
    "    \n",
    "    mean_train = mean(Xtrain,dims=2)\n",
    "    std_train = std(Xtrain,dims=2)\n",
    "    Xtrain = (Xtrain.-mean_train) ./ std_train\n",
    "    \n",
    "    Xtest = X[:,test]\n",
    "    Xtest = (Xtest.-mean_train) ./ std_train\n",
    "    \n",
    "    ytrain = y[:,train]\n",
    "    ytest = y[:,test]\n",
    "    mean_ytrain = mean(ytrain)\n",
    "    std_ytrain = std(ytrain)\n",
    "    ytrain = (ytrain.-mean_ytrain)./std_ytrain\n",
    "    ytest = (ytest.-mean_ytrain)./std_ytrain\n",
    "    \n",
    "    for i in 1:350\n",
    "        grads = Zygote.gradient(() -> sample_elbo(sfgp,Xtrain,ytrain),params)\n",
    "        Flux.Optimise.update!(opt,params,grads)\n",
    "    end\n",
    "    \n",
    "    push!(lls, getLoglike(sfgp,Xtest,ytest))\n",
    "    push!(rmses, getRMSE(sfgp,Xtest,ytest))\n",
    "    \n",
    "    i = i+1\n",
    "    println(i)\n",
    "end"
   ]
  },
  {
   "cell_type": "code",
   "execution_count": 5,
   "id": "8892b1bf-5c0f-4df4-b60b-e332548d01eb",
   "metadata": {},
   "outputs": [
    {
     "name": "stdout",
     "output_type": "stream",
     "text": [
      "-1.236015614677411\n",
      "0.12678848308142693\n"
     ]
    }
   ],
   "source": [
    "println(mean(lls))\n",
    "println(std(lls))"
   ]
  },
  {
   "cell_type": "code",
   "execution_count": 6,
   "id": "b07906b4-3f16-4c47-8be0-0a2108da1b5f",
   "metadata": {},
   "outputs": [
    {
     "name": "stdout",
     "output_type": "stream",
     "text": [
      "0.8418346593188245\n",
      "0.11733707498551509\n"
     ]
    }
   ],
   "source": [
    "println(mean((rmses)))\n",
    "println(std((rmses)))"
   ]
  },
  {
   "cell_type": "code",
   "execution_count": 7,
   "id": "59c484da-e2fe-4c27-b396-5150c0c21cc6",
   "metadata": {},
   "outputs": [
    {
     "data": {
      "text/plain": [
       "\"./evals/sfgp_bayesian_regression_winered.csv\""
      ]
     },
     "execution_count": 7,
     "metadata": {},
     "output_type": "execute_result"
    }
   ],
   "source": [
    "df = DataFrame(hcat(lls,rmses),[:loglike,:rmse])\n",
    "CSV.write(\"./evals/sfgp_bayesian_regression_winered.csv\",  df)"
   ]
  },
  {
   "cell_type": "code",
   "execution_count": 8,
   "id": "ca9ee484-2172-499a-85fe-39b85e9b8536",
   "metadata": {},
   "outputs": [
    {
     "data": {
      "image/svg+xml": [
       "<?xml version=\"1.0\" encoding=\"utf-8\"?>\n",
       "<svg xmlns=\"http://www.w3.org/2000/svg\" xmlns:xlink=\"http://www.w3.org/1999/xlink\" width=\"600\" height=\"400\" viewBox=\"0 0 2400 1600\">\n",
       "<defs>\n",
       "  <clipPath id=\"clip850\">\n",
       "    <rect x=\"0\" y=\"0\" width=\"2400\" height=\"1600\"/>\n",
       "  </clipPath>\n",
       "</defs>\n",
       "<path clip-path=\"url(#clip850)\" d=\"\n",
       "M0 1600 L2400 1600 L2400 0 L0 0  Z\n",
       "  \" fill=\"#ffffff\" fill-rule=\"evenodd\" fill-opacity=\"1\"/>\n",
       "<defs>\n",
       "  <clipPath id=\"clip851\">\n",
       "    <rect x=\"480\" y=\"0\" width=\"1681\" height=\"1600\"/>\n",
       "  </clipPath>\n",
       "</defs>\n",
       "<path clip-path=\"url(#clip850)\" d=\"\n",
       "M112.177 1486.45 L2352.76 1486.45 L2352.76 47.2441 L112.177 47.2441  Z\n",
       "  \" fill=\"#ffffff\" fill-rule=\"evenodd\" fill-opacity=\"1\"/>\n",
       "<defs>\n",
       "  <clipPath id=\"clip852\">\n",
       "    <rect x=\"112\" y=\"47\" width=\"2242\" height=\"1440\"/>\n",
       "  </clipPath>\n",
       "</defs>\n",
       "<polyline clip-path=\"url(#clip852)\" style=\"stroke:#000000; stroke-linecap:butt; stroke-linejoin:round; stroke-width:2; stroke-opacity:0.1; fill:none\" points=\"\n",
       "  422.722,1486.45 422.722,47.2441 \n",
       "  \"/>\n",
       "<polyline clip-path=\"url(#clip852)\" style=\"stroke:#000000; stroke-linecap:butt; stroke-linejoin:round; stroke-width:2; stroke-opacity:0.1; fill:none\" points=\"\n",
       "  977.042,1486.45 977.042,47.2441 \n",
       "  \"/>\n",
       "<polyline clip-path=\"url(#clip852)\" style=\"stroke:#000000; stroke-linecap:butt; stroke-linejoin:round; stroke-width:2; stroke-opacity:0.1; fill:none\" points=\"\n",
       "  1531.36,1486.45 1531.36,47.2441 \n",
       "  \"/>\n",
       "<polyline clip-path=\"url(#clip852)\" style=\"stroke:#000000; stroke-linecap:butt; stroke-linejoin:round; stroke-width:2; stroke-opacity:0.1; fill:none\" points=\"\n",
       "  2085.68,1486.45 2085.68,47.2441 \n",
       "  \"/>\n",
       "<polyline clip-path=\"url(#clip850)\" style=\"stroke:#000000; stroke-linecap:butt; stroke-linejoin:round; stroke-width:4; stroke-opacity:1; fill:none\" points=\"\n",
       "  112.177,1486.45 2352.76,1486.45 \n",
       "  \"/>\n",
       "<polyline clip-path=\"url(#clip850)\" style=\"stroke:#000000; stroke-linecap:butt; stroke-linejoin:round; stroke-width:4; stroke-opacity:1; fill:none\" points=\"\n",
       "  422.722,1486.45 422.722,1467.55 \n",
       "  \"/>\n",
       "<polyline clip-path=\"url(#clip850)\" style=\"stroke:#000000; stroke-linecap:butt; stroke-linejoin:round; stroke-width:4; stroke-opacity:1; fill:none\" points=\"\n",
       "  977.042,1486.45 977.042,1467.55 \n",
       "  \"/>\n",
       "<polyline clip-path=\"url(#clip850)\" style=\"stroke:#000000; stroke-linecap:butt; stroke-linejoin:round; stroke-width:4; stroke-opacity:1; fill:none\" points=\"\n",
       "  1531.36,1486.45 1531.36,1467.55 \n",
       "  \"/>\n",
       "<polyline clip-path=\"url(#clip850)\" style=\"stroke:#000000; stroke-linecap:butt; stroke-linejoin:round; stroke-width:4; stroke-opacity:1; fill:none\" points=\"\n",
       "  2085.68,1486.45 2085.68,1467.55 \n",
       "  \"/>\n",
       "<path clip-path=\"url(#clip850)\" d=\"M369.169 1532.02 L398.844 1532.02 L398.844 1535.95 L369.169 1535.95 L369.169 1532.02 Z\" fill=\"#000000\" fill-rule=\"evenodd\" fill-opacity=\"1\" /><path clip-path=\"url(#clip850)\" d=\"M409.747 1544.91 L417.386 1544.91 L417.386 1518.55 L409.076 1520.21 L409.076 1515.95 L417.34 1514.29 L422.016 1514.29 L422.016 1544.91 L429.654 1544.91 L429.654 1548.85 L409.747 1548.85 L409.747 1544.91 Z\" fill=\"#000000\" fill-rule=\"evenodd\" fill-opacity=\"1\" /><path clip-path=\"url(#clip850)\" d=\"M439.099 1542.97 L443.983 1542.97 L443.983 1548.85 L439.099 1548.85 L439.099 1542.97 Z\" fill=\"#000000\" fill-rule=\"evenodd\" fill-opacity=\"1\" /><path clip-path=\"url(#clip850)\" d=\"M464.747 1529.7 Q461.599 1529.7 459.747 1531.86 Q457.918 1534.01 457.918 1537.76 Q457.918 1541.49 459.747 1543.66 Q461.599 1545.82 464.747 1545.82 Q467.895 1545.82 469.724 1543.66 Q471.575 1541.49 471.575 1537.76 Q471.575 1534.01 469.724 1531.86 Q467.895 1529.7 464.747 1529.7 M474.029 1515.05 L474.029 1519.31 Q472.27 1518.48 470.464 1518.04 Q468.682 1517.6 466.923 1517.6 Q462.293 1517.6 459.839 1520.72 Q457.409 1523.85 457.062 1530.17 Q458.427 1528.15 460.488 1527.09 Q462.548 1526 465.025 1526 Q470.233 1526 473.242 1529.17 Q476.275 1532.32 476.275 1537.76 Q476.275 1543.08 473.126 1546.3 Q469.978 1549.52 464.747 1549.52 Q458.751 1549.52 455.58 1544.94 Q452.409 1540.33 452.409 1531.6 Q452.409 1523.41 456.298 1518.55 Q460.187 1513.66 466.738 1513.66 Q468.497 1513.66 470.279 1514.01 Q472.085 1514.36 474.029 1515.05 Z\" fill=\"#000000\" fill-rule=\"evenodd\" fill-opacity=\"1\" /><path clip-path=\"url(#clip850)\" d=\"M923.327 1532.02 L953.003 1532.02 L953.003 1535.95 L923.327 1535.95 L923.327 1532.02 Z\" fill=\"#000000\" fill-rule=\"evenodd\" fill-opacity=\"1\" /><path clip-path=\"url(#clip850)\" d=\"M963.906 1544.91 L971.545 1544.91 L971.545 1518.55 L963.235 1520.21 L963.235 1515.95 L971.499 1514.29 L976.174 1514.29 L976.174 1544.91 L983.813 1544.91 L983.813 1548.85 L963.906 1548.85 L963.906 1544.91 Z\" fill=\"#000000\" fill-rule=\"evenodd\" fill-opacity=\"1\" /><path clip-path=\"url(#clip850)\" d=\"M993.258 1542.97 L998.142 1542.97 L998.142 1548.85 L993.258 1548.85 L993.258 1542.97 Z\" fill=\"#000000\" fill-rule=\"evenodd\" fill-opacity=\"1\" /><path clip-path=\"url(#clip850)\" d=\"M1021.17 1518.36 L1009.37 1536.81 L1021.17 1536.81 L1021.17 1518.36 M1019.95 1514.29 L1025.83 1514.29 L1025.83 1536.81 L1030.76 1536.81 L1030.76 1540.7 L1025.83 1540.7 L1025.83 1548.85 L1021.17 1548.85 L1021.17 1540.7 L1005.57 1540.7 L1005.57 1536.19 L1019.95 1514.29 Z\" fill=\"#000000\" fill-rule=\"evenodd\" fill-opacity=\"1\" /><path clip-path=\"url(#clip850)\" d=\"M1478.69 1532.02 L1508.37 1532.02 L1508.37 1535.95 L1478.69 1535.95 L1478.69 1532.02 Z\" fill=\"#000000\" fill-rule=\"evenodd\" fill-opacity=\"1\" /><path clip-path=\"url(#clip850)\" d=\"M1519.27 1544.91 L1526.91 1544.91 L1526.91 1518.55 L1518.6 1520.21 L1518.6 1515.95 L1526.86 1514.29 L1531.54 1514.29 L1531.54 1544.91 L1539.18 1544.91 L1539.18 1548.85 L1519.27 1548.85 L1519.27 1544.91 Z\" fill=\"#000000\" fill-rule=\"evenodd\" fill-opacity=\"1\" /><path clip-path=\"url(#clip850)\" d=\"M1548.62 1542.97 L1553.5 1542.97 L1553.5 1548.85 L1548.62 1548.85 L1548.62 1542.97 Z\" fill=\"#000000\" fill-rule=\"evenodd\" fill-opacity=\"1\" /><path clip-path=\"url(#clip850)\" d=\"M1567.72 1544.91 L1584.04 1544.91 L1584.04 1548.85 L1562.09 1548.85 L1562.09 1544.91 Q1564.75 1542.16 1569.34 1537.53 Q1573.94 1532.88 1575.12 1531.53 Q1577.37 1529.01 1578.25 1527.27 Q1579.15 1525.51 1579.15 1523.82 Q1579.15 1521.07 1577.21 1519.33 Q1575.29 1517.6 1572.18 1517.6 Q1569.99 1517.6 1567.53 1518.36 Q1565.1 1519.13 1562.32 1520.68 L1562.32 1515.95 Q1565.15 1514.82 1567.6 1514.24 Q1570.06 1513.66 1572.09 1513.66 Q1577.46 1513.66 1580.66 1516.35 Q1583.85 1519.03 1583.85 1523.52 Q1583.85 1525.65 1583.04 1527.57 Q1582.25 1529.47 1580.15 1532.07 Q1579.57 1532.74 1576.47 1535.95 Q1573.37 1539.15 1567.72 1544.91 Z\" fill=\"#000000\" fill-rule=\"evenodd\" fill-opacity=\"1\" /><path clip-path=\"url(#clip850)\" d=\"M2032.21 1532.02 L2061.89 1532.02 L2061.89 1535.95 L2032.21 1535.95 L2032.21 1532.02 Z\" fill=\"#000000\" fill-rule=\"evenodd\" fill-opacity=\"1\" /><path clip-path=\"url(#clip850)\" d=\"M2072.79 1544.91 L2080.43 1544.91 L2080.43 1518.55 L2072.12 1520.21 L2072.12 1515.95 L2080.38 1514.29 L2085.06 1514.29 L2085.06 1544.91 L2092.7 1544.91 L2092.7 1548.85 L2072.79 1548.85 L2072.79 1544.91 Z\" fill=\"#000000\" fill-rule=\"evenodd\" fill-opacity=\"1\" /><path clip-path=\"url(#clip850)\" d=\"M2102.14 1542.97 L2107.03 1542.97 L2107.03 1548.85 L2102.14 1548.85 L2102.14 1542.97 Z\" fill=\"#000000\" fill-rule=\"evenodd\" fill-opacity=\"1\" /><path clip-path=\"url(#clip850)\" d=\"M2127.21 1517.37 Q2123.6 1517.37 2121.77 1520.93 Q2119.97 1524.47 2119.97 1531.6 Q2119.97 1538.71 2121.77 1542.27 Q2123.6 1545.82 2127.21 1545.82 Q2130.85 1545.82 2132.65 1542.27 Q2134.48 1538.71 2134.48 1531.6 Q2134.48 1524.47 2132.65 1520.93 Q2130.85 1517.37 2127.21 1517.37 M2127.21 1513.66 Q2133.02 1513.66 2136.08 1518.27 Q2139.16 1522.85 2139.16 1531.6 Q2139.16 1540.33 2136.08 1544.94 Q2133.02 1549.52 2127.21 1549.52 Q2121.4 1549.52 2118.32 1544.94 Q2115.27 1540.33 2115.27 1531.6 Q2115.27 1522.85 2118.32 1518.27 Q2121.4 1513.66 2127.21 1513.66 Z\" fill=\"#000000\" fill-rule=\"evenodd\" fill-opacity=\"1\" /><polyline clip-path=\"url(#clip852)\" style=\"stroke:#000000; stroke-linecap:butt; stroke-linejoin:round; stroke-width:2; stroke-opacity:0.1; fill:none\" points=\"\n",
       "  112.177,1445.87 2352.76,1445.87 \n",
       "  \"/>\n",
       "<polyline clip-path=\"url(#clip852)\" style=\"stroke:#000000; stroke-linecap:butt; stroke-linejoin:round; stroke-width:2; stroke-opacity:0.1; fill:none\" points=\"\n",
       "  112.177,1185.52 2352.76,1185.52 \n",
       "  \"/>\n",
       "<polyline clip-path=\"url(#clip852)\" style=\"stroke:#000000; stroke-linecap:butt; stroke-linejoin:round; stroke-width:2; stroke-opacity:0.1; fill:none\" points=\"\n",
       "  112.177,925.172 2352.76,925.172 \n",
       "  \"/>\n",
       "<polyline clip-path=\"url(#clip852)\" style=\"stroke:#000000; stroke-linecap:butt; stroke-linejoin:round; stroke-width:2; stroke-opacity:0.1; fill:none\" points=\"\n",
       "  112.177,664.822 2352.76,664.822 \n",
       "  \"/>\n",
       "<polyline clip-path=\"url(#clip852)\" style=\"stroke:#000000; stroke-linecap:butt; stroke-linejoin:round; stroke-width:2; stroke-opacity:0.1; fill:none\" points=\"\n",
       "  112.177,404.472 2352.76,404.472 \n",
       "  \"/>\n",
       "<polyline clip-path=\"url(#clip852)\" style=\"stroke:#000000; stroke-linecap:butt; stroke-linejoin:round; stroke-width:2; stroke-opacity:0.1; fill:none\" points=\"\n",
       "  112.177,144.121 2352.76,144.121 \n",
       "  \"/>\n",
       "<polyline clip-path=\"url(#clip850)\" style=\"stroke:#000000; stroke-linecap:butt; stroke-linejoin:round; stroke-width:4; stroke-opacity:1; fill:none\" points=\"\n",
       "  112.177,1486.45 112.177,47.2441 \n",
       "  \"/>\n",
       "<polyline clip-path=\"url(#clip850)\" style=\"stroke:#000000; stroke-linecap:butt; stroke-linejoin:round; stroke-width:4; stroke-opacity:1; fill:none\" points=\"\n",
       "  112.177,1445.87 131.075,1445.87 \n",
       "  \"/>\n",
       "<polyline clip-path=\"url(#clip850)\" style=\"stroke:#000000; stroke-linecap:butt; stroke-linejoin:round; stroke-width:4; stroke-opacity:1; fill:none\" points=\"\n",
       "  112.177,1185.52 131.075,1185.52 \n",
       "  \"/>\n",
       "<polyline clip-path=\"url(#clip850)\" style=\"stroke:#000000; stroke-linecap:butt; stroke-linejoin:round; stroke-width:4; stroke-opacity:1; fill:none\" points=\"\n",
       "  112.177,925.172 131.075,925.172 \n",
       "  \"/>\n",
       "<polyline clip-path=\"url(#clip850)\" style=\"stroke:#000000; stroke-linecap:butt; stroke-linejoin:round; stroke-width:4; stroke-opacity:1; fill:none\" points=\"\n",
       "  112.177,664.822 131.075,664.822 \n",
       "  \"/>\n",
       "<polyline clip-path=\"url(#clip850)\" style=\"stroke:#000000; stroke-linecap:butt; stroke-linejoin:round; stroke-width:4; stroke-opacity:1; fill:none\" points=\"\n",
       "  112.177,404.472 131.075,404.472 \n",
       "  \"/>\n",
       "<polyline clip-path=\"url(#clip850)\" style=\"stroke:#000000; stroke-linecap:butt; stroke-linejoin:round; stroke-width:4; stroke-opacity:1; fill:none\" points=\"\n",
       "  112.177,144.121 131.075,144.121 \n",
       "  \"/>\n",
       "<path clip-path=\"url(#clip850)\" d=\"M64.2328 1431.67 Q60.6217 1431.67 58.793 1435.24 Q56.9875 1438.78 56.9875 1445.91 Q56.9875 1453.01 58.793 1456.58 Q60.6217 1460.12 64.2328 1460.12 Q67.867 1460.12 69.6726 1456.58 Q71.5013 1453.01 71.5013 1445.91 Q71.5013 1438.78 69.6726 1435.24 Q67.867 1431.67 64.2328 1431.67 M64.2328 1427.97 Q70.0429 1427.97 73.0985 1432.57 Q76.1772 1437.16 76.1772 1445.91 Q76.1772 1454.63 73.0985 1459.24 Q70.0429 1463.82 64.2328 1463.82 Q58.4226 1463.82 55.344 1459.24 Q52.2884 1454.63 52.2884 1445.91 Q52.2884 1437.16 55.344 1432.57 Q58.4226 1427.97 64.2328 1427.97 Z\" fill=\"#000000\" fill-rule=\"evenodd\" fill-opacity=\"1\" /><path clip-path=\"url(#clip850)\" d=\"M56.2699 1198.87 L63.9087 1198.87 L63.9087 1172.5 L55.5986 1174.17 L55.5986 1169.91 L63.8624 1168.24 L68.5383 1168.24 L68.5383 1198.87 L76.1772 1198.87 L76.1772 1202.8 L56.2699 1202.8 L56.2699 1198.87 Z\" fill=\"#000000\" fill-rule=\"evenodd\" fill-opacity=\"1\" /><path clip-path=\"url(#clip850)\" d=\"M59.8578 938.517 L76.1772 938.517 L76.1772 942.452 L54.2328 942.452 L54.2328 938.517 Q56.8949 935.763 61.4782 931.133 Q66.0846 926.48 67.2652 925.138 Q69.5105 922.614 70.3902 920.878 Q71.2929 919.119 71.2929 917.429 Q71.2929 914.675 69.3485 912.939 Q67.4272 911.202 64.3254 911.202 Q62.1263 911.202 59.6726 911.966 Q57.2421 912.73 54.4643 914.281 L54.4643 909.559 Q57.2884 908.425 59.7421 907.846 Q62.1958 907.267 64.2328 907.267 Q69.6031 907.267 72.7976 909.952 Q75.992 912.638 75.992 917.128 Q75.992 919.258 75.1818 921.179 Q74.3948 923.077 72.2883 925.67 Q71.7096 926.341 68.6078 929.559 Q65.5059 932.753 59.8578 938.517 Z\" fill=\"#000000\" fill-rule=\"evenodd\" fill-opacity=\"1\" /><path clip-path=\"url(#clip850)\" d=\"M69.0476 663.468 Q72.404 664.185 74.279 666.454 Q76.1772 668.722 76.1772 672.056 Q76.1772 677.171 72.6587 679.972 Q69.1402 682.773 62.6587 682.773 Q60.4828 682.773 58.168 682.333 Q55.8764 681.917 53.4227 681.06 L53.4227 676.546 Q55.3671 677.681 57.6819 678.259 Q59.9967 678.838 62.5198 678.838 Q66.918 678.838 69.2096 677.102 Q71.5244 675.366 71.5244 672.056 Q71.5244 669 69.3717 667.287 Q67.242 665.551 63.4226 665.551 L59.3949 665.551 L59.3949 661.709 L63.6078 661.709 Q67.0569 661.709 68.8855 660.343 Q70.7142 658.954 70.7142 656.361 Q70.7142 653.699 68.8161 652.287 Q66.9411 650.852 63.4226 650.852 Q61.5013 650.852 59.3023 651.269 Q57.1032 651.686 54.4643 652.565 L54.4643 648.398 Q57.1264 647.658 59.4412 647.287 Q61.7791 646.917 63.8393 646.917 Q69.1633 646.917 72.2652 649.348 Q75.367 651.755 75.367 655.875 Q75.367 658.746 73.7235 660.736 Q72.08 662.704 69.0476 663.468 Z\" fill=\"#000000\" fill-rule=\"evenodd\" fill-opacity=\"1\" /><path clip-path=\"url(#clip850)\" d=\"M66.5939 391.266 L54.7884 409.715 L66.5939 409.715 L66.5939 391.266 M65.367 387.192 L71.2466 387.192 L71.2466 409.715 L76.1772 409.715 L76.1772 413.604 L71.2466 413.604 L71.2466 421.752 L66.5939 421.752 L66.5939 413.604 L50.9921 413.604 L50.9921 409.09 L65.367 387.192 Z\" fill=\"#000000\" fill-rule=\"evenodd\" fill-opacity=\"1\" /><path clip-path=\"url(#clip850)\" d=\"M55.2745 126.841 L73.6309 126.841 L73.6309 130.777 L59.5569 130.777 L59.5569 139.249 Q60.5754 138.902 61.5939 138.74 Q62.6124 138.554 63.6309 138.554 Q69.418 138.554 72.7976 141.726 Q76.1772 144.897 76.1772 150.314 Q76.1772 155.892 72.705 158.994 Q69.2328 162.073 62.9134 162.073 Q60.7374 162.073 58.4689 161.702 Q56.2236 161.332 53.8162 160.591 L53.8162 155.892 Q55.8995 157.026 58.1217 157.582 Q60.3439 158.138 62.8208 158.138 Q66.8254 158.138 69.1633 156.031 Q71.5013 153.925 71.5013 150.314 Q71.5013 146.702 69.1633 144.596 Q66.8254 142.49 62.8208 142.49 Q60.9458 142.49 59.0708 142.906 Q57.2189 143.323 55.2745 144.202 L55.2745 126.841 Z\" fill=\"#000000\" fill-rule=\"evenodd\" fill-opacity=\"1\" /><polyline clip-path=\"url(#clip852)\" style=\"stroke:#009af9; stroke-linecap:butt; stroke-linejoin:round; stroke-width:4; stroke-opacity:1; fill:none\" points=\"\n",
       "  175.59,1445.72 186.212,1445.69 196.834,1445.64 207.455,1445.55 218.077,1445.43 228.699,1445.24 239.321,1444.99 249.943,1444.63 260.565,1444.16 271.187,1443.52 \n",
       "  281.809,1442.67 292.43,1441.57 303.052,1440.14 313.674,1438.31 324.296,1436.01 334.918,1433.14 345.54,1429.6 356.162,1425.28 366.784,1420.08 377.405,1413.9 \n",
       "  388.027,1406.64 398.649,1398.23 409.271,1388.6 419.893,1377.72 430.515,1365.6 441.137,1352.29 451.759,1337.88 462.38,1322.53 473.002,1306.42 483.624,1289.82 \n",
       "  494.246,1273.02 504.868,1256.36 515.49,1240.2 526.112,1224.95 536.734,1210.97 547.355,1198.66 557.977,1188.34 568.599,1180.33 579.221,1174.85 589.843,1172.08 \n",
       "  600.465,1172.1 611.087,1174.9 621.709,1180.4 632.33,1188.44 642.952,1198.78 653.574,1211.11 664.196,1225.1 674.818,1240.37 685.44,1256.53 696.062,1273.2 \n",
       "  706.684,1290 717.306,1306.6 727.927,1322.69 738.549,1338.04 749.171,1352.43 759.793,1365.73 770.415,1377.83 781.037,1388.69 791.659,1398.3 802.281,1406.69 \n",
       "  812.902,1413.92 823.524,1420.07 834.146,1425.22 844.768,1429.48 855.39,1432.94 866.012,1435.7 876.634,1437.84 887.256,1439.45 897.877,1440.58 908.499,1441.28 \n",
       "  919.121,1441.59 929.743,1441.5 940.365,1441.03 950.987,1440.14 961.609,1438.78 972.231,1436.91 982.852,1434.43 993.474,1431.26 1004.1,1427.28 1014.72,1422.35 \n",
       "  1025.34,1416.36 1035.96,1409.14 1046.58,1400.54 1057.21,1390.4 1067.83,1378.58 1078.45,1364.92 1089.07,1349.28 1099.69,1331.53 1110.31,1311.54 1120.94,1289.22 \n",
       "  1131.56,1264.48 1142.18,1237.24 1152.8,1207.43 1163.42,1175 1174.05,1139.9 1184.67,1102.1 1195.29,1061.56 1205.91,1018.27 1216.53,972.249 1227.16,923.522 \n",
       "  1237.78,872.173 1248.4,818.341 1259.02,762.237 1269.64,704.164 1280.26,644.527 1290.89,583.85 1301.51,522.775 1312.13,462.067 1322.75,402.602 1333.37,345.352 \n",
       "  1344,291.356 1354.62,241.686 1365.24,197.408 1375.86,159.537 1386.48,128.986 1397.11,106.525 1407.73,92.7348 1418.35,87.9763 1428.97,92.3625 1439.59,105.746 \n",
       "  1450.22,127.718 1460.84,157.619 1471.46,194.564 1482.08,237.475 1492.7,285.126 1503.32,336.191 1513.95,389.298 1524.57,443.082 1535.19,496.235 1545.81,547.553 \n",
       "  1556.43,595.973 1567.06,640.607 1577.68,680.759 1588.3,715.938 1598.92,745.862 1609.54,770.446 1620.17,789.791 1630.79,804.162 1641.41,813.965 1652.03,819.714 \n",
       "  1662.65,822.006 1673.27,821.491 1683.9,818.846 1694.52,814.751 1705.14,809.865 1715.76,804.815 1726.38,800.179 1737.01,796.478 1747.63,794.171 1758.25,793.649 \n",
       "  1768.87,795.237 1779.49,799.192 1790.12,805.705 1800.74,814.904 1811.36,826.85 1821.98,841.547 1832.6,858.936 1843.22,878.903 1853.85,901.28 1864.47,925.846 \n",
       "  1875.09,952.335 1885.71,980.44 1896.33,1009.82 1906.96,1040.12 1917.58,1070.95 1928.2,1101.93 1938.82,1132.69 1949.44,1162.86 1960.07,1192.11 1970.69,1220.15 \n",
       "  1981.31,1246.72 1991.93,1271.62 2002.55,1294.69 2013.17,1315.83 2023.8,1334.98 2034.42,1352.15 2045.04,1367.37 2055.66,1380.71 2066.28,1392.27 2076.91,1402.19 \n",
       "  2087.53,1410.61 2098.15,1417.67 2108.77,1423.53 2119.39,1428.34 2130.02,1432.24 2140.64,1435.38 2151.26,1437.88 2161.88,1439.84 2172.5,1441.36 2183.12,1442.53 \n",
       "  2193.75,1443.42 2204.37,1444.09 2214.99,1444.59 2225.61,1444.96 2236.23,1445.23 2246.86,1445.42 2257.48,1445.55 2268.1,1445.64 2278.72,1445.69 2289.34,1445.72 \n",
       "  \n",
       "  \"/>\n",
       "<path clip-path=\"url(#clip850)\" d=\"\n",
       "M1976.69 198.898 L2278.07 198.898 L2278.07 95.2176 L1976.69 95.2176  Z\n",
       "  \" fill=\"#ffffff\" fill-rule=\"evenodd\" fill-opacity=\"1\"/>\n",
       "<polyline clip-path=\"url(#clip850)\" style=\"stroke:#000000; stroke-linecap:butt; stroke-linejoin:round; stroke-width:4; stroke-opacity:1; fill:none\" points=\"\n",
       "  1976.69,198.898 2278.07,198.898 2278.07,95.2176 1976.69,95.2176 1976.69,198.898 \n",
       "  \"/>\n",
       "<polyline clip-path=\"url(#clip850)\" style=\"stroke:#009af9; stroke-linecap:butt; stroke-linejoin:round; stroke-width:4; stroke-opacity:1; fill:none\" points=\"\n",
       "  2001.58,147.058 2150.95,147.058 \n",
       "  \"/>\n",
       "<path clip-path=\"url(#clip850)\" d=\"M2189.69 166.745 Q2187.89 171.375 2186.17 172.787 Q2184.46 174.199 2181.59 174.199 L2178.19 174.199 L2178.19 170.634 L2180.69 170.634 Q2182.45 170.634 2183.42 169.8 Q2184.39 168.967 2185.57 165.865 L2186.34 163.921 L2175.85 138.412 L2180.36 138.412 L2188.46 158.689 L2196.57 138.412 L2201.08 138.412 L2189.69 166.745 Z\" fill=\"#000000\" fill-rule=\"evenodd\" fill-opacity=\"1\" /><path clip-path=\"url(#clip850)\" d=\"M2208.37 160.402 L2216.01 160.402 L2216.01 134.037 L2207.7 135.703 L2207.7 131.444 L2215.96 129.778 L2220.64 129.778 L2220.64 160.402 L2228.28 160.402 L2228.28 164.338 L2208.37 164.338 L2208.37 160.402 Z\" fill=\"#000000\" fill-rule=\"evenodd\" fill-opacity=\"1\" /></svg>\n"
      ]
     },
     "execution_count": 8,
     "metadata": {},
     "output_type": "execute_result"
    }
   ],
   "source": [
    "density(lls)"
   ]
  },
  {
   "cell_type": "code",
   "execution_count": null,
   "id": "960e70ca-0878-4055-84ce-cad6606ab819",
   "metadata": {},
   "outputs": [],
   "source": []
  }
 ],
 "metadata": {
  "kernelspec": {
   "display_name": "Julia 1.7.1",
   "language": "julia",
   "name": "julia-1.7"
  },
  "language_info": {
   "file_extension": ".jl",
   "mimetype": "application/julia",
   "name": "julia",
   "version": "1.7.1"
  }
 },
 "nbformat": 4,
 "nbformat_minor": 5
}
