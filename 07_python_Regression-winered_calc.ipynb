{
 "cells": [
  {
   "cell_type": "code",
   "execution_count": 1,
   "id": "47e7b7ac-76ac-4801-960b-ee0f66229a0e",
   "metadata": {},
   "outputs": [],
   "source": [
    "import numpy as np\n",
    "import pandas as pd\n",
    "import torch\n",
    "import gpytorch\n",
    "import math\n",
    "import matplotlib.pyplot as plt\n",
    "from gpytorch.models import ApproximateGP\n",
    "from gpytorch.variational import CholeskyVariationalDistribution\n",
    "from gpytorch.variational import UnwhitenedVariationalStrategy\n",
    "from sklearn.model_selection import KFold\n",
    "from sklearn.metrics import f1_score\n",
    "from gpytorch.utils.quadrature import GaussHermiteQuadrature1D\n",
    "\n",
    "\n",
    "class GPRegressionModel(ApproximateGP):\n",
    "    \n",
    "    \n",
    "    def __init__(self,inducing_points):\n",
    "        \n",
    "        \n",
    "        variational_distribution = CholeskyVariationalDistribution(inducing_points.size(0))\n",
    "        variational_strategy = UnwhitenedVariationalStrategy(\n",
    "            self, inducing_points, variational_distribution, learn_inducing_locations=True\n",
    "        )\n",
    "        super(GPRegressionModel, self).__init__(variational_strategy)\n",
    "        self.mean_module = gpytorch.means.ConstantMean()\n",
    "        self.covar_module = gpytorch.kernels.ScaleKernel(gpytorch.kernels.RBFKernel())\n",
    "       \n",
    "\n",
    "    def forward(self, x):\n",
    "        mean_x = self.mean_module(x)\n",
    "        covar_x = self.covar_module(x)\n",
    "        latent_pred = gpytorch.distributions.MultivariateNormal(mean_x, covar_x)\n",
    "        return latent_pred\n"
   ]
  },
  {
   "cell_type": "code",
   "execution_count": 2,
   "id": "f91b213f-b873-4832-9917-e48f7bb68a81",
   "metadata": {},
   "outputs": [],
   "source": [
    "import math\n",
    "import warnings\n",
    "from copy import deepcopy\n",
    "from typing import Any, Optional\n",
    "\n",
    "import torch\n",
    "from torch import Tensor\n",
    "\n",
    "from gpytorch.distributions import MultivariateNormal\n",
    "from gpytorch.lazy import ZeroLazyTensor\n",
    "from gpytorch.utils.warnings import GPInputWarning\n",
    "from gpytorch.likelihoods import Likelihood\n"
   ]
  },
  {
   "cell_type": "code",
   "execution_count": 11,
   "id": "4ab156b9-7f6b-4d8c-a72a-d73c01c66a8a",
   "metadata": {},
   "outputs": [],
   "source": [
    "df = pd.read_csv(\"./data/winequality-red.csv\",sep=\";\")\n",
    "\n",
    "X = torch.tensor(df.iloc[:,:-1].values,dtype=torch.float32)\n",
    "y = torch.tensor(df.iloc[:,-1].values,dtype=torch.float32)\n"
   ]
  },
  {
   "cell_type": "code",
   "execution_count": 22,
   "id": "945a137f-01a7-4758-9a15-56fae9ff8e30",
   "metadata": {},
   "outputs": [
    {
     "name": "stdout",
     "output_type": "stream",
     "text": [
      "1\n",
      "2\n",
      "3\n",
      "4\n",
      "5\n",
      "6\n",
      "7\n",
      "8\n",
      "9\n",
      "10\n"
     ]
    }
   ],
   "source": [
    "torch.manual_seed(321)\n",
    "np.random.seed(321)\n",
    "\n",
    "folds = KFold(10)\n",
    "splits = folds.split(X)\n",
    "\n",
    "i = 0\n",
    "\n",
    "lls = []\n",
    "rmses = []\n",
    "\n",
    "for train, test in splits:\n",
    "    \n",
    "    Xtrain = X[train,:]\n",
    "    \n",
    "    Xtrain_mean = np.mean(Xtrain.numpy(),0)\n",
    "    Xtrain_std = np.std(Xtrain.numpy(),0)\n",
    "    Xtrain = (Xtrain - Xtrain_mean) / Xtrain_std\n",
    "    \n",
    "    \n",
    "    Xtest = X[test,:]\n",
    "    Xtest = (Xtest - Xtrain_mean) / Xtrain_std\n",
    "    \n",
    "    ytrain = y[train]\n",
    "    ym = np.mean(ytrain.numpy())\n",
    "    ys = np.std(ytrain.numpy())\n",
    "    ytrain = (ytrain-ym)/ys\n",
    "\n",
    "    \n",
    "    ytest = y[test]\n",
    "    ytest = (ytest-ym)/ys\n",
    "    \n",
    "    Xm = np.mean(X.numpy(),0)\n",
    "    Xs = np.std(X.numpy(),0)\n",
    "\n",
    "    model = GPRegressionModel((X[:30,:]-Xm)/Xs)\n",
    "\n",
    "\n",
    "    likelihood = gpytorch.likelihoods.GaussianLikelihood()\n",
    "    model.train()\n",
    "    likelihood.train()\n",
    "        \n",
    "    optimizer = torch.optim.Adam(model.parameters(), lr=0.05)\n",
    "    \n",
    "    mll = gpytorch.mlls.VariationalELBO(likelihood, model, num_data=len(Xtrain))\n",
    "    \n",
    "    for j in range(350):\n",
    "        optimizer.zero_grad()\n",
    "\n",
    "        samp = np.random.choice(len(Xtrain),100,replace=True)\n",
    "        Xsamp = Xtrain[samp,:]\n",
    "        ysamp = ytrain[samp]\n",
    "        \n",
    "        output = model(Xsamp)\n",
    "        loss = -mll(output, ysamp)\n",
    "        loss.backward()\n",
    "    \n",
    "        optimizer.step()\n",
    "    \n",
    "    \n",
    "\n",
    "    ll = torch.mean(torch.distributions.normal.Normal(model(Xtest).mean,likelihood.noise).log_prob(ytest)).detach().numpy()\n",
    "    lls.append(ll)\n",
    "    \n",
    "    rmse = np.sqrt(np.mean((ytest.detach().numpy()-model(Xtest).mean.detach().numpy())**2))\n",
    "    rmses.append(rmse)\n",
    "\n",
    "\n",
    "    i += 1\n",
    "    print(i)"
   ]
  },
  {
   "cell_type": "code",
   "execution_count": 18,
   "id": "79430701-ccf4-43cb-8f4f-2508e719f5c2",
   "metadata": {},
   "outputs": [
    {
     "data": {
      "text/plain": [
       "-1.2260442"
      ]
     },
     "execution_count": 18,
     "metadata": {},
     "output_type": "execute_result"
    }
   ],
   "source": [
    "np.mean(lls)"
   ]
  },
  {
   "cell_type": "code",
   "execution_count": 19,
   "id": "d9ce198f-62f4-4dbe-b3e1-d55805f3fc9f",
   "metadata": {},
   "outputs": [
    {
     "data": {
      "text/plain": [
       "0.1066122"
      ]
     },
     "execution_count": 19,
     "metadata": {},
     "output_type": "execute_result"
    }
   ],
   "source": [
    "np.std(lls)"
   ]
  },
  {
   "cell_type": "code",
   "execution_count": 20,
   "id": "e64f4389-6d8c-4cf8-b1a3-06a011511b56",
   "metadata": {},
   "outputs": [
    {
     "data": {
      "text/plain": [
       "0.8020487"
      ]
     },
     "execution_count": 20,
     "metadata": {},
     "output_type": "execute_result"
    }
   ],
   "source": [
    "np.mean(rmses)"
   ]
  },
  {
   "cell_type": "code",
   "execution_count": 21,
   "id": "d37b2d84-5923-484a-b6aa-5f0b28f09234",
   "metadata": {},
   "outputs": [
    {
     "data": {
      "text/plain": [
       "0.06364155"
      ]
     },
     "execution_count": 21,
     "metadata": {},
     "output_type": "execute_result"
    }
   ],
   "source": [
    "np.std(rmses)"
   ]
  },
  {
   "cell_type": "code",
   "execution_count": 13,
   "id": "36c38a6d-3d34-422d-8a42-c4781408af6f",
   "metadata": {},
   "outputs": [
    {
     "data": {
      "text/plain": [
       "[0.46849775,\n",
       " 0.46849775,\n",
       " 0.46849775,\n",
       " 0.46849775,\n",
       " 0.46849775,\n",
       " 0.46849775,\n",
       " 0.46849775,\n",
       " 0.46849775,\n",
       " 0.46849775,\n",
       " 0.46849775]"
      ]
     },
     "execution_count": 13,
     "metadata": {},
     "output_type": "execute_result"
    }
   ],
   "source": []
  },
  {
   "cell_type": "code",
   "execution_count": null,
   "id": "a16774c0-8a2c-4dda-885a-6f04cd763ed4",
   "metadata": {},
   "outputs": [],
   "source": []
  }
 ],
 "metadata": {
  "kernelspec": {
   "display_name": "Python 3",
   "language": "python",
   "name": "python3"
  },
  "language_info": {
   "codemirror_mode": {
    "name": "ipython",
    "version": 3
   },
   "file_extension": ".py",
   "mimetype": "text/x-python",
   "name": "python",
   "nbconvert_exporter": "python",
   "pygments_lexer": "ipython3",
   "version": "3.7.3"
  }
 },
 "nbformat": 4,
 "nbformat_minor": 5
}
