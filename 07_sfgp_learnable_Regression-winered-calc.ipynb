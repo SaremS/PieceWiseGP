{
 "cells": [
  {
   "cell_type": "code",
   "execution_count": 1,
   "id": "306f139c-fd46-4b96-aa35-18a9af0ea356",
   "metadata": {},
   "outputs": [],
   "source": [
    "using Plots, StatsPlots\n",
    "include(\"src/SFGP_regression-learnable.jl\")\n",
    "using Flux\n",
    "using StatsBase\n",
    "using CSV, DataFrames\n",
    "using ScikitLearn\n",
    "using KnetMetrics\n",
    "using Tables"
   ]
  },
  {
   "cell_type": "code",
   "execution_count": 2,
   "id": "4d8d82db-dc0c-4615-83d9-4d6ceddc4c18",
   "metadata": {},
   "outputs": [
    {
     "data": {
      "text/plain": [
       "1×1599 Matrix{Float64}:\n",
       " 5.0  5.0  5.0  6.0  5.0  5.0  5.0  7.0  …  6.0  6.0  5.0  6.0  6.0  5.0  6.0"
      ]
     },
     "execution_count": 2,
     "metadata": {},
     "output_type": "execute_result"
    }
   ],
   "source": [
    "df = Matrix(CSV.File(\"./data/winequality-red.csv\") |> DataFrame)\n",
    "X = Matrix(transpose(df[:,1:end-1]))\n",
    "y = Matrix(transpose(df[:,end:end]))\n"
   ]
  },
  {
   "cell_type": "code",
   "execution_count": 3,
   "id": "bc10b27b-0984-4a9f-8c61-3bfb8e4f9830",
   "metadata": {},
   "outputs": [
    {
     "data": {
      "text/plain": [
       "getRMSE (generic function with 1 method)"
      ]
     },
     "execution_count": 3,
     "metadata": {},
     "output_type": "execute_result"
    }
   ],
   "source": [
    "function getLoglike(mm::SFGP,X,y)\n",
    "    \n",
    "    m,S = mm.gp(X)\n",
    "    s = Matrix(transpose(sqrt.(diag(S))[:,:]))\n",
    "    \n",
    "    probs = getProbs.(m,s,mm.lower,mm.upper)\n",
    "    vals = (mm.vals) \n",
    "    \n",
    "\n",
    "    return mean(logpdf.([MixtureModel(Normal.(vals,abs(mm.s[1,1])),p) for p in Flux.unstack(probs,2)],y[:]))\n",
    "end\n",
    "\n",
    "\n",
    "function getRMSE(mm::SFGP,X,y)\n",
    "    \n",
    "    m,S = mm.gp(X)\n",
    "    s = Matrix(transpose(sqrt.(diag(S))[:,:]))\n",
    "    \n",
    "    probs = getProbs.(m,s,mm.lower,mm.upper)\n",
    "    vals = (mm.vals) \n",
    "    \n",
    "    \n",
    "    return sqrt.(mean(((sum(probs.*vals,dims=1).-y).^2)))\n",
    "    \n",
    "end"
   ]
  },
  {
   "cell_type": "code",
   "execution_count": 4,
   "id": "d0107415-7066-44f6-8744-b88e5c0ab64a",
   "metadata": {},
   "outputs": [
    {
     "name": "stdout",
     "output_type": "stream",
     "text": [
      "1\n",
      "2\n",
      "3\n",
      "4\n",
      "5\n",
      "6\n",
      "7\n",
      "8\n",
      "9\n",
      "10\n"
     ]
    }
   ],
   "source": [
    "import Random\n",
    "Random.seed!(321)\n",
    "\n",
    "folds = ScikitLearn.CrossValidation.KFold(size(X,2),n_folds=10)\n",
    "\n",
    "lls = []\n",
    "rmses = []\n",
    "i = 0\n",
    "\n",
    "for (train, test) in folds\n",
    "\n",
    "    Xm = mean(X,dims=2)\n",
    "    Xs = std(X,dims=2)\n",
    "    sfgp = SFGP(SVGP((X[:,1:10] .- Xm)./Xs),20,3)\n",
    "    \n",
    "    params = Flux.params(sfgp)\n",
    "    opt = ADAM(0.05)\n",
    "    \n",
    "    Xtrain = X[:,train]\n",
    "    \n",
    "    mean_train = mean(Xtrain,dims=2)\n",
    "    std_train = std(Xtrain,dims=2)\n",
    "    Xtrain = (Xtrain.-mean_train) ./ std_train\n",
    "    \n",
    "    Xtest = X[:,test]\n",
    "    Xtest = (Xtest.-mean_train) ./ std_train\n",
    "    \n",
    "    ytrain = y[:,train]\n",
    "    ytest = y[:,test]\n",
    "    mean_ytrain = mean(ytrain)\n",
    "    std_ytrain = std(ytrain)\n",
    "    ytrain = (ytrain.-mean_ytrain)./std_ytrain\n",
    "    ytest = (ytest.-mean_ytrain)./std_ytrain\n",
    "    \n",
    "    for i in 1:350\n",
    "        grads = Zygote.gradient(() -> sample_elbo(sfgp,Xtrain,ytrain),params)\n",
    "        Flux.Optimise.update!(opt,params,grads)\n",
    "    end\n",
    "    \n",
    "    push!(lls, getLoglike(sfgp,Xtest,ytest))\n",
    "    push!(rmses, getRMSE(sfgp,Xtest,ytest))\n",
    "    \n",
    "    i = i+1\n",
    "    println(i)\n",
    "end"
   ]
  },
  {
   "cell_type": "code",
   "execution_count": 5,
   "id": "52730c37-c383-4ef7-906c-405a164846cb",
   "metadata": {},
   "outputs": [
    {
     "name": "stdout",
     "output_type": "stream",
     "text": [
      "-1.2054053289444497\n",
      "0.08065516935540683\n"
     ]
    }
   ],
   "source": [
    "println(mean(lls))\n",
    "println(std(lls))"
   ]
  },
  {
   "cell_type": "code",
   "execution_count": 6,
   "id": "f47f9e15-fad9-4e4f-8468-2d6aea0bb8e1",
   "metadata": {},
   "outputs": [
    {
     "name": "stdout",
     "output_type": "stream",
     "text": [
      "0.8070106667297076\n",
      "0.07072600263115764\n"
     ]
    }
   ],
   "source": [
    "println(mean((rmses)))\n",
    "println(std((rmses)))"
   ]
  },
  {
   "cell_type": "code",
   "execution_count": 7,
   "id": "59c484da-e2fe-4c27-b396-5150c0c21cc6",
   "metadata": {},
   "outputs": [
    {
     "data": {
      "text/plain": [
       "\"./evals/sfgp_learnable_regression_winered.csv\""
      ]
     },
     "execution_count": 7,
     "metadata": {},
     "output_type": "execute_result"
    }
   ],
   "source": [
    "df = DataFrame(hcat(lls,rmses),[:loglike,:rmse])\n",
    "CSV.write(\"./evals/sfgp_learnable_regression_winered.csv\",  df)"
   ]
  },
  {
   "cell_type": "code",
   "execution_count": 8,
   "id": "ca9ee484-2172-499a-85fe-39b85e9b8536",
   "metadata": {},
   "outputs": [
    {
     "data": {
      "image/svg+xml": [
       "<?xml version=\"1.0\" encoding=\"utf-8\"?>\n",
       "<svg xmlns=\"http://www.w3.org/2000/svg\" xmlns:xlink=\"http://www.w3.org/1999/xlink\" width=\"600\" height=\"400\" viewBox=\"0 0 2400 1600\">\n",
       "<defs>\n",
       "  <clipPath id=\"clip330\">\n",
       "    <rect x=\"0\" y=\"0\" width=\"2400\" height=\"1600\"/>\n",
       "  </clipPath>\n",
       "</defs>\n",
       "<path clip-path=\"url(#clip330)\" d=\"\n",
       "M0 1600 L2400 1600 L2400 0 L0 0  Z\n",
       "  \" fill=\"#ffffff\" fill-rule=\"evenodd\" fill-opacity=\"1\"/>\n",
       "<defs>\n",
       "  <clipPath id=\"clip331\">\n",
       "    <rect x=\"480\" y=\"0\" width=\"1681\" height=\"1600\"/>\n",
       "  </clipPath>\n",
       "</defs>\n",
       "<path clip-path=\"url(#clip330)\" d=\"\n",
       "M112.177 1486.45 L2352.76 1486.45 L2352.76 47.2441 L112.177 47.2441  Z\n",
       "  \" fill=\"#ffffff\" fill-rule=\"evenodd\" fill-opacity=\"1\"/>\n",
       "<defs>\n",
       "  <clipPath id=\"clip332\">\n",
       "    <rect x=\"112\" y=\"47\" width=\"2242\" height=\"1440\"/>\n",
       "  </clipPath>\n",
       "</defs>\n",
       "<polyline clip-path=\"url(#clip332)\" style=\"stroke:#000000; stroke-linecap:butt; stroke-linejoin:round; stroke-width:2; stroke-opacity:0.1; fill:none\" points=\"\n",
       "  274.971,1486.45 274.971,47.2441 \n",
       "  \"/>\n",
       "<polyline clip-path=\"url(#clip332)\" style=\"stroke:#000000; stroke-linecap:butt; stroke-linejoin:round; stroke-width:2; stroke-opacity:0.1; fill:none\" points=\"\n",
       "  603.023,1486.45 603.023,47.2441 \n",
       "  \"/>\n",
       "<polyline clip-path=\"url(#clip332)\" style=\"stroke:#000000; stroke-linecap:butt; stroke-linejoin:round; stroke-width:2; stroke-opacity:0.1; fill:none\" points=\"\n",
       "  931.075,1486.45 931.075,47.2441 \n",
       "  \"/>\n",
       "<polyline clip-path=\"url(#clip332)\" style=\"stroke:#000000; stroke-linecap:butt; stroke-linejoin:round; stroke-width:2; stroke-opacity:0.1; fill:none\" points=\"\n",
       "  1259.13,1486.45 1259.13,47.2441 \n",
       "  \"/>\n",
       "<polyline clip-path=\"url(#clip332)\" style=\"stroke:#000000; stroke-linecap:butt; stroke-linejoin:round; stroke-width:2; stroke-opacity:0.1; fill:none\" points=\"\n",
       "  1587.18,1486.45 1587.18,47.2441 \n",
       "  \"/>\n",
       "<polyline clip-path=\"url(#clip332)\" style=\"stroke:#000000; stroke-linecap:butt; stroke-linejoin:round; stroke-width:2; stroke-opacity:0.1; fill:none\" points=\"\n",
       "  1915.23,1486.45 1915.23,47.2441 \n",
       "  \"/>\n",
       "<polyline clip-path=\"url(#clip332)\" style=\"stroke:#000000; stroke-linecap:butt; stroke-linejoin:round; stroke-width:2; stroke-opacity:0.1; fill:none\" points=\"\n",
       "  2243.28,1486.45 2243.28,47.2441 \n",
       "  \"/>\n",
       "<polyline clip-path=\"url(#clip330)\" style=\"stroke:#000000; stroke-linecap:butt; stroke-linejoin:round; stroke-width:4; stroke-opacity:1; fill:none\" points=\"\n",
       "  112.177,1486.45 2352.76,1486.45 \n",
       "  \"/>\n",
       "<polyline clip-path=\"url(#clip330)\" style=\"stroke:#000000; stroke-linecap:butt; stroke-linejoin:round; stroke-width:4; stroke-opacity:1; fill:none\" points=\"\n",
       "  274.971,1486.45 274.971,1467.55 \n",
       "  \"/>\n",
       "<polyline clip-path=\"url(#clip330)\" style=\"stroke:#000000; stroke-linecap:butt; stroke-linejoin:round; stroke-width:4; stroke-opacity:1; fill:none\" points=\"\n",
       "  603.023,1486.45 603.023,1467.55 \n",
       "  \"/>\n",
       "<polyline clip-path=\"url(#clip330)\" style=\"stroke:#000000; stroke-linecap:butt; stroke-linejoin:round; stroke-width:4; stroke-opacity:1; fill:none\" points=\"\n",
       "  931.075,1486.45 931.075,1467.55 \n",
       "  \"/>\n",
       "<polyline clip-path=\"url(#clip330)\" style=\"stroke:#000000; stroke-linecap:butt; stroke-linejoin:round; stroke-width:4; stroke-opacity:1; fill:none\" points=\"\n",
       "  1259.13,1486.45 1259.13,1467.55 \n",
       "  \"/>\n",
       "<polyline clip-path=\"url(#clip330)\" style=\"stroke:#000000; stroke-linecap:butt; stroke-linejoin:round; stroke-width:4; stroke-opacity:1; fill:none\" points=\"\n",
       "  1587.18,1486.45 1587.18,1467.55 \n",
       "  \"/>\n",
       "<polyline clip-path=\"url(#clip330)\" style=\"stroke:#000000; stroke-linecap:butt; stroke-linejoin:round; stroke-width:4; stroke-opacity:1; fill:none\" points=\"\n",
       "  1915.23,1486.45 1915.23,1467.55 \n",
       "  \"/>\n",
       "<polyline clip-path=\"url(#clip330)\" style=\"stroke:#000000; stroke-linecap:butt; stroke-linejoin:round; stroke-width:4; stroke-opacity:1; fill:none\" points=\"\n",
       "  2243.28,1486.45 2243.28,1467.55 \n",
       "  \"/>\n",
       "<path clip-path=\"url(#clip330)\" d=\"M221.997 1532.02 L251.673 1532.02 L251.673 1535.95 L221.997 1535.95 L221.997 1532.02 Z\" fill=\"#000000\" fill-rule=\"evenodd\" fill-opacity=\"1\" /><path clip-path=\"url(#clip330)\" d=\"M262.575 1544.91 L270.214 1544.91 L270.214 1518.55 L261.904 1520.21 L261.904 1515.95 L270.168 1514.29 L274.844 1514.29 L274.844 1544.91 L282.483 1544.91 L282.483 1548.85 L262.575 1548.85 L262.575 1544.91 Z\" fill=\"#000000\" fill-rule=\"evenodd\" fill-opacity=\"1\" /><path clip-path=\"url(#clip330)\" d=\"M291.927 1542.97 L296.811 1542.97 L296.811 1548.85 L291.927 1548.85 L291.927 1542.97 Z\" fill=\"#000000\" fill-rule=\"evenodd\" fill-opacity=\"1\" /><path clip-path=\"url(#clip330)\" d=\"M307.043 1514.29 L325.399 1514.29 L325.399 1518.22 L311.325 1518.22 L311.325 1526.7 Q312.343 1526.35 313.362 1526.19 Q314.381 1526 315.399 1526 Q321.186 1526 324.566 1529.17 Q327.945 1532.34 327.945 1537.76 Q327.945 1543.34 324.473 1546.44 Q321.001 1549.52 314.681 1549.52 Q312.506 1549.52 310.237 1549.15 Q307.992 1548.78 305.584 1548.04 L305.584 1543.34 Q307.668 1544.47 309.89 1545.03 Q312.112 1545.58 314.589 1545.58 Q318.593 1545.58 320.931 1543.48 Q323.269 1541.37 323.269 1537.76 Q323.269 1534.15 320.931 1532.04 Q318.593 1529.94 314.589 1529.94 Q312.714 1529.94 310.839 1530.35 Q308.987 1530.77 307.043 1531.65 L307.043 1514.29 Z\" fill=\"#000000\" fill-rule=\"evenodd\" fill-opacity=\"1\" /><path clip-path=\"url(#clip330)\" d=\"M549.308 1532.02 L578.984 1532.02 L578.984 1535.95 L549.308 1535.95 L549.308 1532.02 Z\" fill=\"#000000\" fill-rule=\"evenodd\" fill-opacity=\"1\" /><path clip-path=\"url(#clip330)\" d=\"M589.887 1544.91 L597.526 1544.91 L597.526 1518.55 L589.215 1520.21 L589.215 1515.95 L597.479 1514.29 L602.155 1514.29 L602.155 1544.91 L609.794 1544.91 L609.794 1548.85 L589.887 1548.85 L589.887 1544.91 Z\" fill=\"#000000\" fill-rule=\"evenodd\" fill-opacity=\"1\" /><path clip-path=\"url(#clip330)\" d=\"M619.238 1542.97 L624.123 1542.97 L624.123 1548.85 L619.238 1548.85 L619.238 1542.97 Z\" fill=\"#000000\" fill-rule=\"evenodd\" fill-opacity=\"1\" /><path clip-path=\"url(#clip330)\" d=\"M647.155 1518.36 L635.349 1536.81 L647.155 1536.81 L647.155 1518.36 M645.928 1514.29 L651.808 1514.29 L651.808 1536.81 L656.738 1536.81 L656.738 1540.7 L651.808 1540.7 L651.808 1548.85 L647.155 1548.85 L647.155 1540.7 L631.553 1540.7 L631.553 1536.19 L645.928 1514.29 Z\" fill=\"#000000\" fill-rule=\"evenodd\" fill-opacity=\"1\" /><path clip-path=\"url(#clip330)\" d=\"M877.928 1532.02 L907.603 1532.02 L907.603 1535.95 L877.928 1535.95 L877.928 1532.02 Z\" fill=\"#000000\" fill-rule=\"evenodd\" fill-opacity=\"1\" /><path clip-path=\"url(#clip330)\" d=\"M918.506 1544.91 L926.145 1544.91 L926.145 1518.55 L917.835 1520.21 L917.835 1515.95 L926.099 1514.29 L930.774 1514.29 L930.774 1544.91 L938.413 1544.91 L938.413 1548.85 L918.506 1548.85 L918.506 1544.91 Z\" fill=\"#000000\" fill-rule=\"evenodd\" fill-opacity=\"1\" /><path clip-path=\"url(#clip330)\" d=\"M947.858 1542.97 L952.742 1542.97 L952.742 1548.85 L947.858 1548.85 L947.858 1542.97 Z\" fill=\"#000000\" fill-rule=\"evenodd\" fill-opacity=\"1\" /><path clip-path=\"url(#clip330)\" d=\"M977.094 1530.21 Q980.45 1530.93 982.325 1533.2 Q984.223 1535.47 984.223 1538.8 Q984.223 1543.92 980.705 1546.72 Q977.186 1549.52 970.705 1549.52 Q968.529 1549.52 966.214 1549.08 Q963.922 1548.66 961.469 1547.81 L961.469 1543.29 Q963.413 1544.43 965.728 1545.01 Q968.043 1545.58 970.566 1545.58 Q974.964 1545.58 977.256 1543.85 Q979.57 1542.11 979.57 1538.8 Q979.57 1535.75 977.418 1534.03 Q975.288 1532.3 971.469 1532.3 L967.441 1532.3 L967.441 1528.45 L971.654 1528.45 Q975.103 1528.45 976.932 1527.09 Q978.76 1525.7 978.76 1523.11 Q978.76 1520.45 976.862 1519.03 Q974.987 1517.6 971.469 1517.6 Q969.547 1517.6 967.348 1518.01 Q965.149 1518.43 962.51 1519.31 L962.51 1515.14 Q965.172 1514.4 967.487 1514.03 Q969.825 1513.66 971.885 1513.66 Q977.209 1513.66 980.311 1516.09 Q983.413 1518.5 983.413 1522.62 Q983.413 1525.49 981.77 1527.48 Q980.126 1529.45 977.094 1530.21 Z\" fill=\"#000000\" fill-rule=\"evenodd\" fill-opacity=\"1\" /><path clip-path=\"url(#clip330)\" d=\"M1206.45 1532.02 L1236.13 1532.02 L1236.13 1535.95 L1206.45 1535.95 L1206.45 1532.02 Z\" fill=\"#000000\" fill-rule=\"evenodd\" fill-opacity=\"1\" /><path clip-path=\"url(#clip330)\" d=\"M1247.03 1544.91 L1254.67 1544.91 L1254.67 1518.55 L1246.36 1520.21 L1246.36 1515.95 L1254.63 1514.29 L1259.3 1514.29 L1259.3 1544.91 L1266.94 1544.91 L1266.94 1548.85 L1247.03 1548.85 L1247.03 1544.91 Z\" fill=\"#000000\" fill-rule=\"evenodd\" fill-opacity=\"1\" /><path clip-path=\"url(#clip330)\" d=\"M1276.38 1542.97 L1281.27 1542.97 L1281.27 1548.85 L1276.38 1548.85 L1276.38 1542.97 Z\" fill=\"#000000\" fill-rule=\"evenodd\" fill-opacity=\"1\" /><path clip-path=\"url(#clip330)\" d=\"M1295.48 1544.91 L1311.8 1544.91 L1311.8 1548.85 L1289.86 1548.85 L1289.86 1544.91 Q1292.52 1542.16 1297.1 1537.53 Q1301.71 1532.88 1302.89 1531.53 Q1305.13 1529.01 1306.01 1527.27 Q1306.92 1525.51 1306.92 1523.82 Q1306.92 1521.07 1304.97 1519.33 Q1303.05 1517.6 1299.95 1517.6 Q1297.75 1517.6 1295.3 1518.36 Q1292.87 1519.13 1290.09 1520.68 L1290.09 1515.95 Q1292.91 1514.82 1295.37 1514.24 Q1297.82 1513.66 1299.86 1513.66 Q1305.23 1513.66 1308.42 1516.35 Q1311.62 1519.03 1311.62 1523.52 Q1311.62 1525.65 1310.81 1527.57 Q1310.02 1529.47 1307.91 1532.07 Q1307.33 1532.74 1304.23 1535.95 Q1301.13 1539.15 1295.48 1544.91 Z\" fill=\"#000000\" fill-rule=\"evenodd\" fill-opacity=\"1\" /><path clip-path=\"url(#clip330)\" d=\"M1534.32 1532.02 L1564 1532.02 L1564 1535.95 L1534.32 1535.95 L1534.32 1532.02 Z\" fill=\"#000000\" fill-rule=\"evenodd\" fill-opacity=\"1\" /><path clip-path=\"url(#clip330)\" d=\"M1574.9 1544.91 L1582.54 1544.91 L1582.54 1518.55 L1574.23 1520.21 L1574.23 1515.95 L1582.49 1514.29 L1587.17 1514.29 L1587.17 1544.91 L1594.81 1544.91 L1594.81 1548.85 L1574.9 1548.85 L1574.9 1544.91 Z\" fill=\"#000000\" fill-rule=\"evenodd\" fill-opacity=\"1\" /><path clip-path=\"url(#clip330)\" d=\"M1604.25 1542.97 L1609.14 1542.97 L1609.14 1548.85 L1604.25 1548.85 L1604.25 1542.97 Z\" fill=\"#000000\" fill-rule=\"evenodd\" fill-opacity=\"1\" /><path clip-path=\"url(#clip330)\" d=\"M1620.13 1544.91 L1627.77 1544.91 L1627.77 1518.55 L1619.46 1520.21 L1619.46 1515.95 L1627.72 1514.29 L1632.4 1514.29 L1632.4 1544.91 L1640.04 1544.91 L1640.04 1548.85 L1620.13 1548.85 L1620.13 1544.91 Z\" fill=\"#000000\" fill-rule=\"evenodd\" fill-opacity=\"1\" /><path clip-path=\"url(#clip330)\" d=\"M1861.76 1532.02 L1891.44 1532.02 L1891.44 1535.95 L1861.76 1535.95 L1861.76 1532.02 Z\" fill=\"#000000\" fill-rule=\"evenodd\" fill-opacity=\"1\" /><path clip-path=\"url(#clip330)\" d=\"M1902.34 1544.91 L1909.98 1544.91 L1909.98 1518.55 L1901.67 1520.21 L1901.67 1515.95 L1909.93 1514.29 L1914.61 1514.29 L1914.61 1544.91 L1922.25 1544.91 L1922.25 1548.85 L1902.34 1548.85 L1902.34 1544.91 Z\" fill=\"#000000\" fill-rule=\"evenodd\" fill-opacity=\"1\" /><path clip-path=\"url(#clip330)\" d=\"M1931.69 1542.97 L1936.57 1542.97 L1936.57 1548.85 L1931.69 1548.85 L1931.69 1542.97 Z\" fill=\"#000000\" fill-rule=\"evenodd\" fill-opacity=\"1\" /><path clip-path=\"url(#clip330)\" d=\"M1956.76 1517.37 Q1953.15 1517.37 1951.32 1520.93 Q1949.51 1524.47 1949.51 1531.6 Q1949.51 1538.71 1951.32 1542.27 Q1953.15 1545.82 1956.76 1545.82 Q1960.39 1545.82 1962.2 1542.27 Q1964.03 1538.71 1964.03 1531.6 Q1964.03 1524.47 1962.2 1520.93 Q1960.39 1517.37 1956.76 1517.37 M1956.76 1513.66 Q1962.57 1513.66 1965.63 1518.27 Q1968.7 1522.85 1968.7 1531.6 Q1968.7 1540.33 1965.63 1544.94 Q1962.57 1549.52 1956.76 1549.52 Q1950.95 1549.52 1947.87 1544.94 Q1944.82 1540.33 1944.82 1531.6 Q1944.82 1522.85 1947.87 1518.27 Q1950.95 1513.66 1956.76 1513.66 Z\" fill=\"#000000\" fill-rule=\"evenodd\" fill-opacity=\"1\" /><path clip-path=\"url(#clip330)\" d=\"M2189.9 1532.02 L2219.58 1532.02 L2219.58 1535.95 L2189.9 1535.95 L2189.9 1532.02 Z\" fill=\"#000000\" fill-rule=\"evenodd\" fill-opacity=\"1\" /><path clip-path=\"url(#clip330)\" d=\"M2239.67 1517.37 Q2236.06 1517.37 2234.23 1520.93 Q2232.43 1524.47 2232.43 1531.6 Q2232.43 1538.71 2234.23 1542.27 Q2236.06 1545.82 2239.67 1545.82 Q2243.31 1545.82 2245.11 1542.27 Q2246.94 1538.71 2246.94 1531.6 Q2246.94 1524.47 2245.11 1520.93 Q2243.31 1517.37 2239.67 1517.37 M2239.67 1513.66 Q2245.48 1513.66 2248.54 1518.27 Q2251.62 1522.85 2251.62 1531.6 Q2251.62 1540.33 2248.54 1544.94 Q2245.48 1549.52 2239.67 1549.52 Q2233.86 1549.52 2230.78 1544.94 Q2227.73 1540.33 2227.73 1531.6 Q2227.73 1522.85 2230.78 1518.27 Q2233.86 1513.66 2239.67 1513.66 Z\" fill=\"#000000\" fill-rule=\"evenodd\" fill-opacity=\"1\" /><path clip-path=\"url(#clip330)\" d=\"M2259.83 1542.97 L2264.72 1542.97 L2264.72 1548.85 L2259.83 1548.85 L2259.83 1542.97 Z\" fill=\"#000000\" fill-rule=\"evenodd\" fill-opacity=\"1\" /><path clip-path=\"url(#clip330)\" d=\"M2275.04 1548.13 L2275.04 1543.87 Q2276.8 1544.7 2278.61 1545.14 Q2280.41 1545.58 2282.15 1545.58 Q2286.78 1545.58 2289.21 1542.48 Q2291.66 1539.36 2292.01 1533.01 Q2290.67 1535.01 2288.61 1536.07 Q2286.55 1537.13 2284.05 1537.13 Q2278.86 1537.13 2275.83 1534.01 Q2272.82 1530.86 2272.82 1525.42 Q2272.82 1520.1 2275.97 1516.88 Q2279.12 1513.66 2284.35 1513.66 Q2290.34 1513.66 2293.49 1518.27 Q2296.66 1522.85 2296.66 1531.6 Q2296.66 1539.77 2292.77 1544.66 Q2288.91 1549.52 2282.36 1549.52 Q2280.6 1549.52 2278.79 1549.17 Q2276.99 1548.82 2275.04 1548.13 M2284.35 1533.48 Q2287.5 1533.48 2289.33 1531.32 Q2291.18 1529.17 2291.18 1525.42 Q2291.18 1521.7 2289.33 1519.54 Q2287.5 1517.37 2284.35 1517.37 Q2281.2 1517.37 2279.35 1519.54 Q2277.52 1521.7 2277.52 1525.42 Q2277.52 1529.17 2279.35 1531.32 Q2281.2 1533.48 2284.35 1533.48 Z\" fill=\"#000000\" fill-rule=\"evenodd\" fill-opacity=\"1\" /><polyline clip-path=\"url(#clip332)\" style=\"stroke:#000000; stroke-linecap:butt; stroke-linejoin:round; stroke-width:2; stroke-opacity:0.1; fill:none\" points=\"\n",
       "  112.177,1445.88 2352.76,1445.88 \n",
       "  \"/>\n",
       "<polyline clip-path=\"url(#clip332)\" style=\"stroke:#000000; stroke-linecap:butt; stroke-linejoin:round; stroke-width:2; stroke-opacity:0.1; fill:none\" points=\"\n",
       "  112.177,1129.84 2352.76,1129.84 \n",
       "  \"/>\n",
       "<polyline clip-path=\"url(#clip332)\" style=\"stroke:#000000; stroke-linecap:butt; stroke-linejoin:round; stroke-width:2; stroke-opacity:0.1; fill:none\" points=\"\n",
       "  112.177,813.809 2352.76,813.809 \n",
       "  \"/>\n",
       "<polyline clip-path=\"url(#clip332)\" style=\"stroke:#000000; stroke-linecap:butt; stroke-linejoin:round; stroke-width:2; stroke-opacity:0.1; fill:none\" points=\"\n",
       "  112.177,497.774 2352.76,497.774 \n",
       "  \"/>\n",
       "<polyline clip-path=\"url(#clip332)\" style=\"stroke:#000000; stroke-linecap:butt; stroke-linejoin:round; stroke-width:2; stroke-opacity:0.1; fill:none\" points=\"\n",
       "  112.177,181.739 2352.76,181.739 \n",
       "  \"/>\n",
       "<polyline clip-path=\"url(#clip330)\" style=\"stroke:#000000; stroke-linecap:butt; stroke-linejoin:round; stroke-width:4; stroke-opacity:1; fill:none\" points=\"\n",
       "  112.177,1486.45 112.177,47.2441 \n",
       "  \"/>\n",
       "<polyline clip-path=\"url(#clip330)\" style=\"stroke:#000000; stroke-linecap:butt; stroke-linejoin:round; stroke-width:4; stroke-opacity:1; fill:none\" points=\"\n",
       "  112.177,1445.88 131.075,1445.88 \n",
       "  \"/>\n",
       "<polyline clip-path=\"url(#clip330)\" style=\"stroke:#000000; stroke-linecap:butt; stroke-linejoin:round; stroke-width:4; stroke-opacity:1; fill:none\" points=\"\n",
       "  112.177,1129.84 131.075,1129.84 \n",
       "  \"/>\n",
       "<polyline clip-path=\"url(#clip330)\" style=\"stroke:#000000; stroke-linecap:butt; stroke-linejoin:round; stroke-width:4; stroke-opacity:1; fill:none\" points=\"\n",
       "  112.177,813.809 131.075,813.809 \n",
       "  \"/>\n",
       "<polyline clip-path=\"url(#clip330)\" style=\"stroke:#000000; stroke-linecap:butt; stroke-linejoin:round; stroke-width:4; stroke-opacity:1; fill:none\" points=\"\n",
       "  112.177,497.774 131.075,497.774 \n",
       "  \"/>\n",
       "<polyline clip-path=\"url(#clip330)\" style=\"stroke:#000000; stroke-linecap:butt; stroke-linejoin:round; stroke-width:4; stroke-opacity:1; fill:none\" points=\"\n",
       "  112.177,181.739 131.075,181.739 \n",
       "  \"/>\n",
       "<path clip-path=\"url(#clip330)\" d=\"M64.2328 1431.68 Q60.6217 1431.68 58.793 1435.24 Q56.9875 1438.78 56.9875 1445.91 Q56.9875 1453.02 58.793 1456.59 Q60.6217 1460.13 64.2328 1460.13 Q67.867 1460.13 69.6726 1456.59 Q71.5013 1453.02 71.5013 1445.91 Q71.5013 1438.78 69.6726 1435.24 Q67.867 1431.68 64.2328 1431.68 M64.2328 1427.97 Q70.0429 1427.97 73.0985 1432.58 Q76.1772 1437.16 76.1772 1445.91 Q76.1772 1454.64 73.0985 1459.25 Q70.0429 1463.83 64.2328 1463.83 Q58.4226 1463.83 55.344 1459.25 Q52.2884 1454.64 52.2884 1445.91 Q52.2884 1437.16 55.344 1432.58 Q58.4226 1427.97 64.2328 1427.97 Z\" fill=\"#000000\" fill-rule=\"evenodd\" fill-opacity=\"1\" /><path clip-path=\"url(#clip330)\" d=\"M56.2699 1143.19 L63.9087 1143.19 L63.9087 1116.82 L55.5986 1118.49 L55.5986 1114.23 L63.8624 1112.56 L68.5383 1112.56 L68.5383 1143.19 L76.1772 1143.19 L76.1772 1147.12 L56.2699 1147.12 L56.2699 1143.19 Z\" fill=\"#000000\" fill-rule=\"evenodd\" fill-opacity=\"1\" /><path clip-path=\"url(#clip330)\" d=\"M59.8578 827.154 L76.1772 827.154 L76.1772 831.089 L54.2328 831.089 L54.2328 827.154 Q56.8949 824.399 61.4782 819.77 Q66.0846 815.117 67.2652 813.775 Q69.5105 811.251 70.3902 809.515 Q71.2929 807.756 71.2929 806.066 Q71.2929 803.312 69.3485 801.576 Q67.4272 799.839 64.3254 799.839 Q62.1263 799.839 59.6726 800.603 Q57.2421 801.367 54.4643 802.918 L54.4643 798.196 Q57.2884 797.062 59.7421 796.483 Q62.1958 795.904 64.2328 795.904 Q69.6031 795.904 72.7976 798.589 Q75.992 801.275 75.992 805.765 Q75.992 807.895 75.1818 809.816 Q74.3948 811.714 72.2883 814.307 Q71.7096 814.978 68.6078 818.196 Q65.5059 821.39 59.8578 827.154 Z\" fill=\"#000000\" fill-rule=\"evenodd\" fill-opacity=\"1\" /><path clip-path=\"url(#clip330)\" d=\"M69.0476 496.42 Q72.404 497.138 74.279 499.406 Q76.1772 501.675 76.1772 505.008 Q76.1772 510.124 72.6587 512.925 Q69.1402 515.726 62.6587 515.726 Q60.4828 515.726 58.168 515.286 Q55.8764 514.869 53.4227 514.013 L53.4227 509.499 Q55.3671 510.633 57.6819 511.212 Q59.9967 511.79 62.5198 511.79 Q66.918 511.79 69.2096 510.054 Q71.5244 508.318 71.5244 505.008 Q71.5244 501.953 69.3717 500.24 Q67.242 498.504 63.4226 498.504 L59.3949 498.504 L59.3949 494.661 L63.6078 494.661 Q67.0569 494.661 68.8855 493.295 Q70.7142 491.906 70.7142 489.314 Q70.7142 486.652 68.8161 485.24 Q66.9411 483.805 63.4226 483.805 Q61.5013 483.805 59.3023 484.221 Q57.1032 484.638 54.4643 485.517 L54.4643 481.351 Q57.1264 480.61 59.4412 480.24 Q61.7791 479.869 63.8393 479.869 Q69.1633 479.869 72.2652 482.3 Q75.367 484.707 75.367 488.828 Q75.367 491.698 73.7235 493.689 Q72.08 495.656 69.0476 496.42 Z\" fill=\"#000000\" fill-rule=\"evenodd\" fill-opacity=\"1\" /><path clip-path=\"url(#clip330)\" d=\"M66.5939 168.533 L54.7884 186.982 L66.5939 186.982 L66.5939 168.533 M65.367 164.459 L71.2466 164.459 L71.2466 186.982 L76.1772 186.982 L76.1772 190.871 L71.2466 190.871 L71.2466 199.019 L66.5939 199.019 L66.5939 190.871 L50.9921 190.871 L50.9921 186.357 L65.367 164.459 Z\" fill=\"#000000\" fill-rule=\"evenodd\" fill-opacity=\"1\" /><polyline clip-path=\"url(#clip332)\" style=\"stroke:#009af9; stroke-linecap:butt; stroke-linejoin:round; stroke-width:4; stroke-opacity:1; fill:none\" points=\"\n",
       "  175.59,1445.72 186.212,1445.7 196.834,1445.68 207.455,1445.64 218.077,1445.58 228.699,1445.5 239.321,1445.4 249.943,1445.27 260.565,1445.11 271.187,1444.9 \n",
       "  281.809,1444.65 292.43,1444.33 303.052,1443.94 313.674,1443.46 324.296,1442.88 334.918,1442.18 345.54,1441.34 356.162,1440.33 366.784,1439.13 377.405,1437.71 \n",
       "  388.027,1436.04 398.649,1434.08 409.271,1431.81 419.893,1429.17 430.515,1426.14 441.137,1422.67 451.759,1418.73 462.38,1414.26 473.002,1409.23 483.624,1403.6 \n",
       "  494.246,1397.33 504.868,1390.39 515.49,1382.75 526.112,1374.38 536.734,1365.27 547.355,1355.4 557.977,1344.76 568.599,1333.36 579.221,1321.21 589.843,1308.32 \n",
       "  600.465,1294.7 611.087,1280.4 621.709,1265.45 632.33,1249.88 642.952,1233.74 653.574,1217.07 664.196,1199.91 674.818,1182.32 685.44,1164.32 696.062,1145.96 \n",
       "  706.684,1127.27 717.306,1108.26 727.927,1088.96 738.549,1069.37 749.171,1049.48 759.793,1029.3 770.415,1008.8 781.037,987.955 791.659,966.743 802.281,945.132 \n",
       "  812.902,923.089 823.524,900.585 834.146,877.595 844.768,854.099 855.39,830.087 866.012,805.558 876.634,780.527 887.256,755.019 897.877,729.074 908.499,702.749 \n",
       "  919.121,676.111 929.743,649.244 940.365,622.242 950.987,595.209 961.609,568.255 972.231,541.497 982.852,515.052 993.474,489.036 1004.1,463.56 1014.72,438.729 \n",
       "  1025.34,414.635 1035.96,391.361 1046.58,368.974 1057.21,347.526 1067.83,327.051 1078.45,307.568 1089.07,289.08 1099.69,271.574 1110.31,255.026 1120.94,239.398 \n",
       "  1131.56,224.645 1142.18,210.719 1152.8,197.566 1163.42,185.137 1174.05,173.387 1184.67,162.28 1195.29,151.79 1205.91,141.91 1216.53,132.646 1227.16,124.026 \n",
       "  1237.78,116.097 1248.4,108.926 1259.02,102.603 1269.64,97.2335 1280.26,92.9431 1290.89,89.8698 1301.51,88.1625 1312.13,87.9763 1322.75,89.4678 1333.37,92.7901 \n",
       "  1344,98.0872 1354.62,105.489 1365.24,115.105 1375.86,127.023 1386.48,141.301 1397.11,157.964 1407.73,177.007 1418.35,198.385 1428.97,222.02 1439.59,247.798 \n",
       "  1450.22,275.573 1460.84,305.169 1471.46,336.381 1482.08,368.985 1492.7,402.742 1503.32,437.4 1513.95,472.705 1524.57,508.405 1535.19,544.255 1545.81,580.023 \n",
       "  1556.43,615.497 1567.06,650.485 1577.68,684.822 1588.3,718.369 1598.92,751.018 1609.54,782.687 1620.17,813.323 1630.79,842.899 1641.41,871.411 1652.03,898.878 \n",
       "  1662.65,925.333 1673.27,950.823 1683.9,975.406 1694.52,999.142 1705.14,1022.09 1715.76,1044.33 1726.38,1065.89 1737.01,1086.85 1747.63,1107.23 1758.25,1127.07 \n",
       "  1768.87,1146.39 1779.49,1165.19 1790.12,1183.49 1800.74,1201.28 1811.36,1218.53 1821.98,1235.22 1832.6,1251.33 1843.22,1266.84 1853.85,1281.7 1864.47,1295.89 \n",
       "  1875.09,1309.39 1885.71,1322.16 1896.33,1334.2 1906.96,1345.49 1917.58,1356.02 1928.2,1365.8 1938.82,1374.83 1949.44,1383.12 1960.07,1390.7 1970.69,1397.58 \n",
       "  1981.31,1403.81 1991.93,1409.4 2002.55,1414.39 2013.17,1418.83 2023.8,1422.76 2034.42,1426.21 2045.04,1429.23 2055.66,1431.85 2066.28,1434.11 2076.91,1436.06 \n",
       "  2087.53,1437.73 2098.15,1439.14 2108.77,1440.34 2119.39,1441.35 2130.02,1442.19 2140.64,1442.89 2151.26,1443.47 2161.88,1443.94 2172.5,1444.33 2183.12,1444.65 \n",
       "  2193.75,1444.91 2204.37,1445.11 2214.99,1445.27 2225.61,1445.4 2236.23,1445.5 2246.86,1445.58 2257.48,1445.64 2268.1,1445.68 2278.72,1445.7 2289.34,1445.72 \n",
       "  \n",
       "  \"/>\n",
       "<path clip-path=\"url(#clip330)\" d=\"\n",
       "M1976.69 198.898 L2278.07 198.898 L2278.07 95.2176 L1976.69 95.2176  Z\n",
       "  \" fill=\"#ffffff\" fill-rule=\"evenodd\" fill-opacity=\"1\"/>\n",
       "<polyline clip-path=\"url(#clip330)\" style=\"stroke:#000000; stroke-linecap:butt; stroke-linejoin:round; stroke-width:4; stroke-opacity:1; fill:none\" points=\"\n",
       "  1976.69,198.898 2278.07,198.898 2278.07,95.2176 1976.69,95.2176 1976.69,198.898 \n",
       "  \"/>\n",
       "<polyline clip-path=\"url(#clip330)\" style=\"stroke:#009af9; stroke-linecap:butt; stroke-linejoin:round; stroke-width:4; stroke-opacity:1; fill:none\" points=\"\n",
       "  2001.58,147.058 2150.95,147.058 \n",
       "  \"/>\n",
       "<path clip-path=\"url(#clip330)\" d=\"M2189.69 166.745 Q2187.89 171.375 2186.17 172.787 Q2184.46 174.199 2181.59 174.199 L2178.19 174.199 L2178.19 170.634 L2180.69 170.634 Q2182.45 170.634 2183.42 169.8 Q2184.39 168.967 2185.57 165.865 L2186.34 163.921 L2175.85 138.412 L2180.36 138.412 L2188.46 158.689 L2196.57 138.412 L2201.08 138.412 L2189.69 166.745 Z\" fill=\"#000000\" fill-rule=\"evenodd\" fill-opacity=\"1\" /><path clip-path=\"url(#clip330)\" d=\"M2208.37 160.402 L2216.01 160.402 L2216.01 134.037 L2207.7 135.703 L2207.7 131.444 L2215.96 129.778 L2220.64 129.778 L2220.64 160.402 L2228.28 160.402 L2228.28 164.338 L2208.37 164.338 L2208.37 160.402 Z\" fill=\"#000000\" fill-rule=\"evenodd\" fill-opacity=\"1\" /></svg>\n"
      ]
     },
     "execution_count": 8,
     "metadata": {},
     "output_type": "execute_result"
    }
   ],
   "source": [
    "density(lls)"
   ]
  },
  {
   "cell_type": "code",
   "execution_count": null,
   "id": "51cf2b9d-529c-48e2-b49c-8ef46fa3ff73",
   "metadata": {},
   "outputs": [],
   "source": []
  }
 ],
 "metadata": {
  "kernelspec": {
   "display_name": "Julia 1.7.1",
   "language": "julia",
   "name": "julia-1.7"
  },
  "language_info": {
   "file_extension": ".jl",
   "mimetype": "application/julia",
   "name": "julia",
   "version": "1.7.1"
  }
 },
 "nbformat": 4,
 "nbformat_minor": 5
}
