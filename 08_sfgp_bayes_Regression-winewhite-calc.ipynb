{
 "cells": [
  {
   "cell_type": "code",
   "execution_count": 1,
   "id": "306f139c-fd46-4b96-aa35-18a9af0ea356",
   "metadata": {},
   "outputs": [],
   "source": [
    "using Plots, StatsPlots\n",
    "include(\"src/SFGP_bayesreg-learnable.jl\")\n",
    "using Flux\n",
    "using StatsBase\n",
    "using CSV, DataFrames\n",
    "using ScikitLearn\n",
    "using KnetMetrics\n",
    "using Tables"
   ]
  },
  {
   "cell_type": "code",
   "execution_count": 2,
   "id": "4d8d82db-dc0c-4615-83d9-4d6ceddc4c18",
   "metadata": {},
   "outputs": [
    {
     "data": {
      "text/plain": [
       "1×4898 Matrix{Float64}:\n",
       " 6.0  6.0  6.0  6.0  6.0  6.0  6.0  6.0  …  6.0  5.0  6.0  5.0  6.0  7.0  6.0"
      ]
     },
     "execution_count": 2,
     "metadata": {},
     "output_type": "execute_result"
    }
   ],
   "source": [
    "df = Matrix(CSV.File(\"./data/winequality-white.csv\") |> DataFrame)\n",
    "X = Matrix(transpose(df[:,1:end-1]))\n",
    "y = Matrix(transpose(df[:,end:end]))\n"
   ]
  },
  {
   "cell_type": "code",
   "execution_count": 3,
   "id": "bc10b27b-0984-4a9f-8c61-3bfb8e4f9830",
   "metadata": {},
   "outputs": [
    {
     "data": {
      "text/plain": [
       "getRMSE (generic function with 1 method)"
      ]
     },
     "execution_count": 3,
     "metadata": {},
     "output_type": "execute_result"
    }
   ],
   "source": [
    "function getLoglike(mm::SFGP,X,y)\n",
    "    \n",
    "    m,S = mm.gp(X)\n",
    "    s = Matrix(transpose(sqrt.(diag(S))[:,:]))\n",
    "    \n",
    "    probs = getProbs.(m,s,mm.lower,mm.upper)\n",
    "    sigvals_mean = (mm.vals_varmean)\n",
    "    sigvals_std = abs.(mm.vals_varstd)\n",
    "    \n",
    "    full_std = sqrt.(sigvals_std.^2 .+ abs(mm.s[1,1])^2)\n",
    "    \n",
    "\n",
    "    return mean(logpdf.([MixtureModel(Normal.(sigvals_mean,full_std),p) for p in Flux.unstack(probs,2)],y[:]))\n",
    "end\n",
    "\n",
    "\n",
    "function getRMSE(mm::SFGP,X,y)\n",
    "    \n",
    "    m,S = mm.gp(X)\n",
    "    s = Matrix(transpose(sqrt.(diag(S))[:,:]))\n",
    "    \n",
    "    probs = getProbs.(m,s,mm.lower,mm.upper)\n",
    "    vals = (mm.vals_varmean) \n",
    "    \n",
    "    \n",
    "    return sqrt.(mean(((sum(probs.*vals,dims=1).-y).^2)))\n",
    "    \n",
    "end"
   ]
  },
  {
   "cell_type": "code",
   "execution_count": 4,
   "id": "d0107415-7066-44f6-8744-b88e5c0ab64a",
   "metadata": {},
   "outputs": [
    {
     "name": "stdout",
     "output_type": "stream",
     "text": [
      "1\n",
      "2\n",
      "3\n",
      "4\n",
      "5\n",
      "6\n",
      "7\n",
      "8\n",
      "9\n",
      "10\n"
     ]
    }
   ],
   "source": [
    "import Random\n",
    "Random.seed!(321)\n",
    "\n",
    "folds = ScikitLearn.CrossValidation.KFold(size(X,2),n_folds=10)\n",
    "\n",
    "lls = []\n",
    "rmses = []\n",
    "i = 0\n",
    "\n",
    "for (train, test) in folds\n",
    "\n",
    "    Xm = mean(X,dims=2)\n",
    "    Xs = std(X,dims=2)\n",
    "    sfgp = SFGP(SVGP((X[:,1:10] .- Xm)./Xs),20,3)\n",
    "    \n",
    "    params = Flux.params(sfgp)\n",
    "    opt = ADAM(0.05)\n",
    "    \n",
    "    Xtrain = X[:,train]\n",
    "    \n",
    "    mean_train = mean(Xtrain,dims=2)\n",
    "    std_train = std(Xtrain,dims=2)\n",
    "    Xtrain = (Xtrain.-mean_train) ./ std_train\n",
    "    \n",
    "    Xtest = X[:,test]\n",
    "    Xtest = (Xtest.-mean_train) ./ std_train\n",
    "    \n",
    "    ytrain = y[:,train]\n",
    "    ytest = y[:,test]\n",
    "    mean_ytrain = mean(ytrain)\n",
    "    std_ytrain = std(ytrain)\n",
    "    ytrain = (ytrain.-mean_ytrain)./std_ytrain\n",
    "    ytest = (ytest.-mean_ytrain)./std_ytrain\n",
    "    \n",
    "    for i in 1:350\n",
    "        grads = Zygote.gradient(() -> sample_elbo(sfgp,Xtrain,ytrain),params)\n",
    "        Flux.Optimise.update!(opt,params,grads)\n",
    "    end\n",
    "    \n",
    "    push!(lls, getLoglike(sfgp,Xtest,ytest))\n",
    "    push!(rmses, getRMSE(sfgp,Xtest,ytest))\n",
    "    \n",
    "    i = i+1\n",
    "    println(i)\n",
    "end"
   ]
  },
  {
   "cell_type": "code",
   "execution_count": 7,
   "id": "f509a029-cb60-4449-b19b-c4c17f82d169",
   "metadata": {},
   "outputs": [
    {
     "name": "stdout",
     "output_type": "stream",
     "text": [
      "-1.239459999311896\n",
      "0.07074569043840956\n"
     ]
    }
   ],
   "source": [
    "println(mean(lls))\n",
    "println(std(lls))"
   ]
  },
  {
   "cell_type": "code",
   "execution_count": 8,
   "id": "a65a4200-283c-42f1-a293-0899d5466b76",
   "metadata": {},
   "outputs": [
    {
     "name": "stdout",
     "output_type": "stream",
     "text": [
      "0.8389148892247589\n",
      "0.06966743580116293\n"
     ]
    }
   ],
   "source": [
    "println(mean((rmses)))\n",
    "println(std((rmses)))"
   ]
  },
  {
   "cell_type": "code",
   "execution_count": 9,
   "id": "59c484da-e2fe-4c27-b396-5150c0c21cc6",
   "metadata": {},
   "outputs": [
    {
     "data": {
      "text/plain": [
       "\"./evals/sfgp_bayesian_regression_winewhite.csv\""
      ]
     },
     "execution_count": 9,
     "metadata": {},
     "output_type": "execute_result"
    }
   ],
   "source": [
    "df = DataFrame(hcat(lls,rmses),[:loglike,:rmse])\n",
    "CSV.write(\"./evals/sfgp_bayesian_regression_winewhite.csv\",  df)"
   ]
  },
  {
   "cell_type": "code",
   "execution_count": 10,
   "id": "ca9ee484-2172-499a-85fe-39b85e9b8536",
   "metadata": {},
   "outputs": [
    {
     "data": {
      "image/svg+xml": [
       "<?xml version=\"1.0\" encoding=\"utf-8\"?>\n",
       "<svg xmlns=\"http://www.w3.org/2000/svg\" xmlns:xlink=\"http://www.w3.org/1999/xlink\" width=\"600\" height=\"400\" viewBox=\"0 0 2400 1600\">\n",
       "<defs>\n",
       "  <clipPath id=\"clip460\">\n",
       "    <rect x=\"0\" y=\"0\" width=\"2400\" height=\"1600\"/>\n",
       "  </clipPath>\n",
       "</defs>\n",
       "<path clip-path=\"url(#clip460)\" d=\"\n",
       "M0 1600 L2400 1600 L2400 0 L0 0  Z\n",
       "  \" fill=\"#ffffff\" fill-rule=\"evenodd\" fill-opacity=\"1\"/>\n",
       "<defs>\n",
       "  <clipPath id=\"clip461\">\n",
       "    <rect x=\"480\" y=\"0\" width=\"1681\" height=\"1600\"/>\n",
       "  </clipPath>\n",
       "</defs>\n",
       "<path clip-path=\"url(#clip460)\" d=\"\n",
       "M112.177 1486.45 L2352.76 1486.45 L2352.76 47.2441 L112.177 47.2441  Z\n",
       "  \" fill=\"#ffffff\" fill-rule=\"evenodd\" fill-opacity=\"1\"/>\n",
       "<defs>\n",
       "  <clipPath id=\"clip462\">\n",
       "    <rect x=\"112\" y=\"47\" width=\"2242\" height=\"1440\"/>\n",
       "  </clipPath>\n",
       "</defs>\n",
       "<polyline clip-path=\"url(#clip462)\" style=\"stroke:#000000; stroke-linecap:butt; stroke-linejoin:round; stroke-width:2; stroke-opacity:0.1; fill:none\" points=\"\n",
       "  513.449,1486.45 513.449,47.2441 \n",
       "  \"/>\n",
       "<polyline clip-path=\"url(#clip462)\" style=\"stroke:#000000; stroke-linecap:butt; stroke-linejoin:round; stroke-width:2; stroke-opacity:0.1; fill:none\" points=\"\n",
       "  989.956,1486.45 989.956,47.2441 \n",
       "  \"/>\n",
       "<polyline clip-path=\"url(#clip462)\" style=\"stroke:#000000; stroke-linecap:butt; stroke-linejoin:round; stroke-width:2; stroke-opacity:0.1; fill:none\" points=\"\n",
       "  1466.46,1486.45 1466.46,47.2441 \n",
       "  \"/>\n",
       "<polyline clip-path=\"url(#clip462)\" style=\"stroke:#000000; stroke-linecap:butt; stroke-linejoin:round; stroke-width:2; stroke-opacity:0.1; fill:none\" points=\"\n",
       "  1942.97,1486.45 1942.97,47.2441 \n",
       "  \"/>\n",
       "<polyline clip-path=\"url(#clip460)\" style=\"stroke:#000000; stroke-linecap:butt; stroke-linejoin:round; stroke-width:4; stroke-opacity:1; fill:none\" points=\"\n",
       "  112.177,1486.45 2352.76,1486.45 \n",
       "  \"/>\n",
       "<polyline clip-path=\"url(#clip460)\" style=\"stroke:#000000; stroke-linecap:butt; stroke-linejoin:round; stroke-width:4; stroke-opacity:1; fill:none\" points=\"\n",
       "  513.449,1486.45 513.449,1467.55 \n",
       "  \"/>\n",
       "<polyline clip-path=\"url(#clip460)\" style=\"stroke:#000000; stroke-linecap:butt; stroke-linejoin:round; stroke-width:4; stroke-opacity:1; fill:none\" points=\"\n",
       "  989.956,1486.45 989.956,1467.55 \n",
       "  \"/>\n",
       "<polyline clip-path=\"url(#clip460)\" style=\"stroke:#000000; stroke-linecap:butt; stroke-linejoin:round; stroke-width:4; stroke-opacity:1; fill:none\" points=\"\n",
       "  1466.46,1486.45 1466.46,1467.55 \n",
       "  \"/>\n",
       "<polyline clip-path=\"url(#clip460)\" style=\"stroke:#000000; stroke-linecap:butt; stroke-linejoin:round; stroke-width:4; stroke-opacity:1; fill:none\" points=\"\n",
       "  1942.97,1486.45 1942.97,1467.55 \n",
       "  \"/>\n",
       "<path clip-path=\"url(#clip460)\" d=\"M459.734 1532.02 L489.409 1532.02 L489.409 1535.95 L459.734 1535.95 L459.734 1532.02 Z\" fill=\"#000000\" fill-rule=\"evenodd\" fill-opacity=\"1\" /><path clip-path=\"url(#clip460)\" d=\"M500.312 1544.91 L507.951 1544.91 L507.951 1518.55 L499.641 1520.21 L499.641 1515.95 L507.905 1514.29 L512.581 1514.29 L512.581 1544.91 L520.22 1544.91 L520.22 1548.85 L500.312 1548.85 L500.312 1544.91 Z\" fill=\"#000000\" fill-rule=\"evenodd\" fill-opacity=\"1\" /><path clip-path=\"url(#clip460)\" d=\"M529.664 1542.97 L534.548 1542.97 L534.548 1548.85 L529.664 1548.85 L529.664 1542.97 Z\" fill=\"#000000\" fill-rule=\"evenodd\" fill-opacity=\"1\" /><path clip-path=\"url(#clip460)\" d=\"M557.58 1518.36 L545.775 1536.81 L557.58 1536.81 L557.58 1518.36 M556.354 1514.29 L562.233 1514.29 L562.233 1536.81 L567.164 1536.81 L567.164 1540.7 L562.233 1540.7 L562.233 1548.85 L557.58 1548.85 L557.58 1540.7 L541.979 1540.7 L541.979 1536.19 L556.354 1514.29 Z\" fill=\"#000000\" fill-rule=\"evenodd\" fill-opacity=\"1\" /><path clip-path=\"url(#clip460)\" d=\"M936.808 1532.02 L966.484 1532.02 L966.484 1535.95 L936.808 1535.95 L936.808 1532.02 Z\" fill=\"#000000\" fill-rule=\"evenodd\" fill-opacity=\"1\" /><path clip-path=\"url(#clip460)\" d=\"M977.386 1544.91 L985.025 1544.91 L985.025 1518.55 L976.715 1520.21 L976.715 1515.95 L984.979 1514.29 L989.655 1514.29 L989.655 1544.91 L997.294 1544.91 L997.294 1548.85 L977.386 1548.85 L977.386 1544.91 Z\" fill=\"#000000\" fill-rule=\"evenodd\" fill-opacity=\"1\" /><path clip-path=\"url(#clip460)\" d=\"M1006.74 1542.97 L1011.62 1542.97 L1011.62 1548.85 L1006.74 1548.85 L1006.74 1542.97 Z\" fill=\"#000000\" fill-rule=\"evenodd\" fill-opacity=\"1\" /><path clip-path=\"url(#clip460)\" d=\"M1035.97 1530.21 Q1039.33 1530.93 1041.21 1533.2 Q1043.1 1535.47 1043.1 1538.8 Q1043.1 1543.92 1039.59 1546.72 Q1036.07 1549.52 1029.59 1549.52 Q1027.41 1549.52 1025.09 1549.08 Q1022.8 1548.66 1020.35 1547.81 L1020.35 1543.29 Q1022.29 1544.43 1024.61 1545.01 Q1026.92 1545.58 1029.45 1545.58 Q1033.84 1545.58 1036.14 1543.85 Q1038.45 1542.11 1038.45 1538.8 Q1038.45 1535.75 1036.3 1534.03 Q1034.17 1532.3 1030.35 1532.3 L1026.32 1532.3 L1026.32 1528.45 L1030.53 1528.45 Q1033.98 1528.45 1035.81 1527.09 Q1037.64 1525.7 1037.64 1523.11 Q1037.64 1520.45 1035.74 1519.03 Q1033.87 1517.6 1030.35 1517.6 Q1028.43 1517.6 1026.23 1518.01 Q1024.03 1518.43 1021.39 1519.31 L1021.39 1515.14 Q1024.05 1514.4 1026.37 1514.03 Q1028.71 1513.66 1030.77 1513.66 Q1036.09 1513.66 1039.19 1516.09 Q1042.29 1518.5 1042.29 1522.62 Q1042.29 1525.49 1040.65 1527.48 Q1039.01 1529.45 1035.97 1530.21 Z\" fill=\"#000000\" fill-rule=\"evenodd\" fill-opacity=\"1\" /><path clip-path=\"url(#clip460)\" d=\"M1413.79 1532.02 L1443.47 1532.02 L1443.47 1535.95 L1413.79 1535.95 L1413.79 1532.02 Z\" fill=\"#000000\" fill-rule=\"evenodd\" fill-opacity=\"1\" /><path clip-path=\"url(#clip460)\" d=\"M1454.37 1544.91 L1462.01 1544.91 L1462.01 1518.55 L1453.7 1520.21 L1453.7 1515.95 L1461.96 1514.29 L1466.64 1514.29 L1466.64 1544.91 L1474.28 1544.91 L1474.28 1548.85 L1454.37 1548.85 L1454.37 1544.91 Z\" fill=\"#000000\" fill-rule=\"evenodd\" fill-opacity=\"1\" /><path clip-path=\"url(#clip460)\" d=\"M1483.72 1542.97 L1488.6 1542.97 L1488.6 1548.85 L1483.72 1548.85 L1483.72 1542.97 Z\" fill=\"#000000\" fill-rule=\"evenodd\" fill-opacity=\"1\" /><path clip-path=\"url(#clip460)\" d=\"M1502.82 1544.91 L1519.14 1544.91 L1519.14 1548.85 L1497.19 1548.85 L1497.19 1544.91 Q1499.85 1542.16 1504.44 1537.53 Q1509.04 1532.88 1510.22 1531.53 Q1512.47 1529.01 1513.35 1527.27 Q1514.25 1525.51 1514.25 1523.82 Q1514.25 1521.07 1512.31 1519.33 Q1510.39 1517.6 1507.28 1517.6 Q1505.09 1517.6 1502.63 1518.36 Q1500.2 1519.13 1497.42 1520.68 L1497.42 1515.95 Q1500.25 1514.82 1502.7 1514.24 Q1505.15 1513.66 1507.19 1513.66 Q1512.56 1513.66 1515.76 1516.35 Q1518.95 1519.03 1518.95 1523.52 Q1518.95 1525.65 1518.14 1527.57 Q1517.35 1529.47 1515.25 1532.07 Q1514.67 1532.74 1511.57 1535.95 Q1508.47 1539.15 1502.82 1544.91 Z\" fill=\"#000000\" fill-rule=\"evenodd\" fill-opacity=\"1\" /><path clip-path=\"url(#clip460)\" d=\"M1890.11 1532.02 L1919.79 1532.02 L1919.79 1535.95 L1890.11 1535.95 L1890.11 1532.02 Z\" fill=\"#000000\" fill-rule=\"evenodd\" fill-opacity=\"1\" /><path clip-path=\"url(#clip460)\" d=\"M1930.69 1544.91 L1938.33 1544.91 L1938.33 1518.55 L1930.02 1520.21 L1930.02 1515.95 L1938.28 1514.29 L1942.96 1514.29 L1942.96 1544.91 L1950.6 1544.91 L1950.6 1548.85 L1930.69 1548.85 L1930.69 1544.91 Z\" fill=\"#000000\" fill-rule=\"evenodd\" fill-opacity=\"1\" /><path clip-path=\"url(#clip460)\" d=\"M1960.04 1542.97 L1964.93 1542.97 L1964.93 1548.85 L1960.04 1548.85 L1960.04 1542.97 Z\" fill=\"#000000\" fill-rule=\"evenodd\" fill-opacity=\"1\" /><path clip-path=\"url(#clip460)\" d=\"M1975.92 1544.91 L1983.56 1544.91 L1983.56 1518.55 L1975.25 1520.21 L1975.25 1515.95 L1983.51 1514.29 L1988.19 1514.29 L1988.19 1544.91 L1995.83 1544.91 L1995.83 1548.85 L1975.92 1548.85 L1975.92 1544.91 Z\" fill=\"#000000\" fill-rule=\"evenodd\" fill-opacity=\"1\" /><polyline clip-path=\"url(#clip462)\" style=\"stroke:#000000; stroke-linecap:butt; stroke-linejoin:round; stroke-width:2; stroke-opacity:0.1; fill:none\" points=\"\n",
       "  112.177,1445.96 2352.76,1445.96 \n",
       "  \"/>\n",
       "<polyline clip-path=\"url(#clip462)\" style=\"stroke:#000000; stroke-linecap:butt; stroke-linejoin:round; stroke-width:2; stroke-opacity:0.1; fill:none\" points=\"\n",
       "  112.177,1178.16 2352.76,1178.16 \n",
       "  \"/>\n",
       "<polyline clip-path=\"url(#clip462)\" style=\"stroke:#000000; stroke-linecap:butt; stroke-linejoin:round; stroke-width:2; stroke-opacity:0.1; fill:none\" points=\"\n",
       "  112.177,910.361 2352.76,910.361 \n",
       "  \"/>\n",
       "<polyline clip-path=\"url(#clip462)\" style=\"stroke:#000000; stroke-linecap:butt; stroke-linejoin:round; stroke-width:2; stroke-opacity:0.1; fill:none\" points=\"\n",
       "  112.177,642.56 2352.76,642.56 \n",
       "  \"/>\n",
       "<polyline clip-path=\"url(#clip462)\" style=\"stroke:#000000; stroke-linecap:butt; stroke-linejoin:round; stroke-width:2; stroke-opacity:0.1; fill:none\" points=\"\n",
       "  112.177,374.759 2352.76,374.759 \n",
       "  \"/>\n",
       "<polyline clip-path=\"url(#clip462)\" style=\"stroke:#000000; stroke-linecap:butt; stroke-linejoin:round; stroke-width:2; stroke-opacity:0.1; fill:none\" points=\"\n",
       "  112.177,106.959 2352.76,106.959 \n",
       "  \"/>\n",
       "<polyline clip-path=\"url(#clip460)\" style=\"stroke:#000000; stroke-linecap:butt; stroke-linejoin:round; stroke-width:4; stroke-opacity:1; fill:none\" points=\"\n",
       "  112.177,1486.45 112.177,47.2441 \n",
       "  \"/>\n",
       "<polyline clip-path=\"url(#clip460)\" style=\"stroke:#000000; stroke-linecap:butt; stroke-linejoin:round; stroke-width:4; stroke-opacity:1; fill:none\" points=\"\n",
       "  112.177,1445.96 131.075,1445.96 \n",
       "  \"/>\n",
       "<polyline clip-path=\"url(#clip460)\" style=\"stroke:#000000; stroke-linecap:butt; stroke-linejoin:round; stroke-width:4; stroke-opacity:1; fill:none\" points=\"\n",
       "  112.177,1178.16 131.075,1178.16 \n",
       "  \"/>\n",
       "<polyline clip-path=\"url(#clip460)\" style=\"stroke:#000000; stroke-linecap:butt; stroke-linejoin:round; stroke-width:4; stroke-opacity:1; fill:none\" points=\"\n",
       "  112.177,910.361 131.075,910.361 \n",
       "  \"/>\n",
       "<polyline clip-path=\"url(#clip460)\" style=\"stroke:#000000; stroke-linecap:butt; stroke-linejoin:round; stroke-width:4; stroke-opacity:1; fill:none\" points=\"\n",
       "  112.177,642.56 131.075,642.56 \n",
       "  \"/>\n",
       "<polyline clip-path=\"url(#clip460)\" style=\"stroke:#000000; stroke-linecap:butt; stroke-linejoin:round; stroke-width:4; stroke-opacity:1; fill:none\" points=\"\n",
       "  112.177,374.759 131.075,374.759 \n",
       "  \"/>\n",
       "<polyline clip-path=\"url(#clip460)\" style=\"stroke:#000000; stroke-linecap:butt; stroke-linejoin:round; stroke-width:4; stroke-opacity:1; fill:none\" points=\"\n",
       "  112.177,106.959 131.075,106.959 \n",
       "  \"/>\n",
       "<path clip-path=\"url(#clip460)\" d=\"M64.2328 1431.76 Q60.6217 1431.76 58.793 1435.33 Q56.9875 1438.87 56.9875 1446 Q56.9875 1453.1 58.793 1456.67 Q60.6217 1460.21 64.2328 1460.21 Q67.867 1460.21 69.6726 1456.67 Q71.5013 1453.1 71.5013 1446 Q71.5013 1438.87 69.6726 1435.33 Q67.867 1431.76 64.2328 1431.76 M64.2328 1428.06 Q70.0429 1428.06 73.0985 1432.66 Q76.1772 1437.25 76.1772 1446 Q76.1772 1454.72 73.0985 1459.33 Q70.0429 1463.91 64.2328 1463.91 Q58.4226 1463.91 55.344 1459.33 Q52.2884 1454.72 52.2884 1446 Q52.2884 1437.25 55.344 1432.66 Q58.4226 1428.06 64.2328 1428.06 Z\" fill=\"#000000\" fill-rule=\"evenodd\" fill-opacity=\"1\" /><path clip-path=\"url(#clip460)\" d=\"M56.2699 1191.51 L63.9087 1191.51 L63.9087 1165.14 L55.5986 1166.81 L55.5986 1162.55 L63.8624 1160.88 L68.5383 1160.88 L68.5383 1191.51 L76.1772 1191.51 L76.1772 1195.44 L56.2699 1195.44 L56.2699 1191.51 Z\" fill=\"#000000\" fill-rule=\"evenodd\" fill-opacity=\"1\" /><path clip-path=\"url(#clip460)\" d=\"M59.8578 923.705 L76.1772 923.705 L76.1772 927.641 L54.2328 927.641 L54.2328 923.705 Q56.8949 920.951 61.4782 916.321 Q66.0846 911.668 67.2652 910.326 Q69.5105 907.803 70.3902 906.067 Q71.2929 904.307 71.2929 902.618 Q71.2929 899.863 69.3485 898.127 Q67.4272 896.391 64.3254 896.391 Q62.1263 896.391 59.6726 897.155 Q57.2421 897.919 54.4643 899.469 L54.4643 894.747 Q57.2884 893.613 59.7421 893.034 Q62.1958 892.456 64.2328 892.456 Q69.6031 892.456 72.7976 895.141 Q75.992 897.826 75.992 902.317 Q75.992 904.446 75.1818 906.368 Q74.3948 908.266 72.2883 910.858 Q71.7096 911.53 68.6078 914.747 Q65.5059 917.942 59.8578 923.705 Z\" fill=\"#000000\" fill-rule=\"evenodd\" fill-opacity=\"1\" /><path clip-path=\"url(#clip460)\" d=\"M69.0476 641.206 Q72.404 641.923 74.279 644.192 Q76.1772 646.46 76.1772 649.794 Q76.1772 654.909 72.6587 657.71 Q69.1402 660.511 62.6587 660.511 Q60.4828 660.511 58.168 660.071 Q55.8764 659.655 53.4227 658.798 L53.4227 654.284 Q55.3671 655.419 57.6819 655.997 Q59.9967 656.576 62.5198 656.576 Q66.918 656.576 69.2096 654.84 Q71.5244 653.104 71.5244 649.794 Q71.5244 646.738 69.3717 645.025 Q67.242 643.289 63.4226 643.289 L59.3949 643.289 L59.3949 639.447 L63.6078 639.447 Q67.0569 639.447 68.8855 638.081 Q70.7142 636.692 70.7142 634.099 Q70.7142 631.437 68.8161 630.025 Q66.9411 628.59 63.4226 628.59 Q61.5013 628.59 59.3023 629.007 Q57.1032 629.423 54.4643 630.303 L54.4643 626.136 Q57.1264 625.396 59.4412 625.025 Q61.7791 624.655 63.8393 624.655 Q69.1633 624.655 72.2652 627.086 Q75.367 629.493 75.367 633.613 Q75.367 636.484 73.7235 638.474 Q72.08 640.442 69.0476 641.206 Z\" fill=\"#000000\" fill-rule=\"evenodd\" fill-opacity=\"1\" /><path clip-path=\"url(#clip460)\" d=\"M66.5939 361.553 L54.7884 380.002 L66.5939 380.002 L66.5939 361.553 M65.367 357.479 L71.2466 357.479 L71.2466 380.002 L76.1772 380.002 L76.1772 383.891 L71.2466 383.891 L71.2466 392.039 L66.5939 392.039 L66.5939 383.891 L50.9921 383.891 L50.9921 379.377 L65.367 357.479 Z\" fill=\"#000000\" fill-rule=\"evenodd\" fill-opacity=\"1\" /><path clip-path=\"url(#clip460)\" d=\"M55.2745 89.6788 L73.6309 89.6788 L73.6309 93.614 L59.5569 93.614 L59.5569 102.086 Q60.5754 101.739 61.5939 101.577 Q62.6124 101.392 63.6309 101.392 Q69.418 101.392 72.7976 104.563 Q76.1772 107.734 76.1772 113.151 Q76.1772 118.73 72.705 121.831 Q69.2328 124.91 62.9134 124.91 Q60.7374 124.91 58.4689 124.54 Q56.2236 124.169 53.8162 123.429 L53.8162 118.73 Q55.8995 119.864 58.1217 120.419 Q60.3439 120.975 62.8208 120.975 Q66.8254 120.975 69.1633 118.868 Q71.5013 116.762 71.5013 113.151 Q71.5013 109.54 69.1633 107.433 Q66.8254 105.327 62.8208 105.327 Q60.9458 105.327 59.0708 105.744 Q57.2189 106.16 55.2745 107.04 L55.2745 89.6788 Z\" fill=\"#000000\" fill-rule=\"evenodd\" fill-opacity=\"1\" /><polyline clip-path=\"url(#clip462)\" style=\"stroke:#009af9; stroke-linecap:butt; stroke-linejoin:round; stroke-width:4; stroke-opacity:1; fill:none\" points=\"\n",
       "  175.59,1445.72 186.212,1445.69 196.834,1445.65 207.455,1445.57 218.077,1445.47 228.699,1445.33 239.321,1445.13 249.943,1444.88 260.565,1444.56 271.187,1444.14 \n",
       "  281.809,1443.62 292.43,1442.95 303.052,1442.12 313.674,1441.09 324.296,1439.81 334.918,1438.24 345.54,1436.32 356.162,1433.99 366.784,1431.19 377.405,1427.83 \n",
       "  388.027,1423.83 398.649,1419.1 409.271,1413.54 419.893,1407.05 430.515,1399.52 441.137,1390.85 451.759,1380.91 462.38,1369.62 473.002,1356.86 483.624,1342.54 \n",
       "  494.246,1326.59 504.868,1308.95 515.49,1289.57 526.112,1268.44 536.734,1245.57 547.355,1220.99 557.977,1194.8 568.599,1167.1 579.221,1138.06 589.843,1107.85 \n",
       "  600.465,1076.72 611.087,1044.93 621.709,1012.77 632.33,980.59 642.952,948.729 653.574,917.557 664.196,887.451 674.818,858.786 685.44,831.926 696.062,807.216 \n",
       "  706.684,784.969 717.306,765.459 727.927,748.909 738.549,735.485 749.171,725.288 759.793,718.348 770.415,714.622 781.037,713.988 791.659,716.249 802.281,721.133 \n",
       "  812.902,728.3 823.524,737.343 834.146,747.803 844.768,759.173 855.39,770.913 866.012,782.464 876.634,793.258 887.256,802.734 897.877,810.352 908.499,815.609 \n",
       "  919.121,818.05 929.743,817.282 940.365,812.984 950.987,804.918 961.609,792.935 972.231,776.982 982.852,757.102 993.474,733.436 1004.1,706.218 1014.72,675.773 \n",
       "  1025.34,642.505 1035.96,606.889 1046.58,569.457 1057.21,530.783 1067.83,491.468 1078.45,452.119 1089.07,413.336 1099.69,375.693 1110.31,339.72 1120.94,305.887 \n",
       "  1131.56,274.593 1142.18,246.155 1152.8,220.8 1163.42,198.656 1174.05,179.76 1184.67,164.051 1195.29,151.381 1205.91,141.525 1216.53,134.19 1227.16,129.031 \n",
       "  1237.78,125.666 1248.4,123.696 1259.02,122.719 1269.64,122.348 1280.26,122.23 1290.89,122.054 1301.51,121.567 1312.13,120.581 1322.75,118.979 1333.37,116.716 \n",
       "  1344,113.815 1354.62,110.369 1365.24,106.526 1375.86,102.484 1386.48,98.4763 1397.11,94.7587 1407.73,91.5975 1418.35,89.2547 1428.97,87.9763 1439.59,87.9807 \n",
       "  1450.22,89.4502 1460.84,92.5246 1471.46,97.2967 1482.08,103.811 1492.7,112.068 1503.32,122.021 1513.95,133.593 1524.57,146.672 1535.19,161.131 1545.81,176.831 \n",
       "  1556.43,193.633 1567.06,211.404 1577.68,230.031 1588.3,249.422 1598.92,269.512 1609.54,290.268 1620.17,311.687 1630.79,333.795 1641.41,356.645 1652.03,380.309 \n",
       "  1662.65,404.876 1673.27,430.441 1683.9,457.096 1694.52,484.926 1705.14,513.999 1715.76,544.36 1726.38,576.024 1737.01,608.973 1747.63,643.153 1758.25,678.474 \n",
       "  1768.87,714.808 1779.49,751.995 1790.12,789.842 1800.74,828.135 1811.36,866.637 1821.98,905.1 1832.6,943.27 1843.22,980.894 1853.85,1017.73 1864.47,1053.53 \n",
       "  1875.09,1088.11 1885.71,1121.26 1896.33,1152.82 1906.96,1182.67 1917.58,1210.7 1928.2,1236.84 1938.82,1261.05 1949.44,1283.33 1960.07,1303.68 1970.69,1322.16 \n",
       "  1981.31,1338.82 1991.93,1353.74 2002.55,1367.01 2013.17,1378.74 2023.8,1389.05 2034.42,1398.04 2045.04,1405.83 2055.66,1412.54 2066.28,1418.28 2076.91,1423.17 \n",
       "  2087.53,1427.29 2098.15,1430.76 2108.77,1433.65 2119.39,1436.05 2130.02,1438.02 2140.64,1439.64 2151.26,1440.95 2161.88,1442.02 2172.5,1442.87 2183.12,1443.56 \n",
       "  2193.75,1444.1 2204.37,1444.52 2214.99,1444.86 2225.61,1445.11 2236.23,1445.31 2246.86,1445.46 2257.48,1445.57 2268.1,1445.64 2278.72,1445.69 2289.34,1445.71 \n",
       "  \n",
       "  \"/>\n",
       "<path clip-path=\"url(#clip460)\" d=\"\n",
       "M1976.69 198.898 L2278.07 198.898 L2278.07 95.2176 L1976.69 95.2176  Z\n",
       "  \" fill=\"#ffffff\" fill-rule=\"evenodd\" fill-opacity=\"1\"/>\n",
       "<polyline clip-path=\"url(#clip460)\" style=\"stroke:#000000; stroke-linecap:butt; stroke-linejoin:round; stroke-width:4; stroke-opacity:1; fill:none\" points=\"\n",
       "  1976.69,198.898 2278.07,198.898 2278.07,95.2176 1976.69,95.2176 1976.69,198.898 \n",
       "  \"/>\n",
       "<polyline clip-path=\"url(#clip460)\" style=\"stroke:#009af9; stroke-linecap:butt; stroke-linejoin:round; stroke-width:4; stroke-opacity:1; fill:none\" points=\"\n",
       "  2001.58,147.058 2150.95,147.058 \n",
       "  \"/>\n",
       "<path clip-path=\"url(#clip460)\" d=\"M2189.69 166.745 Q2187.89 171.375 2186.17 172.787 Q2184.46 174.199 2181.59 174.199 L2178.19 174.199 L2178.19 170.634 L2180.69 170.634 Q2182.45 170.634 2183.42 169.8 Q2184.39 168.967 2185.57 165.865 L2186.34 163.921 L2175.85 138.412 L2180.36 138.412 L2188.46 158.689 L2196.57 138.412 L2201.08 138.412 L2189.69 166.745 Z\" fill=\"#000000\" fill-rule=\"evenodd\" fill-opacity=\"1\" /><path clip-path=\"url(#clip460)\" d=\"M2208.37 160.402 L2216.01 160.402 L2216.01 134.037 L2207.7 135.703 L2207.7 131.444 L2215.96 129.778 L2220.64 129.778 L2220.64 160.402 L2228.28 160.402 L2228.28 164.338 L2208.37 164.338 L2208.37 160.402 Z\" fill=\"#000000\" fill-rule=\"evenodd\" fill-opacity=\"1\" /></svg>\n"
      ]
     },
     "execution_count": 10,
     "metadata": {},
     "output_type": "execute_result"
    }
   ],
   "source": [
    "density(lls)"
   ]
  },
  {
   "cell_type": "code",
   "execution_count": null,
   "id": "960e70ca-0878-4055-84ce-cad6606ab819",
   "metadata": {},
   "outputs": [],
   "source": []
  }
 ],
 "metadata": {
  "kernelspec": {
   "display_name": "Julia 1.7.1",
   "language": "julia",
   "name": "julia-1.7"
  },
  "language_info": {
   "file_extension": ".jl",
   "mimetype": "application/julia",
   "name": "julia",
   "version": "1.7.1"
  }
 },
 "nbformat": 4,
 "nbformat_minor": 5
}
