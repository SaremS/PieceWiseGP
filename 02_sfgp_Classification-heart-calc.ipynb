{
 "cells": [
  {
   "cell_type": "code",
   "execution_count": 1,
   "id": "306f139c-fd46-4b96-aa35-18a9af0ea356",
   "metadata": {},
   "outputs": [],
   "source": [
    "using Plots, StatsPlots\n",
    "include(\"src/SFGP_classification.jl\")\n",
    "using Flux\n",
    "using StatsBase\n",
    "using CSV, DataFrames\n",
    "using ScikitLearn\n",
    "using KnetMetrics\n",
    "using Tables"
   ]
  },
  {
   "cell_type": "code",
   "execution_count": 2,
   "id": "f687c0e7-192c-416e-b86d-6b8f72c05259",
   "metadata": {},
   "outputs": [
    {
     "data": {
      "text/plain": [
       "297×14 Matrix{Float64}:\n",
       " 63.0  1.0  1.0  145.0  233.0  1.0  2.0  150.0  0.0  2.3  3.0  0.0  6.0  0.0\n",
       " 67.0  1.0  4.0  160.0  286.0  0.0  2.0  108.0  1.0  1.5  2.0  3.0  3.0  2.0\n",
       " 67.0  1.0  4.0  120.0  229.0  0.0  2.0  129.0  1.0  2.6  2.0  2.0  7.0  1.0\n",
       " 37.0  1.0  3.0  130.0  250.0  0.0  0.0  187.0  0.0  3.5  3.0  0.0  3.0  0.0\n",
       " 41.0  0.0  2.0  130.0  204.0  0.0  2.0  172.0  0.0  1.4  1.0  0.0  3.0  0.0\n",
       " 56.0  1.0  2.0  120.0  236.0  0.0  0.0  178.0  0.0  0.8  1.0  0.0  3.0  0.0\n",
       " 62.0  0.0  4.0  140.0  268.0  0.0  2.0  160.0  0.0  3.6  3.0  2.0  3.0  3.0\n",
       " 57.0  0.0  4.0  120.0  354.0  0.0  0.0  163.0  1.0  0.6  1.0  0.0  3.0  0.0\n",
       " 63.0  1.0  4.0  130.0  254.0  0.0  2.0  147.0  0.0  1.4  2.0  1.0  7.0  2.0\n",
       " 53.0  1.0  4.0  140.0  203.0  1.0  2.0  155.0  1.0  3.1  3.0  0.0  7.0  1.0\n",
       " 57.0  1.0  4.0  140.0  192.0  0.0  0.0  148.0  0.0  0.4  2.0  0.0  6.0  0.0\n",
       " 56.0  0.0  2.0  140.0  294.0  0.0  2.0  153.0  0.0  1.3  2.0  0.0  3.0  0.0\n",
       " 56.0  1.0  3.0  130.0  256.0  1.0  2.0  142.0  1.0  0.6  2.0  1.0  6.0  2.0\n",
       "  ⋮                            ⋮                          ⋮              \n",
       " 67.0  1.0  3.0  152.0  212.0  0.0  2.0  150.0  0.0  0.8  2.0  0.0  7.0  1.0\n",
       " 55.0  0.0  2.0  132.0  342.0  0.0  0.0  166.0  0.0  1.2  1.0  0.0  3.0  0.0\n",
       " 44.0  1.0  4.0  120.0  169.0  0.0  0.0  144.0  1.0  2.8  3.0  0.0  6.0  2.0\n",
       " 63.0  1.0  4.0  140.0  187.0  0.0  2.0  144.0  1.0  4.0  1.0  2.0  7.0  2.0\n",
       " 63.0  0.0  4.0  124.0  197.0  0.0  0.0  136.0  1.0  0.0  2.0  0.0  3.0  1.0\n",
       " 41.0  1.0  2.0  120.0  157.0  0.0  0.0  182.0  0.0  0.0  1.0  0.0  3.0  0.0\n",
       " 59.0  1.0  4.0  164.0  176.0  1.0  2.0   90.0  0.0  1.0  2.0  2.0  6.0  3.0\n",
       " 57.0  0.0  4.0  140.0  241.0  0.0  0.0  123.0  1.0  0.2  2.0  0.0  7.0  1.0\n",
       " 45.0  1.0  1.0  110.0  264.0  0.0  0.0  132.0  0.0  1.2  2.0  0.0  7.0  1.0\n",
       " 68.0  1.0  4.0  144.0  193.0  1.0  0.0  141.0  0.0  3.4  2.0  2.0  7.0  2.0\n",
       " 57.0  1.0  4.0  130.0  131.0  0.0  0.0  115.0  1.0  1.2  2.0  1.0  7.0  3.0\n",
       " 57.0  0.0  2.0  130.0  236.0  0.0  2.0  174.0  0.0  0.0  2.0  1.0  3.0  1.0"
      ]
     },
     "execution_count": 2,
     "metadata": {},
     "output_type": "execute_result"
    }
   ],
   "source": [
    "df = CSV.File(\"./data/heart.csv\",header = false) |> DataFrame\n",
    "df = df[(df[:,12].!=\"?\").*(df[:,13].!=\"?\"),:]\n",
    "\n",
    "df[!,12] = parse.(Float64,string.(df[:,12]))\n",
    "df[!,13] = parse.(Float64,string.(df[:,13]))\n",
    "\n",
    "df = Matrix(df)"
   ]
  },
  {
   "cell_type": "code",
   "execution_count": 3,
   "id": "4d8d82db-dc0c-4615-83d9-4d6ceddc4c18",
   "metadata": {},
   "outputs": [
    {
     "data": {
      "text/plain": [
       "137-element view(::Vector{Float64}, [2, 3, 7, 9, 10, 13, 17, 23, 24, 25  …  286, 288, 289, 290, 292, 293, 294, 295, 296, 297]) with eltype Float64:\n",
       " 1.0\n",
       " 1.0\n",
       " 1.0\n",
       " 1.0\n",
       " 1.0\n",
       " 1.0\n",
       " 1.0\n",
       " 1.0\n",
       " 1.0\n",
       " 1.0\n",
       " 1.0\n",
       " 1.0\n",
       " 1.0\n",
       " ⋮\n",
       " 1.0\n",
       " 1.0\n",
       " 1.0\n",
       " 1.0\n",
       " 1.0\n",
       " 1.0\n",
       " 1.0\n",
       " 1.0\n",
       " 1.0\n",
       " 1.0\n",
       " 1.0\n",
       " 1.0"
      ]
     },
     "execution_count": 3,
     "metadata": {},
     "output_type": "execute_result"
    }
   ],
   "source": [
    "X = transpose(df)[1:end-1,:]\n",
    "y = transpose(df)[end:end,:]\n",
    "y[y.!=0] .= 1 "
   ]
  },
  {
   "cell_type": "code",
   "execution_count": 4,
   "id": "bc10b27b-0984-4a9f-8c61-3bfb8e4f9830",
   "metadata": {},
   "outputs": [
    {
     "data": {
      "text/plain": [
       "getF1score (generic function with 1 method)"
      ]
     },
     "execution_count": 4,
     "metadata": {},
     "output_type": "execute_result"
    }
   ],
   "source": [
    "function getLoglike(mm::SFGP,X,y)\n",
    "    \n",
    "    m,S = mm.gp(X)\n",
    "    s = Matrix(transpose(sqrt.(diag(S))[:,:]))\n",
    "    \n",
    "    probs = getProbs.(m,s,mm.lower,mm.upper)\n",
    "    vals = (mm.vals)\n",
    "    \n",
    "    return mean(logpdf.([MixtureModel(Bernoulli.(vals),p) for p in Flux.unstack(probs,2)],y[:]))\n",
    "end\n",
    "\n",
    "\n",
    "function getF1score(mm::SFGP,X,y)\n",
    "    \n",
    "    m,S = mm.gp(X)\n",
    "    s = Matrix(transpose(sqrt.(diag(S))[:,:]))\n",
    "    \n",
    "    probs = getProbs.(m,s,mm.lower,mm.upper)\n",
    "    vals = (mm.vals)\n",
    "    \n",
    "    predictions = round.(mean.([MixtureModel(Bernoulli.(vals),p) for p in Flux.unstack(probs,2)]))\n",
    "    \n",
    "    return KnetMetrics.f1_score(KnetMetrics.confusion_matrix(Int.(y[:]),Int.(predictions), labels=[0,1]),class_name=1)\n",
    "    \n",
    "end"
   ]
  },
  {
   "cell_type": "code",
   "execution_count": 5,
   "id": "d0107415-7066-44f6-8744-b88e5c0ab64a",
   "metadata": {},
   "outputs": [
    {
     "name": "stdout",
     "output_type": "stream",
     "text": [
      "1\n",
      "2\n",
      "3\n",
      "4\n",
      "5\n",
      "6\n",
      "7\n",
      "8\n",
      "9\n",
      "10\n"
     ]
    },
    {
     "name": "stderr",
     "output_type": "stream",
     "text": [
      "┌ Warning: There are elements of value 0 in the false positives array. This may lead to false values for some functions\n",
      "└ @ KnetMetrics.Classification /Users/saremseitz/.julia/packages/KnetMetrics/9L9oI/src/classification/confusion_matrix.jl:209\n",
      "┌ Warning: There are elements of value 0 in the false negatives array. This may lead to false values for some functions\n",
      "└ @ KnetMetrics.Classification /Users/saremseitz/.julia/packages/KnetMetrics/9L9oI/src/classification/confusion_matrix.jl:212\n",
      "┌ Warning: There are elements of value 0 in the false positives array. This may lead to false values for some functions\n",
      "└ @ KnetMetrics.Classification /Users/saremseitz/.julia/packages/KnetMetrics/9L9oI/src/classification/confusion_matrix.jl:209\n",
      "┌ Warning: There are elements of value 0 in the false negatives array. This may lead to false values for some functions\n",
      "└ @ KnetMetrics.Classification /Users/saremseitz/.julia/packages/KnetMetrics/9L9oI/src/classification/confusion_matrix.jl:212\n"
     ]
    }
   ],
   "source": [
    "import Random\n",
    "Random.seed!(321)\n",
    "\n",
    "folds = ScikitLearn.CrossValidation.KFold(size(X,2),n_folds=10)\n",
    "\n",
    "lls = []\n",
    "f1s = []\n",
    "i = 0\n",
    "\n",
    "for (train, test) in folds\n",
    "    \n",
    "    Xm = mean(X,dims=2)\n",
    "    Xs = std(X,dims=2)\n",
    "    sfgp = SFGP(SVGP((X[:,1:10] .- Xm)./Xs),100,5)\n",
    "    \n",
    "    params = Flux.params(sfgp)\n",
    "    opt = ADAM(0.05)\n",
    "    \n",
    "    Xtrain = X[:,train]\n",
    "    \n",
    "    mean_train = mean(Xtrain,dims=2)\n",
    "    std_train = std(Xtrain,dims=2)\n",
    "    Xtrain = (Xtrain.-mean_train) ./ std_train\n",
    "    \n",
    "    Xtest = X[:,test]\n",
    "    Xtest = (Xtest.-mean_train) ./ std_train\n",
    "    ytrain = y[:,train]\n",
    "    ytest = y[:,test]\n",
    "    \n",
    "    for i in 1:350\n",
    "        grads = Zygote.gradient(() -> sample_elbo(sfgp,Xtrain,ytrain),params)\n",
    "        Flux.Optimise.update!(opt,params,grads)\n",
    "    end\n",
    "    \n",
    "    push!(lls, getLoglike(sfgp,Xtest,ytest))\n",
    "    push!(f1s, getF1score(sfgp,Xtest,ytest))\n",
    "    \n",
    "    i = i+1\n",
    "    println(i)\n",
    "end"
   ]
  },
  {
   "cell_type": "code",
   "execution_count": 6,
   "id": "52730c37-c383-4ef7-906c-405a164846cb",
   "metadata": {},
   "outputs": [
    {
     "name": "stdout",
     "output_type": "stream",
     "text": [
      "-0.397242499896138\n",
      "0.08255946052460975\n"
     ]
    }
   ],
   "source": [
    "println(mean(lls))\n",
    "println(std(lls))"
   ]
  },
  {
   "cell_type": "code",
   "execution_count": 7,
   "id": "f47f9e15-fad9-4e4f-8468-2d6aea0bb8e1",
   "metadata": {},
   "outputs": [
    {
     "name": "stdout",
     "output_type": "stream",
     "text": [
      "0.8219841701594858\n",
      "0.07494024227370344\n"
     ]
    }
   ],
   "source": [
    "println(mean(f1s))\n",
    "println(std(f1s))"
   ]
  },
  {
   "cell_type": "code",
   "execution_count": 8,
   "id": "59c484da-e2fe-4c27-b396-5150c0c21cc6",
   "metadata": {},
   "outputs": [
    {
     "data": {
      "text/plain": [
       "\"./evals/sfgp_classification_heart.csv\""
      ]
     },
     "execution_count": 8,
     "metadata": {},
     "output_type": "execute_result"
    }
   ],
   "source": [
    "df = DataFrame(hcat(lls,f1s),[:loglike,:f1score])\n",
    "CSV.write(\"./evals/sfgp_classification_heart.csv\",  df)"
   ]
  },
  {
   "cell_type": "code",
   "execution_count": null,
   "id": "44c356de-78a5-4f49-85a4-8d1c4d0681c1",
   "metadata": {},
   "outputs": [],
   "source": []
  },
  {
   "cell_type": "code",
   "execution_count": null,
   "id": "ca9ee484-2172-499a-85fe-39b85e9b8536",
   "metadata": {},
   "outputs": [],
   "source": []
  }
 ],
 "metadata": {
  "kernelspec": {
   "display_name": "Julia 1.7.1",
   "language": "julia",
   "name": "julia-1.7"
  },
  "language_info": {
   "file_extension": ".jl",
   "mimetype": "application/julia",
   "name": "julia",
   "version": "1.7.1"
  }
 },
 "nbformat": 4,
 "nbformat_minor": 5
}
