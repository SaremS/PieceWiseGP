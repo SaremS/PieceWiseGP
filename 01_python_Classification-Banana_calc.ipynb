{
 "cells": [
  {
   "cell_type": "code",
   "execution_count": 3,
   "id": "47e7b7ac-76ac-4801-960b-ee0f66229a0e",
   "metadata": {},
   "outputs": [],
   "source": [
    "import numpy as np\n",
    "import pandas as pd\n",
    "import torch\n",
    "import gpytorch\n",
    "import math\n",
    "import matplotlib.pyplot as plt\n",
    "from gpytorch.models import ApproximateGP\n",
    "from gpytorch.variational import CholeskyVariationalDistribution\n",
    "from gpytorch.variational import UnwhitenedVariationalStrategy\n",
    "from sklearn.model_selection import KFold\n",
    "from sklearn.metrics import f1_score\n",
    "from gpytorch.utils.quadrature import GaussHermiteQuadrature1D\n",
    "\n",
    "\n",
    "class GPClassificationModel(ApproximateGP):\n",
    "    \n",
    "    \n",
    "    def __init__(self,inducing_points):\n",
    "        \n",
    "        \n",
    "        variational_distribution = CholeskyVariationalDistribution(inducing_points.size(0))\n",
    "        variational_strategy = UnwhitenedVariationalStrategy(\n",
    "            self, inducing_points, variational_distribution, learn_inducing_locations=True\n",
    "        )\n",
    "        super(GPClassificationModel, self).__init__(variational_strategy)\n",
    "        self.mean_module = gpytorch.means.ConstantMean()\n",
    "        self.covar_module = gpytorch.kernels.ScaleKernel(gpytorch.kernels.RBFKernel())\n",
    "       \n",
    "\n",
    "    def forward(self, x):\n",
    "        mean_x = self.mean_module(x)\n",
    "        covar_x = self.covar_module(x)\n",
    "        latent_pred = gpytorch.distributions.MultivariateNormal(mean_x, covar_x)\n",
    "        return latent_pred\n"
   ]
  },
  {
   "cell_type": "code",
   "execution_count": 4,
   "id": "4ab156b9-7f6b-4d8c-a72a-d73c01c66a8a",
   "metadata": {},
   "outputs": [],
   "source": [
    "df = pd.read_csv(\"./data/banana.csv\")\n",
    "df[\"Class\"] = (df[\"Class\"]+1)/2\n",
    "\n",
    "X = torch.tensor(df.iloc[:,:2].values,dtype=torch.float32)\n",
    "y = torch.tensor(df.iloc[:,2].values,dtype=torch.float32)"
   ]
  },
  {
   "cell_type": "code",
   "execution_count": 15,
   "id": "945a137f-01a7-4758-9a15-56fae9ff8e30",
   "metadata": {},
   "outputs": [
    {
     "name": "stdout",
     "output_type": "stream",
     "text": [
      "1\n",
      "2\n",
      "3\n",
      "4\n",
      "5\n",
      "6\n",
      "7\n",
      "8\n",
      "9\n",
      "10\n"
     ]
    }
   ],
   "source": [
    "torch.manual_seed(321)\n",
    "np.random.seed(321)\n",
    "\n",
    "folds = KFold(10)\n",
    "splits = folds.split(X)\n",
    "\n",
    "i = 0\n",
    "\n",
    "lls = []\n",
    "f1s = []\n",
    "\n",
    "for train, test in splits:\n",
    "    \n",
    "    Xtrain = X[train,:]\n",
    "    \n",
    "    Xtrain_mean = np.mean(Xtrain.numpy(),0)\n",
    "    Xtrain_std = np.std(Xtrain.numpy(),0)\n",
    "    Xtrain = (Xtrain - Xtrain_mean) / Xtrain_std\n",
    "    \n",
    "    \n",
    "    Xtest = X[test,:]\n",
    "    Xtest = (Xtest - Xtrain_mean) / Xtrain_std\n",
    "    \n",
    "    ytrain = y[train]\n",
    "    ytest = y[test]\n",
    "    \n",
    "    Xm = np.mean(X.numpy(),0)\n",
    "    Xs = np.std(X.numpy(),0)\n",
    "\n",
    "    model = GPClassificationModel((X[:10,:]-Xm)/Xs)\n",
    "\n",
    "\n",
    "    likelihood = gpytorch.likelihoods.BernoulliLikelihood()\n",
    "    model.train()\n",
    "    likelihood.train()\n",
    "        \n",
    "    optimizer = torch.optim.Adam(model.parameters(), lr=0.05)\n",
    "    \n",
    "    mll = gpytorch.mlls.VariationalELBO(likelihood, model, num_data=len(Xtrain))\n",
    "    \n",
    "    for j in range(350):\n",
    "        optimizer.zero_grad()\n",
    "\n",
    "        samp = np.random.choice(len(Xtrain),100,replace=True)\n",
    "        Xsamp = Xtrain[samp,:]\n",
    "        ysamp = ytrain[samp]\n",
    "        \n",
    "        output = model(Xsamp)\n",
    "        loss = -mll(output, ysamp)\n",
    "        loss.backward()\n",
    "    \n",
    "        optimizer.step()\n",
    "    \n",
    "    \n",
    "    norm = torch.distributions.normal.Normal(0,1)\n",
    "    ll = torch.mean(GaussHermiteQuadrature1D()(lambda x: ytest*torch.log(norm.cdf(x)+1e-6)+(1-ytest)*torch.log((1-norm.cdf(x)+1e-6)),model(Xtest))).detach().numpy()\n",
    "    lls.append(ll)\n",
    "    \n",
    "    f1 = f1_score(ytest.detach().numpy(),np.round(GaussHermiteQuadrature1D()(lambda x: norm.cdf(x),model(Xtest)).detach().numpy()))\n",
    "    f1s.append(f1)\n",
    "\n",
    "\n",
    "    i += 1\n",
    "    print(i)"
   ]
  },
  {
   "cell_type": "code",
   "execution_count": 16,
   "id": "79430701-ccf4-43cb-8f4f-2508e719f5c2",
   "metadata": {},
   "outputs": [
    {
     "data": {
      "text/plain": [
       "-0.2717239"
      ]
     },
     "execution_count": 16,
     "metadata": {},
     "output_type": "execute_result"
    }
   ],
   "source": [
    "np.mean(lls)"
   ]
  },
  {
   "cell_type": "code",
   "execution_count": 17,
   "id": "d9ce198f-62f4-4dbe-b3e1-d55805f3fc9f",
   "metadata": {},
   "outputs": [
    {
     "data": {
      "text/plain": [
       "0.01859266"
      ]
     },
     "execution_count": 17,
     "metadata": {},
     "output_type": "execute_result"
    }
   ],
   "source": [
    "np.std(lls)"
   ]
  },
  {
   "cell_type": "code",
   "execution_count": 18,
   "id": "e64f4389-6d8c-4cf8-b1a3-06a011511b56",
   "metadata": {},
   "outputs": [
    {
     "data": {
      "text/plain": [
       "0.8717704809961146"
      ]
     },
     "execution_count": 18,
     "metadata": {},
     "output_type": "execute_result"
    }
   ],
   "source": [
    "np.mean(f1s)"
   ]
  },
  {
   "cell_type": "code",
   "execution_count": 19,
   "id": "d37b2d84-5923-484a-b6aa-5f0b28f09234",
   "metadata": {},
   "outputs": [
    {
     "data": {
      "text/plain": [
       "0.014163429876978531"
      ]
     },
     "execution_count": 19,
     "metadata": {},
     "output_type": "execute_result"
    }
   ],
   "source": [
    "np.std(f1s)"
   ]
  },
  {
   "cell_type": "code",
   "execution_count": null,
   "id": "4265e45a-bbd3-4cd8-8c77-78f54cbb90fd",
   "metadata": {},
   "outputs": [],
   "source": []
  },
  {
   "cell_type": "code",
   "execution_count": null,
   "id": "e619154b-5196-4777-a3bb-95d29af95d48",
   "metadata": {},
   "outputs": [],
   "source": []
  }
 ],
 "metadata": {
  "kernelspec": {
   "display_name": "Python 3",
   "language": "python",
   "name": "python3"
  },
  "language_info": {
   "codemirror_mode": {
    "name": "ipython",
    "version": 3
   },
   "file_extension": ".py",
   "mimetype": "text/x-python",
   "name": "python",
   "nbconvert_exporter": "python",
   "pygments_lexer": "ipython3",
   "version": "3.7.3"
  }
 },
 "nbformat": 4,
 "nbformat_minor": 5
}
