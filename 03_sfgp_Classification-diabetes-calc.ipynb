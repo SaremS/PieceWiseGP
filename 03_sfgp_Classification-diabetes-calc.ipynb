{
 "cells": [
  {
   "cell_type": "code",
   "execution_count": 1,
   "id": "306f139c-fd46-4b96-aa35-18a9af0ea356",
   "metadata": {},
   "outputs": [],
   "source": [
    "using Plots, StatsPlots\n",
    "include(\"src/SFGP_classification.jl\")\n",
    "using Flux\n",
    "using StatsBase\n",
    "using CSV, DataFrames\n",
    "using ScikitLearn\n",
    "using KnetMetrics\n",
    "using Tables"
   ]
  },
  {
   "cell_type": "code",
   "execution_count": 2,
   "id": "f687c0e7-192c-416e-b86d-6b8f72c05259",
   "metadata": {},
   "outputs": [
    {
     "data": {
      "text/plain": [
       "16×520 Matrix{Float64}:\n",
       " 40.0  58.0  41.0  45.0  60.0  55.0  …  54.0  39.0  48.0  58.0  32.0  42.0\n",
       "  1.0   1.0   1.0   1.0   1.0   1.0      0.0   0.0   0.0   0.0   0.0   1.0\n",
       "  0.0   0.0   1.0   0.0   1.0   1.0      1.0   1.0   1.0   1.0   0.0   0.0\n",
       "  1.0   0.0   0.0   0.0   1.0   1.0      1.0   1.0   1.0   1.0   0.0   0.0\n",
       "  0.0   0.0   0.0   1.0   1.0   0.0      1.0   1.0   1.0   1.0   0.0   0.0\n",
       "  1.0   1.0   1.0   1.0   1.0   1.0  …   1.0   0.0   1.0   1.0   1.0   0.0\n",
       "  0.0   0.0   1.0   1.0   1.0   1.0      1.0   1.0   1.0   1.0   0.0   0.0\n",
       "  0.0   0.0   0.0   1.0   0.0   0.0      0.0   0.0   0.0   0.0   0.0   0.0\n",
       "  0.0   1.0   0.0   0.0   1.0   1.0      0.0   0.0   0.0   1.0   1.0   0.0\n",
       "  1.0   0.0   1.0   1.0   1.0   1.0      0.0   1.0   1.0   0.0   1.0   0.0\n",
       "  0.0   0.0   0.0   0.0   1.0   0.0  …   0.0   0.0   1.0   0.0   0.0   0.0\n",
       "  1.0   0.0   1.0   1.0   1.0   1.0      0.0   1.0   1.0   0.0   1.0   0.0\n",
       "  0.0   1.0   0.0   0.0   1.0   0.0      1.0   1.0   1.0   1.0   0.0   0.0\n",
       "  1.0   0.0   1.0   0.0   1.0   1.0      0.0   0.0   0.0   1.0   0.0   0.0\n",
       "  1.0   1.0   1.0   0.0   1.0   1.0      0.0   0.0   0.0   0.0   1.0   0.0\n",
       "  1.0   0.0   0.0   0.0   1.0   1.0  …   0.0   0.0   0.0   1.0   0.0   0.0"
      ]
     },
     "execution_count": 2,
     "metadata": {},
     "output_type": "execute_result"
    }
   ],
   "source": [
    "df = CSV.File(\"./data/diabetes.csv\",header = true) |> DataFrame\n",
    "y = df[!,end]\n",
    "y = Float64.(Flux.onehotbatch(y,[\"Positive\", \"Negative\"])[1:1,:])\n",
    "\n",
    "age = Matrix(transpose(Float64.(df[!,1][:,:])))\n",
    "gender = Matrix((Float64.(Flux.onehotbatch(df[!,2][:,:], [\"Male\", \"Female\"])[1:1,:])))\n",
    "rest = vcat([Matrix((Float64.(Flux.onehotbatch(df[!,c][:,:], [\"Yes\", \"No\"])[1:1,:]))) for c in 3:(size(df,2)-1)]...)\n",
    "\n",
    "X = vcat(age,gender,rest)"
   ]
  },
  {
   "cell_type": "code",
   "execution_count": 3,
   "id": "bc10b27b-0984-4a9f-8c61-3bfb8e4f9830",
   "metadata": {},
   "outputs": [
    {
     "data": {
      "text/plain": [
       "getF1score (generic function with 1 method)"
      ]
     },
     "execution_count": 3,
     "metadata": {},
     "output_type": "execute_result"
    }
   ],
   "source": [
    "function getLoglike(mm::SFGP,X,y)\n",
    "    \n",
    "    m,S = mm.gp(X)\n",
    "    s = Matrix(transpose(sqrt.(diag(S))[:,:]))\n",
    "    \n",
    "    probs = getProbs.(m,s,mm.lower,mm.upper)\n",
    "    vals = (mm.vals)\n",
    "    \n",
    "    return mean(logpdf.([MixtureModel(Bernoulli.(vals),p) for p in Flux.unstack(probs,2)],y[:]))\n",
    "end\n",
    "\n",
    "\n",
    "function getF1score(mm::SFGP,X,y)\n",
    "    \n",
    "    m,S = mm.gp(X)\n",
    "    s = Matrix(transpose(sqrt.(diag(S))[:,:]))\n",
    "    \n",
    "    probs = getProbs.(m,s,mm.lower,mm.upper)\n",
    "    vals = (mm.vals)\n",
    "    \n",
    "    predictions = round.(mean.([MixtureModel(Bernoulli.(vals),p) for p in Flux.unstack(probs,2)]))\n",
    "    \n",
    "    return KnetMetrics.f1_score(KnetMetrics.confusion_matrix(Int.(y[:]),Int.(predictions), labels=[0,1]),class_name=1)\n",
    "    \n",
    "end"
   ]
  },
  {
   "cell_type": "code",
   "execution_count": 4,
   "id": "d0107415-7066-44f6-8744-b88e5c0ab64a",
   "metadata": {},
   "outputs": [
    {
     "name": "stdout",
     "output_type": "stream",
     "text": [
      "1\n",
      "2\n",
      "3\n",
      "4\n",
      "5\n",
      "6\n",
      "7\n",
      "8\n",
      "9\n",
      "10\n"
     ]
    },
    {
     "name": "stderr",
     "output_type": "stream",
     "text": [
      "┌ Warning: There are elements of value 0 in the true positives array. This may lead to false values for some functions\n",
      "└ @ KnetMetrics.Classification /Users/saremseitz/.julia/packages/KnetMetrics/9L9oI/src/classification/confusion_matrix.jl:203\n",
      "┌ Warning: There are elements of value 0 in the true negatives array. This may lead to false values for some functions\n",
      "└ @ KnetMetrics.Classification /Users/saremseitz/.julia/packages/KnetMetrics/9L9oI/src/classification/confusion_matrix.jl:206\n",
      "┌ Warning: There are elements of value 0 in the false positives array. This may lead to false values for some functions\n",
      "└ @ KnetMetrics.Classification /Users/saremseitz/.julia/packages/KnetMetrics/9L9oI/src/classification/confusion_matrix.jl:209\n",
      "┌ Warning: There are elements of value 0 in the false negatives array. This may lead to false values for some functions\n",
      "└ @ KnetMetrics.Classification /Users/saremseitz/.julia/packages/KnetMetrics/9L9oI/src/classification/confusion_matrix.jl:212\n",
      "┌ Warning: There are elements of value 0 in the true positives array. This may lead to false values for some functions\n",
      "└ @ KnetMetrics.Classification /Users/saremseitz/.julia/packages/KnetMetrics/9L9oI/src/classification/confusion_matrix.jl:203\n",
      "┌ Warning: There are elements of value 0 in the true negatives array. This may lead to false values for some functions\n",
      "└ @ KnetMetrics.Classification /Users/saremseitz/.julia/packages/KnetMetrics/9L9oI/src/classification/confusion_matrix.jl:206\n",
      "┌ Warning: There are elements of value 0 in the false positives array. This may lead to false values for some functions\n",
      "└ @ KnetMetrics.Classification /Users/saremseitz/.julia/packages/KnetMetrics/9L9oI/src/classification/confusion_matrix.jl:209\n",
      "┌ Warning: There are elements of value 0 in the false negatives array. This may lead to false values for some functions\n",
      "└ @ KnetMetrics.Classification /Users/saremseitz/.julia/packages/KnetMetrics/9L9oI/src/classification/confusion_matrix.jl:212\n",
      "┌ Warning: There are elements of value 0 in the true positives array. This may lead to false values for some functions\n",
      "└ @ KnetMetrics.Classification /Users/saremseitz/.julia/packages/KnetMetrics/9L9oI/src/classification/confusion_matrix.jl:203\n",
      "┌ Warning: There are elements of value 0 in the true negatives array. This may lead to false values for some functions\n",
      "└ @ KnetMetrics.Classification /Users/saremseitz/.julia/packages/KnetMetrics/9L9oI/src/classification/confusion_matrix.jl:206\n",
      "┌ Warning: There are elements of value 0 in the false positives array. This may lead to false values for some functions\n",
      "└ @ KnetMetrics.Classification /Users/saremseitz/.julia/packages/KnetMetrics/9L9oI/src/classification/confusion_matrix.jl:209\n",
      "┌ Warning: There are elements of value 0 in the false negatives array. This may lead to false values for some functions\n",
      "└ @ KnetMetrics.Classification /Users/saremseitz/.julia/packages/KnetMetrics/9L9oI/src/classification/confusion_matrix.jl:212\n",
      "┌ Warning: There are elements of value 0 in the false positives array. This may lead to false values for some functions\n",
      "└ @ KnetMetrics.Classification /Users/saremseitz/.julia/packages/KnetMetrics/9L9oI/src/classification/confusion_matrix.jl:209\n",
      "┌ Warning: There are elements of value 0 in the false negatives array. This may lead to false values for some functions\n",
      "└ @ KnetMetrics.Classification /Users/saremseitz/.julia/packages/KnetMetrics/9L9oI/src/classification/confusion_matrix.jl:212\n",
      "┌ Warning: There are elements of value 0 in the false positives array. This may lead to false values for some functions\n",
      "└ @ KnetMetrics.Classification /Users/saremseitz/.julia/packages/KnetMetrics/9L9oI/src/classification/confusion_matrix.jl:209\n",
      "┌ Warning: There are elements of value 0 in the false negatives array. This may lead to false values for some functions\n",
      "└ @ KnetMetrics.Classification /Users/saremseitz/.julia/packages/KnetMetrics/9L9oI/src/classification/confusion_matrix.jl:212\n",
      "┌ Warning: There are elements of value 0 in the false positives array. This may lead to false values for some functions\n",
      "└ @ KnetMetrics.Classification /Users/saremseitz/.julia/packages/KnetMetrics/9L9oI/src/classification/confusion_matrix.jl:209\n",
      "┌ Warning: There are elements of value 0 in the false negatives array. This may lead to false values for some functions\n",
      "└ @ KnetMetrics.Classification /Users/saremseitz/.julia/packages/KnetMetrics/9L9oI/src/classification/confusion_matrix.jl:212\n",
      "┌ Warning: There are elements of value 0 in the false positives array. This may lead to false values for some functions\n",
      "└ @ KnetMetrics.Classification /Users/saremseitz/.julia/packages/KnetMetrics/9L9oI/src/classification/confusion_matrix.jl:209\n",
      "┌ Warning: There are elements of value 0 in the false negatives array. This may lead to false values for some functions\n",
      "└ @ KnetMetrics.Classification /Users/saremseitz/.julia/packages/KnetMetrics/9L9oI/src/classification/confusion_matrix.jl:212\n"
     ]
    }
   ],
   "source": [
    "import Random\n",
    "Random.seed!(321)\n",
    "\n",
    "folds = ScikitLearn.CrossValidation.KFold(size(X,2),n_folds=10)\n",
    "\n",
    "lls = []\n",
    "f1s = []\n",
    "i = 0\n",
    "\n",
    "for (train, test) in folds\n",
    "    \n",
    "    Xm = mean(X,dims=2)\n",
    "    Xs = std(X,dims=2)\n",
    "    sfgp = SFGP(SVGP((X[:,1:10] .- Xm)./Xs),100,5)\n",
    "    \n",
    "    params = Flux.params(sfgp)\n",
    "    opt = ADAM(0.05)\n",
    "    \n",
    "    Xtrain = X[:,train]\n",
    "    \n",
    "    mean_train = mean(Xtrain,dims=2)\n",
    "    std_train = std(Xtrain,dims=2)\n",
    "    Xtrain = (Xtrain.-mean_train) ./ std_train\n",
    "    \n",
    "    Xtest = X[:,test]\n",
    "    Xtest = (Xtest.-mean_train) ./ std_train\n",
    "    ytrain = y[:,train]\n",
    "    ytest = y[:,test]\n",
    "    \n",
    "    for i in 1:350\n",
    "        grads = Zygote.gradient(() -> sample_elbo(sfgp,Xtrain,ytrain),params)\n",
    "        Flux.Optimise.update!(opt,params,grads)\n",
    "    end\n",
    "    \n",
    "    push!(lls, getLoglike(sfgp,Xtest,ytest))\n",
    "    push!(f1s, getF1score(sfgp,Xtest,ytest))\n",
    "    \n",
    "    i = i+1\n",
    "    println(i)\n",
    "end"
   ]
  },
  {
   "cell_type": "code",
   "execution_count": 5,
   "id": "52730c37-c383-4ef7-906c-405a164846cb",
   "metadata": {},
   "outputs": [
    {
     "name": "stdout",
     "output_type": "stream",
     "text": [
      "-0.24063003573982839\n",
      "0.09592383849016625\n"
     ]
    }
   ],
   "source": [
    "println(mean(lls))\n",
    "println(std(lls))"
   ]
  },
  {
   "cell_type": "code",
   "execution_count": 6,
   "id": "f47f9e15-fad9-4e4f-8468-2d6aea0bb8e1",
   "metadata": {},
   "outputs": [
    {
     "name": "stdout",
     "output_type": "stream",
     "text": [
      "0.9123873024804834\n",
      "0.07368496468281466\n"
     ]
    }
   ],
   "source": [
    "println(mean(f1s))\n",
    "println(std(f1s))"
   ]
  },
  {
   "cell_type": "code",
   "execution_count": 7,
   "id": "59c484da-e2fe-4c27-b396-5150c0c21cc6",
   "metadata": {},
   "outputs": [
    {
     "data": {
      "text/plain": [
       "\"./evals/sfgp_classification_diabetes.csv\""
      ]
     },
     "execution_count": 7,
     "metadata": {},
     "output_type": "execute_result"
    }
   ],
   "source": [
    "df = DataFrame(hcat(lls,f1s),[:loglike,:f1score])\n",
    "CSV.write(\"./evals/sfgp_classification_diabetes.csv\",  df)"
   ]
  },
  {
   "cell_type": "code",
   "execution_count": null,
   "id": "44c356de-78a5-4f49-85a4-8d1c4d0681c1",
   "metadata": {},
   "outputs": [],
   "source": []
  },
  {
   "cell_type": "code",
   "execution_count": null,
   "id": "ca9ee484-2172-499a-85fe-39b85e9b8536",
   "metadata": {},
   "outputs": [],
   "source": []
  }
 ],
 "metadata": {
  "kernelspec": {
   "display_name": "Julia 1.7.1",
   "language": "julia",
   "name": "julia-1.7"
  },
  "language_info": {
   "file_extension": ".jl",
   "mimetype": "application/julia",
   "name": "julia",
   "version": "1.7.1"
  }
 },
 "nbformat": 4,
 "nbformat_minor": 5
}
