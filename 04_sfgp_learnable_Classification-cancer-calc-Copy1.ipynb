{
 "cells": [
  {
   "cell_type": "code",
   "execution_count": 8,
   "id": "306f139c-fd46-4b96-aa35-18a9af0ea356",
   "metadata": {},
   "outputs": [],
   "source": [
    "using Plots, StatsPlots\n",
    "include(\"src/SFGP_classification-learnable.jl\")\n",
    "using Flux\n",
    "using StatsBase\n",
    "using CSV, DataFrames\n",
    "using ScikitLearn\n",
    "using KnetMetrics\n",
    "using Tables"
   ]
  },
  {
   "cell_type": "code",
   "execution_count": 9,
   "id": "f687c0e7-192c-416e-b86d-6b8f72c05259",
   "metadata": {},
   "outputs": [
    {
     "data": {
      "text/plain": [
       "30×569 Matrix{Float64}:\n",
       "   17.99        20.57        19.69      …    20.6         7.76\n",
       "   10.38        17.77        21.25           29.33       24.54\n",
       "  122.8        132.9        130.0           140.1        47.92\n",
       " 1001.0       1326.0       1203.0          1265.0       181.0\n",
       "    0.1184       0.08474      0.1096          0.1178      0.05263\n",
       "    0.2776       0.07864      0.1599    …     0.277       0.04362\n",
       "    0.3001       0.0869       0.1974          0.3514      0.0\n",
       "    0.1471       0.07017      0.1279          0.152       0.0\n",
       "    0.2419       0.1812       0.2069          0.2397      0.1587\n",
       "    0.07871      0.05667      0.05999         0.07016     0.05884\n",
       "    1.095        0.5435       0.7456    …     0.726       0.3857\n",
       "    0.9053       0.7339       0.7869          1.595       1.428\n",
       "    8.589        3.398        4.585           5.772       2.548\n",
       "    ⋮                                   ⋱               \n",
       "    0.03003      0.01389      0.0225          0.02324     0.02676\n",
       "    0.006193     0.003532     0.004571        0.006185    0.002783\n",
       "   25.38        24.99        23.57      …    25.74        9.456\n",
       "   17.33        23.41        25.53           39.42       30.37\n",
       "  184.6        158.8        152.5           184.6        59.16\n",
       " 2019.0       1956.0       1709.0          1821.0       268.6\n",
       "    0.1622       0.1238       0.1444          0.165       0.08996\n",
       "    0.6656       0.1866       0.4245    …     0.8681      0.06444\n",
       "    0.7119       0.2416       0.4504          0.9387      0.0\n",
       "    0.2654       0.186        0.243           0.265       0.0\n",
       "    0.4601       0.275        0.3613          0.4087      0.2871\n",
       "    0.1189       0.08902      0.08758         0.124       0.07039"
      ]
     },
     "execution_count": 9,
     "metadata": {},
     "output_type": "execute_result"
    }
   ],
   "source": [
    "df = CSV.File(\"./data/cancer.csv\",header = false) |> DataFrame\n",
    "\n",
    "y = df[!,2]\n",
    "y = Float64.(Flux.onehotbatch(y,[\"M\", \"B\"])[1:1,:])\n",
    "\n",
    "X = Matrix(transpose(Matrix(df[!,3:end])))"
   ]
  },
  {
   "cell_type": "code",
   "execution_count": 10,
   "id": "bc10b27b-0984-4a9f-8c61-3bfb8e4f9830",
   "metadata": {},
   "outputs": [
    {
     "data": {
      "text/plain": [
       "getF1score (generic function with 1 method)"
      ]
     },
     "execution_count": 10,
     "metadata": {},
     "output_type": "execute_result"
    }
   ],
   "source": [
    "function getLoglike(mm::SFGP,X,y)\n",
    "    \n",
    "    m,S = mm.gp(X)\n",
    "    s = Matrix(transpose(sqrt.(diag(S))[:,:]))\n",
    "    \n",
    "    probs = getProbs.(m,s,mm.lower,mm.upper)\n",
    "    vals = σ.(mm.vals)\n",
    "    \n",
    "    return mean(logpdf.([MixtureModel(Bernoulli.(vals),p) for p in Flux.unstack(probs,2)],y[:]))\n",
    "end\n",
    "\n",
    "\n",
    "function getF1score(mm::SFGP,X,y)\n",
    "    \n",
    "    m,S = mm.gp(X)\n",
    "    s = Matrix(transpose(sqrt.(diag(S))[:,:]))\n",
    "    \n",
    "    probs = getProbs.(m,s,mm.lower,mm.upper)\n",
    "    vals = σ.(mm.vals)\n",
    "    \n",
    "    predictions = round.(mean.([MixtureModel(Bernoulli.(vals),p) for p in Flux.unstack(probs,2)]))\n",
    "    \n",
    "    return KnetMetrics.f1_score(KnetMetrics.confusion_matrix(Int.(y[:]),Int.(predictions), labels=[0,1]),class_name=1)\n",
    "    \n",
    "end"
   ]
  },
  {
   "cell_type": "code",
   "execution_count": 11,
   "id": "d0107415-7066-44f6-8744-b88e5c0ab64a",
   "metadata": {},
   "outputs": [
    {
     "name": "stdout",
     "output_type": "stream",
     "text": [
      "1\n",
      "2\n",
      "3\n",
      "4\n",
      "5\n",
      "6\n",
      "7\n",
      "8\n",
      "9\n",
      "10\n"
     ]
    },
    {
     "name": "stderr",
     "output_type": "stream",
     "text": [
      "┌ Warning: There are elements of value 0 in the false positives array. This may lead to false values for some functions\n",
      "└ @ KnetMetrics.Classification /Users/saremseitz/.julia/packages/KnetMetrics/9L9oI/src/classification/confusion_matrix.jl:209\n",
      "┌ Warning: There are elements of value 0 in the false negatives array. This may lead to false values for some functions\n",
      "└ @ KnetMetrics.Classification /Users/saremseitz/.julia/packages/KnetMetrics/9L9oI/src/classification/confusion_matrix.jl:212\n",
      "┌ Warning: There are elements of value 0 in the false positives array. This may lead to false values for some functions\n",
      "└ @ KnetMetrics.Classification /Users/saremseitz/.julia/packages/KnetMetrics/9L9oI/src/classification/confusion_matrix.jl:209\n",
      "┌ Warning: There are elements of value 0 in the false negatives array. This may lead to false values for some functions\n",
      "└ @ KnetMetrics.Classification /Users/saremseitz/.julia/packages/KnetMetrics/9L9oI/src/classification/confusion_matrix.jl:212\n",
      "┌ Warning: There are elements of value 0 in the false positives array. This may lead to false values for some functions\n",
      "└ @ KnetMetrics.Classification /Users/saremseitz/.julia/packages/KnetMetrics/9L9oI/src/classification/confusion_matrix.jl:209\n",
      "┌ Warning: There are elements of value 0 in the false negatives array. This may lead to false values for some functions\n",
      "└ @ KnetMetrics.Classification /Users/saremseitz/.julia/packages/KnetMetrics/9L9oI/src/classification/confusion_matrix.jl:212\n",
      "┌ Warning: There are elements of value 0 in the false positives array. This may lead to false values for some functions\n",
      "└ @ KnetMetrics.Classification /Users/saremseitz/.julia/packages/KnetMetrics/9L9oI/src/classification/confusion_matrix.jl:209\n",
      "┌ Warning: There are elements of value 0 in the false negatives array. This may lead to false values for some functions\n",
      "└ @ KnetMetrics.Classification /Users/saremseitz/.julia/packages/KnetMetrics/9L9oI/src/classification/confusion_matrix.jl:212\n",
      "┌ Warning: There are elements of value 0 in the false positives array. This may lead to false values for some functions\n",
      "└ @ KnetMetrics.Classification /Users/saremseitz/.julia/packages/KnetMetrics/9L9oI/src/classification/confusion_matrix.jl:209\n",
      "┌ Warning: There are elements of value 0 in the false negatives array. This may lead to false values for some functions\n",
      "└ @ KnetMetrics.Classification /Users/saremseitz/.julia/packages/KnetMetrics/9L9oI/src/classification/confusion_matrix.jl:212\n",
      "┌ Warning: There are elements of value 0 in the false positives array. This may lead to false values for some functions\n",
      "└ @ KnetMetrics.Classification /Users/saremseitz/.julia/packages/KnetMetrics/9L9oI/src/classification/confusion_matrix.jl:209\n",
      "┌ Warning: There are elements of value 0 in the false negatives array. This may lead to false values for some functions\n",
      "└ @ KnetMetrics.Classification /Users/saremseitz/.julia/packages/KnetMetrics/9L9oI/src/classification/confusion_matrix.jl:212\n",
      "┌ Warning: There are elements of value 0 in the false positives array. This may lead to false values for some functions\n",
      "└ @ KnetMetrics.Classification /Users/saremseitz/.julia/packages/KnetMetrics/9L9oI/src/classification/confusion_matrix.jl:209\n",
      "┌ Warning: There are elements of value 0 in the false negatives array. This may lead to false values for some functions\n",
      "└ @ KnetMetrics.Classification /Users/saremseitz/.julia/packages/KnetMetrics/9L9oI/src/classification/confusion_matrix.jl:212\n",
      "┌ Warning: There are elements of value 0 in the false positives array. This may lead to false values for some functions\n",
      "└ @ KnetMetrics.Classification /Users/saremseitz/.julia/packages/KnetMetrics/9L9oI/src/classification/confusion_matrix.jl:209\n",
      "┌ Warning: There are elements of value 0 in the false negatives array. This may lead to false values for some functions\n",
      "└ @ KnetMetrics.Classification /Users/saremseitz/.julia/packages/KnetMetrics/9L9oI/src/classification/confusion_matrix.jl:212\n",
      "┌ Warning: There are elements of value 0 in the false positives array. This may lead to false values for some functions\n",
      "└ @ KnetMetrics.Classification /Users/saremseitz/.julia/packages/KnetMetrics/9L9oI/src/classification/confusion_matrix.jl:209\n",
      "┌ Warning: There are elements of value 0 in the false negatives array. This may lead to false values for some functions\n",
      "└ @ KnetMetrics.Classification /Users/saremseitz/.julia/packages/KnetMetrics/9L9oI/src/classification/confusion_matrix.jl:212\n"
     ]
    }
   ],
   "source": [
    "import Random\n",
    "Random.seed!(321)\n",
    "\n",
    "folds = ScikitLearn.CrossValidation.KFold(size(X,2),n_folds=10)\n",
    "\n",
    "lls = []\n",
    "f1s = []\n",
    "i = 0\n",
    "\n",
    "for (train, test) in folds\n",
    "\n",
    "    Xm = mean(X,dims=2)\n",
    "    Xs = std(X,dims=2)\n",
    "    sfgp = SFGP(SVGP((X[:,1:10] .- Xm)./Xs),20,3)\n",
    "    \n",
    "    params = Flux.params(sfgp)\n",
    "    opt = ADAM(0.05)\n",
    "    \n",
    "    Xtrain = X[:,train]\n",
    "    \n",
    "    mean_train = mean(Xtrain,dims=2)\n",
    "    std_train = std(Xtrain,dims=2)\n",
    "    Xtrain = (Xtrain.-mean_train) ./ std_train\n",
    "    \n",
    "    Xtest = X[:,test]\n",
    "    Xtest = (Xtest.-mean_train) ./ std_train\n",
    "    ytrain = y[:,train]\n",
    "    ytest = y[:,test]\n",
    "    \n",
    "    for i in 1:350\n",
    "        grads = Zygote.gradient(() -> sample_elbo(sfgp,Xtrain,ytrain),params)\n",
    "        Flux.Optimise.update!(opt,params,grads)\n",
    "    end\n",
    "    \n",
    "    push!(lls, getLoglike(sfgp,Xtest,ytest))\n",
    "    push!(f1s, getF1score(sfgp,Xtest,ytest))\n",
    "    \n",
    "    i = i+1\n",
    "    println(i)\n",
    "end"
   ]
  },
  {
   "cell_type": "code",
   "execution_count": 12,
   "id": "52730c37-c383-4ef7-906c-405a164846cb",
   "metadata": {},
   "outputs": [
    {
     "name": "stdout",
     "output_type": "stream",
     "text": [
      "-0.08584886978665499\n",
      "0.03302769689439013\n"
     ]
    }
   ],
   "source": [
    "println(mean(lls))\n",
    "println(std(lls))"
   ]
  },
  {
   "cell_type": "code",
   "execution_count": 13,
   "id": "f47f9e15-fad9-4e4f-8468-2d6aea0bb8e1",
   "metadata": {},
   "outputs": [
    {
     "name": "stdout",
     "output_type": "stream",
     "text": [
      "0.9618343250951945\n",
      "0.019822076250138033\n"
     ]
    }
   ],
   "source": [
    "println(mean(f1s))\n",
    "println(std(f1s))"
   ]
  },
  {
   "cell_type": "code",
   "execution_count": 14,
   "id": "59c484da-e2fe-4c27-b396-5150c0c21cc6",
   "metadata": {},
   "outputs": [
    {
     "data": {
      "text/plain": [
       "\"./evals/sfgp_learnable_classification_cancer.csv\""
      ]
     },
     "execution_count": 14,
     "metadata": {},
     "output_type": "execute_result"
    }
   ],
   "source": [
    "df = DataFrame(hcat(lls,f1s),[:loglike,:f1score])\n",
    "CSV.write(\"./evals/sfgp_learnable_classification_cancer.csv\",  df)"
   ]
  },
  {
   "cell_type": "code",
   "execution_count": null,
   "id": "44c356de-78a5-4f49-85a4-8d1c4d0681c1",
   "metadata": {},
   "outputs": [],
   "source": []
  },
  {
   "cell_type": "code",
   "execution_count": null,
   "id": "ca9ee484-2172-499a-85fe-39b85e9b8536",
   "metadata": {},
   "outputs": [],
   "source": []
  }
 ],
 "metadata": {
  "kernelspec": {
   "display_name": "Julia 1.7.1",
   "language": "julia",
   "name": "julia-1.7"
  },
  "language_info": {
   "file_extension": ".jl",
   "mimetype": "application/julia",
   "name": "julia",
   "version": "1.7.1"
  }
 },
 "nbformat": 4,
 "nbformat_minor": 5
}
