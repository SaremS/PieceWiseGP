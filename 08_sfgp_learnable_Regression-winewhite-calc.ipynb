{
 "cells": [
  {
   "cell_type": "code",
   "execution_count": 1,
   "id": "306f139c-fd46-4b96-aa35-18a9af0ea356",
   "metadata": {},
   "outputs": [],
   "source": [
    "using Plots, StatsPlots\n",
    "include(\"src/SFGP_regression-learnable.jl\")\n",
    "using Flux\n",
    "using StatsBase\n",
    "using CSV, DataFrames\n",
    "using ScikitLearn\n",
    "using KnetMetrics\n",
    "using Tables"
   ]
  },
  {
   "cell_type": "code",
   "execution_count": 2,
   "id": "4d8d82db-dc0c-4615-83d9-4d6ceddc4c18",
   "metadata": {},
   "outputs": [
    {
     "data": {
      "text/plain": [
       "1×4898 Matrix{Float64}:\n",
       " 6.0  6.0  6.0  6.0  6.0  6.0  6.0  6.0  …  6.0  5.0  6.0  5.0  6.0  7.0  6.0"
      ]
     },
     "execution_count": 2,
     "metadata": {},
     "output_type": "execute_result"
    }
   ],
   "source": [
    "df = Matrix(CSV.File(\"./data/winequality-white.csv\") |> DataFrame)\n",
    "X = Matrix(transpose(df[:,1:end-1]))\n",
    "y = Matrix(transpose(df[:,end:end]))\n"
   ]
  },
  {
   "cell_type": "code",
   "execution_count": 3,
   "id": "bc10b27b-0984-4a9f-8c61-3bfb8e4f9830",
   "metadata": {},
   "outputs": [
    {
     "data": {
      "text/plain": [
       "getRMSE (generic function with 1 method)"
      ]
     },
     "execution_count": 3,
     "metadata": {},
     "output_type": "execute_result"
    }
   ],
   "source": [
    "function getLoglike(mm::SFGP,X,y)\n",
    "    \n",
    "    m,S = mm.gp(X)\n",
    "    s = Matrix(transpose(sqrt.(diag(S))[:,:]))\n",
    "    \n",
    "    probs = getProbs.(m,s,mm.lower,mm.upper)\n",
    "    vals = (mm.vals) \n",
    "    \n",
    "\n",
    "    return mean(logpdf.([MixtureModel(Normal.(vals,abs(mm.s[1,1])),p) for p in Flux.unstack(probs,2)],y[:]))\n",
    "end\n",
    "\n",
    "\n",
    "function getRMSE(mm::SFGP,X,y)\n",
    "    \n",
    "    m,S = mm.gp(X)\n",
    "    s = Matrix(transpose(sqrt.(diag(S))[:,:]))\n",
    "    \n",
    "    probs = getProbs.(m,s,mm.lower,mm.upper)\n",
    "    vals = (mm.vals) \n",
    "    \n",
    "    \n",
    "    return sqrt.(mean(((sum(probs.*vals,dims=1).-y).^2)))\n",
    "    \n",
    "end"
   ]
  },
  {
   "cell_type": "code",
   "execution_count": 4,
   "id": "d0107415-7066-44f6-8744-b88e5c0ab64a",
   "metadata": {},
   "outputs": [
    {
     "name": "stdout",
     "output_type": "stream",
     "text": [
      "1\n",
      "2\n",
      "3\n",
      "4\n",
      "5\n",
      "6\n",
      "7\n",
      "8\n",
      "9\n",
      "10\n"
     ]
    }
   ],
   "source": [
    "import Random\n",
    "Random.seed!(321)\n",
    "\n",
    "folds = ScikitLearn.CrossValidation.KFold(size(X,2),n_folds=10)\n",
    "\n",
    "lls = []\n",
    "rmses = []\n",
    "i = 0\n",
    "\n",
    "for (train, test) in folds\n",
    "\n",
    "    Xm = mean(X,dims=2)\n",
    "    Xs = std(X,dims=2)\n",
    "    sfgp = SFGP(SVGP((X[:,1:10] .- Xm)./Xs),20,3)\n",
    "    \n",
    "    params = Flux.params(sfgp)\n",
    "    opt = ADAM(0.05)\n",
    "    \n",
    "    Xtrain = X[:,train]\n",
    "    \n",
    "    mean_train = mean(Xtrain,dims=2)\n",
    "    std_train = std(Xtrain,dims=2)\n",
    "    Xtrain = (Xtrain.-mean_train) ./ std_train\n",
    "    \n",
    "    Xtest = X[:,test]\n",
    "    Xtest = (Xtest.-mean_train) ./ std_train\n",
    "    \n",
    "    ytrain = y[:,train]\n",
    "    ytest = y[:,test]\n",
    "    mean_ytrain = mean(ytrain)\n",
    "    std_ytrain = std(ytrain)\n",
    "    ytrain = (ytrain.-mean_ytrain)./std_ytrain\n",
    "    ytest = (ytest.-mean_ytrain)./std_ytrain\n",
    "    \n",
    "    for i in 1:350\n",
    "        grads = Zygote.gradient(() -> sample_elbo(sfgp,Xtrain,ytrain),params)\n",
    "        Flux.Optimise.update!(opt,params,grads)\n",
    "    end\n",
    "    \n",
    "    push!(lls, getLoglike(sfgp,Xtest,ytest))\n",
    "    push!(rmses, getRMSE(sfgp,Xtest,ytest))\n",
    "    \n",
    "    i = i+1\n",
    "    println(i)\n",
    "end"
   ]
  },
  {
   "cell_type": "code",
   "execution_count": 5,
   "id": "52730c37-c383-4ef7-906c-405a164846cb",
   "metadata": {},
   "outputs": [
    {
     "name": "stdout",
     "output_type": "stream",
     "text": [
      "-1.2369048411646704\n",
      "0.08273622842689975\n"
     ]
    }
   ],
   "source": [
    "println(mean(lls))\n",
    "println(std(lls))"
   ]
  },
  {
   "cell_type": "code",
   "execution_count": 6,
   "id": "f47f9e15-fad9-4e4f-8468-2d6aea0bb8e1",
   "metadata": {},
   "outputs": [
    {
     "name": "stdout",
     "output_type": "stream",
     "text": [
      "0.8319113381141762\n",
      "0.07112636460036761\n"
     ]
    }
   ],
   "source": [
    "println(mean((rmses)))\n",
    "println(std((rmses)))"
   ]
  },
  {
   "cell_type": "code",
   "execution_count": 7,
   "id": "59c484da-e2fe-4c27-b396-5150c0c21cc6",
   "metadata": {},
   "outputs": [
    {
     "data": {
      "text/plain": [
       "\"./evals/sfgp_learnable_regression_winewhite.csv\""
      ]
     },
     "execution_count": 7,
     "metadata": {},
     "output_type": "execute_result"
    }
   ],
   "source": [
    "df = DataFrame(hcat(lls,rmses),[:loglike,:rmse])\n",
    "CSV.write(\"./evals/sfgp_learnable_regression_winewhite.csv\",  df)"
   ]
  },
  {
   "cell_type": "code",
   "execution_count": 8,
   "id": "ca9ee484-2172-499a-85fe-39b85e9b8536",
   "metadata": {},
   "outputs": [
    {
     "data": {
      "image/svg+xml": [
       "<?xml version=\"1.0\" encoding=\"utf-8\"?>\n",
       "<svg xmlns=\"http://www.w3.org/2000/svg\" xmlns:xlink=\"http://www.w3.org/1999/xlink\" width=\"600\" height=\"400\" viewBox=\"0 0 2400 1600\">\n",
       "<defs>\n",
       "  <clipPath id=\"clip560\">\n",
       "    <rect x=\"0\" y=\"0\" width=\"2400\" height=\"1600\"/>\n",
       "  </clipPath>\n",
       "</defs>\n",
       "<path clip-path=\"url(#clip560)\" d=\"\n",
       "M0 1600 L2400 1600 L2400 0 L0 0  Z\n",
       "  \" fill=\"#ffffff\" fill-rule=\"evenodd\" fill-opacity=\"1\"/>\n",
       "<defs>\n",
       "  <clipPath id=\"clip561\">\n",
       "    <rect x=\"480\" y=\"0\" width=\"1681\" height=\"1600\"/>\n",
       "  </clipPath>\n",
       "</defs>\n",
       "<path clip-path=\"url(#clip560)\" d=\"\n",
       "M112.177 1486.45 L2352.76 1486.45 L2352.76 47.2441 L112.177 47.2441  Z\n",
       "  \" fill=\"#ffffff\" fill-rule=\"evenodd\" fill-opacity=\"1\"/>\n",
       "<defs>\n",
       "  <clipPath id=\"clip562\">\n",
       "    <rect x=\"112\" y=\"47\" width=\"2242\" height=\"1440\"/>\n",
       "  </clipPath>\n",
       "</defs>\n",
       "<polyline clip-path=\"url(#clip562)\" style=\"stroke:#000000; stroke-linecap:butt; stroke-linejoin:round; stroke-width:2; stroke-opacity:0.1; fill:none\" points=\"\n",
       "  293.255,1486.45 293.255,47.2441 \n",
       "  \"/>\n",
       "<polyline clip-path=\"url(#clip562)\" style=\"stroke:#000000; stroke-linecap:butt; stroke-linejoin:round; stroke-width:2; stroke-opacity:0.1; fill:none\" points=\"\n",
       "  661.869,1486.45 661.869,47.2441 \n",
       "  \"/>\n",
       "<polyline clip-path=\"url(#clip562)\" style=\"stroke:#000000; stroke-linecap:butt; stroke-linejoin:round; stroke-width:2; stroke-opacity:0.1; fill:none\" points=\"\n",
       "  1030.48,1486.45 1030.48,47.2441 \n",
       "  \"/>\n",
       "<polyline clip-path=\"url(#clip562)\" style=\"stroke:#000000; stroke-linecap:butt; stroke-linejoin:round; stroke-width:2; stroke-opacity:0.1; fill:none\" points=\"\n",
       "  1399.1,1486.45 1399.1,47.2441 \n",
       "  \"/>\n",
       "<polyline clip-path=\"url(#clip562)\" style=\"stroke:#000000; stroke-linecap:butt; stroke-linejoin:round; stroke-width:2; stroke-opacity:0.1; fill:none\" points=\"\n",
       "  1767.71,1486.45 1767.71,47.2441 \n",
       "  \"/>\n",
       "<polyline clip-path=\"url(#clip562)\" style=\"stroke:#000000; stroke-linecap:butt; stroke-linejoin:round; stroke-width:2; stroke-opacity:0.1; fill:none\" points=\"\n",
       "  2136.32,1486.45 2136.32,47.2441 \n",
       "  \"/>\n",
       "<polyline clip-path=\"url(#clip560)\" style=\"stroke:#000000; stroke-linecap:butt; stroke-linejoin:round; stroke-width:4; stroke-opacity:1; fill:none\" points=\"\n",
       "  112.177,1486.45 2352.76,1486.45 \n",
       "  \"/>\n",
       "<polyline clip-path=\"url(#clip560)\" style=\"stroke:#000000; stroke-linecap:butt; stroke-linejoin:round; stroke-width:4; stroke-opacity:1; fill:none\" points=\"\n",
       "  293.255,1486.45 293.255,1467.55 \n",
       "  \"/>\n",
       "<polyline clip-path=\"url(#clip560)\" style=\"stroke:#000000; stroke-linecap:butt; stroke-linejoin:round; stroke-width:4; stroke-opacity:1; fill:none\" points=\"\n",
       "  661.869,1486.45 661.869,1467.55 \n",
       "  \"/>\n",
       "<polyline clip-path=\"url(#clip560)\" style=\"stroke:#000000; stroke-linecap:butt; stroke-linejoin:round; stroke-width:4; stroke-opacity:1; fill:none\" points=\"\n",
       "  1030.48,1486.45 1030.48,1467.55 \n",
       "  \"/>\n",
       "<polyline clip-path=\"url(#clip560)\" style=\"stroke:#000000; stroke-linecap:butt; stroke-linejoin:round; stroke-width:4; stroke-opacity:1; fill:none\" points=\"\n",
       "  1399.1,1486.45 1399.1,1467.55 \n",
       "  \"/>\n",
       "<polyline clip-path=\"url(#clip560)\" style=\"stroke:#000000; stroke-linecap:butt; stroke-linejoin:round; stroke-width:4; stroke-opacity:1; fill:none\" points=\"\n",
       "  1767.71,1486.45 1767.71,1467.55 \n",
       "  \"/>\n",
       "<polyline clip-path=\"url(#clip560)\" style=\"stroke:#000000; stroke-linecap:butt; stroke-linejoin:round; stroke-width:4; stroke-opacity:1; fill:none\" points=\"\n",
       "  2136.32,1486.45 2136.32,1467.55 \n",
       "  \"/>\n",
       "<path clip-path=\"url(#clip560)\" d=\"M240.28 1532.02 L269.956 1532.02 L269.956 1535.95 L240.28 1535.95 L240.28 1532.02 Z\" fill=\"#000000\" fill-rule=\"evenodd\" fill-opacity=\"1\" /><path clip-path=\"url(#clip560)\" d=\"M280.859 1544.91 L288.498 1544.91 L288.498 1518.55 L280.188 1520.21 L280.188 1515.95 L288.451 1514.29 L293.127 1514.29 L293.127 1544.91 L300.766 1544.91 L300.766 1548.85 L280.859 1548.85 L280.859 1544.91 Z\" fill=\"#000000\" fill-rule=\"evenodd\" fill-opacity=\"1\" /><path clip-path=\"url(#clip560)\" d=\"M310.211 1542.97 L315.095 1542.97 L315.095 1548.85 L310.211 1548.85 L310.211 1542.97 Z\" fill=\"#000000\" fill-rule=\"evenodd\" fill-opacity=\"1\" /><path clip-path=\"url(#clip560)\" d=\"M325.326 1514.29 L343.683 1514.29 L343.683 1518.22 L329.609 1518.22 L329.609 1526.7 Q330.627 1526.35 331.646 1526.19 Q332.664 1526 333.683 1526 Q339.47 1526 342.849 1529.17 Q346.229 1532.34 346.229 1537.76 Q346.229 1543.34 342.757 1546.44 Q339.285 1549.52 332.965 1549.52 Q330.789 1549.52 328.521 1549.15 Q326.275 1548.78 323.868 1548.04 L323.868 1543.34 Q325.951 1544.47 328.173 1545.03 Q330.396 1545.58 332.873 1545.58 Q336.877 1545.58 339.215 1543.48 Q341.553 1541.37 341.553 1537.76 Q341.553 1534.15 339.215 1532.04 Q336.877 1529.94 332.873 1529.94 Q330.998 1529.94 329.123 1530.35 Q327.271 1530.77 325.326 1531.65 L325.326 1514.29 Z\" fill=\"#000000\" fill-rule=\"evenodd\" fill-opacity=\"1\" /><path clip-path=\"url(#clip560)\" d=\"M608.154 1532.02 L637.829 1532.02 L637.829 1535.95 L608.154 1535.95 L608.154 1532.02 Z\" fill=\"#000000\" fill-rule=\"evenodd\" fill-opacity=\"1\" /><path clip-path=\"url(#clip560)\" d=\"M648.732 1544.91 L656.371 1544.91 L656.371 1518.55 L648.061 1520.21 L648.061 1515.95 L656.325 1514.29 L661 1514.29 L661 1544.91 L668.639 1544.91 L668.639 1548.85 L648.732 1548.85 L648.732 1544.91 Z\" fill=\"#000000\" fill-rule=\"evenodd\" fill-opacity=\"1\" /><path clip-path=\"url(#clip560)\" d=\"M678.084 1542.97 L682.968 1542.97 L682.968 1548.85 L678.084 1548.85 L678.084 1542.97 Z\" fill=\"#000000\" fill-rule=\"evenodd\" fill-opacity=\"1\" /><path clip-path=\"url(#clip560)\" d=\"M706 1518.36 L694.195 1536.81 L706 1536.81 L706 1518.36 M704.773 1514.29 L710.653 1514.29 L710.653 1536.81 L715.584 1536.81 L715.584 1540.7 L710.653 1540.7 L710.653 1548.85 L706 1548.85 L706 1540.7 L690.398 1540.7 L690.398 1536.19 L704.773 1514.29 Z\" fill=\"#000000\" fill-rule=\"evenodd\" fill-opacity=\"1\" /><path clip-path=\"url(#clip560)\" d=\"M977.335 1532.02 L1007.01 1532.02 L1007.01 1535.95 L977.335 1535.95 L977.335 1532.02 Z\" fill=\"#000000\" fill-rule=\"evenodd\" fill-opacity=\"1\" /><path clip-path=\"url(#clip560)\" d=\"M1017.91 1544.91 L1025.55 1544.91 L1025.55 1518.55 L1017.24 1520.21 L1017.24 1515.95 L1025.51 1514.29 L1030.18 1514.29 L1030.18 1544.91 L1037.82 1544.91 L1037.82 1548.85 L1017.91 1548.85 L1017.91 1544.91 Z\" fill=\"#000000\" fill-rule=\"evenodd\" fill-opacity=\"1\" /><path clip-path=\"url(#clip560)\" d=\"M1047.26 1542.97 L1052.15 1542.97 L1052.15 1548.85 L1047.26 1548.85 L1047.26 1542.97 Z\" fill=\"#000000\" fill-rule=\"evenodd\" fill-opacity=\"1\" /><path clip-path=\"url(#clip560)\" d=\"M1076.5 1530.21 Q1079.86 1530.93 1081.73 1533.2 Q1083.63 1535.47 1083.63 1538.8 Q1083.63 1543.92 1080.11 1546.72 Q1076.59 1549.52 1070.11 1549.52 Q1067.94 1549.52 1065.62 1549.08 Q1063.33 1548.66 1060.88 1547.81 L1060.88 1543.29 Q1062.82 1544.43 1065.13 1545.01 Q1067.45 1545.58 1069.97 1545.58 Q1074.37 1545.58 1076.66 1543.85 Q1078.98 1542.11 1078.98 1538.8 Q1078.98 1535.75 1076.82 1534.03 Q1074.7 1532.3 1070.88 1532.3 L1066.85 1532.3 L1066.85 1528.45 L1071.06 1528.45 Q1074.51 1528.45 1076.34 1527.09 Q1078.17 1525.7 1078.17 1523.11 Q1078.17 1520.45 1076.27 1519.03 Q1074.39 1517.6 1070.88 1517.6 Q1068.95 1517.6 1066.76 1518.01 Q1064.56 1518.43 1061.92 1519.31 L1061.92 1515.14 Q1064.58 1514.4 1066.89 1514.03 Q1069.23 1513.66 1071.29 1513.66 Q1076.62 1513.66 1079.72 1516.09 Q1082.82 1518.5 1082.82 1522.62 Q1082.82 1525.49 1081.18 1527.48 Q1079.53 1529.45 1076.5 1530.21 Z\" fill=\"#000000\" fill-rule=\"evenodd\" fill-opacity=\"1\" /><path clip-path=\"url(#clip560)\" d=\"M1346.42 1532.02 L1376.1 1532.02 L1376.1 1535.95 L1346.42 1535.95 L1346.42 1532.02 Z\" fill=\"#000000\" fill-rule=\"evenodd\" fill-opacity=\"1\" /><path clip-path=\"url(#clip560)\" d=\"M1387 1544.91 L1394.64 1544.91 L1394.64 1518.55 L1386.33 1520.21 L1386.33 1515.95 L1394.59 1514.29 L1399.27 1514.29 L1399.27 1544.91 L1406.91 1544.91 L1406.91 1548.85 L1387 1548.85 L1387 1544.91 Z\" fill=\"#000000\" fill-rule=\"evenodd\" fill-opacity=\"1\" /><path clip-path=\"url(#clip560)\" d=\"M1416.35 1542.97 L1421.24 1542.97 L1421.24 1548.85 L1416.35 1548.85 L1416.35 1542.97 Z\" fill=\"#000000\" fill-rule=\"evenodd\" fill-opacity=\"1\" /><path clip-path=\"url(#clip560)\" d=\"M1435.45 1544.91 L1451.77 1544.91 L1451.77 1548.85 L1429.83 1548.85 L1429.83 1544.91 Q1432.49 1542.16 1437.07 1537.53 Q1441.68 1532.88 1442.86 1531.53 Q1445.1 1529.01 1445.98 1527.27 Q1446.89 1525.51 1446.89 1523.82 Q1446.89 1521.07 1444.94 1519.33 Q1443.02 1517.6 1439.92 1517.6 Q1437.72 1517.6 1435.27 1518.36 Q1432.83 1519.13 1430.06 1520.68 L1430.06 1515.95 Q1432.88 1514.82 1435.33 1514.24 Q1437.79 1513.66 1439.83 1513.66 Q1445.2 1513.66 1448.39 1516.35 Q1451.58 1519.03 1451.58 1523.52 Q1451.58 1525.65 1450.77 1527.57 Q1449.99 1529.47 1447.88 1532.07 Q1447.3 1532.74 1444.2 1535.95 Q1441.1 1539.15 1435.45 1544.91 Z\" fill=\"#000000\" fill-rule=\"evenodd\" fill-opacity=\"1\" /><path clip-path=\"url(#clip560)\" d=\"M1714.85 1532.02 L1744.53 1532.02 L1744.53 1535.95 L1714.85 1535.95 L1714.85 1532.02 Z\" fill=\"#000000\" fill-rule=\"evenodd\" fill-opacity=\"1\" /><path clip-path=\"url(#clip560)\" d=\"M1755.43 1544.91 L1763.07 1544.91 L1763.07 1518.55 L1754.76 1520.21 L1754.76 1515.95 L1763.02 1514.29 L1767.7 1514.29 L1767.7 1544.91 L1775.34 1544.91 L1775.34 1548.85 L1755.43 1548.85 L1755.43 1544.91 Z\" fill=\"#000000\" fill-rule=\"evenodd\" fill-opacity=\"1\" /><path clip-path=\"url(#clip560)\" d=\"M1784.78 1542.97 L1789.67 1542.97 L1789.67 1548.85 L1784.78 1548.85 L1784.78 1542.97 Z\" fill=\"#000000\" fill-rule=\"evenodd\" fill-opacity=\"1\" /><path clip-path=\"url(#clip560)\" d=\"M1800.66 1544.91 L1808.3 1544.91 L1808.3 1518.55 L1799.99 1520.21 L1799.99 1515.95 L1808.25 1514.29 L1812.93 1514.29 L1812.93 1544.91 L1820.57 1544.91 L1820.57 1548.85 L1800.66 1548.85 L1800.66 1544.91 Z\" fill=\"#000000\" fill-rule=\"evenodd\" fill-opacity=\"1\" /><path clip-path=\"url(#clip560)\" d=\"M2082.85 1532.02 L2112.53 1532.02 L2112.53 1535.95 L2082.85 1535.95 L2082.85 1532.02 Z\" fill=\"#000000\" fill-rule=\"evenodd\" fill-opacity=\"1\" /><path clip-path=\"url(#clip560)\" d=\"M2123.43 1544.91 L2131.07 1544.91 L2131.07 1518.55 L2122.76 1520.21 L2122.76 1515.95 L2131.02 1514.29 L2135.7 1514.29 L2135.7 1544.91 L2143.34 1544.91 L2143.34 1548.85 L2123.43 1548.85 L2123.43 1544.91 Z\" fill=\"#000000\" fill-rule=\"evenodd\" fill-opacity=\"1\" /><path clip-path=\"url(#clip560)\" d=\"M2152.78 1542.97 L2157.67 1542.97 L2157.67 1548.85 L2152.78 1548.85 L2152.78 1542.97 Z\" fill=\"#000000\" fill-rule=\"evenodd\" fill-opacity=\"1\" /><path clip-path=\"url(#clip560)\" d=\"M2177.85 1517.37 Q2174.24 1517.37 2172.41 1520.93 Q2170.61 1524.47 2170.61 1531.6 Q2170.61 1538.71 2172.41 1542.27 Q2174.24 1545.82 2177.85 1545.82 Q2181.49 1545.82 2183.29 1542.27 Q2185.12 1538.71 2185.12 1531.6 Q2185.12 1524.47 2183.29 1520.93 Q2181.49 1517.37 2177.85 1517.37 M2177.85 1513.66 Q2183.66 1513.66 2186.72 1518.27 Q2189.8 1522.85 2189.8 1531.6 Q2189.8 1540.33 2186.72 1544.94 Q2183.66 1549.52 2177.85 1549.52 Q2172.04 1549.52 2168.96 1544.94 Q2165.91 1540.33 2165.91 1531.6 Q2165.91 1522.85 2168.96 1518.27 Q2172.04 1513.66 2177.85 1513.66 Z\" fill=\"#000000\" fill-rule=\"evenodd\" fill-opacity=\"1\" /><polyline clip-path=\"url(#clip562)\" style=\"stroke:#000000; stroke-linecap:butt; stroke-linejoin:round; stroke-width:2; stroke-opacity:0.1; fill:none\" points=\"\n",
       "  112.177,1445.9 2352.76,1445.9 \n",
       "  \"/>\n",
       "<polyline clip-path=\"url(#clip562)\" style=\"stroke:#000000; stroke-linecap:butt; stroke-linejoin:round; stroke-width:2; stroke-opacity:0.1; fill:none\" points=\"\n",
       "  112.177,1168.18 2352.76,1168.18 \n",
       "  \"/>\n",
       "<polyline clip-path=\"url(#clip562)\" style=\"stroke:#000000; stroke-linecap:butt; stroke-linejoin:round; stroke-width:2; stroke-opacity:0.1; fill:none\" points=\"\n",
       "  112.177,890.457 2352.76,890.457 \n",
       "  \"/>\n",
       "<polyline clip-path=\"url(#clip562)\" style=\"stroke:#000000; stroke-linecap:butt; stroke-linejoin:round; stroke-width:2; stroke-opacity:0.1; fill:none\" points=\"\n",
       "  112.177,612.736 2352.76,612.736 \n",
       "  \"/>\n",
       "<polyline clip-path=\"url(#clip562)\" style=\"stroke:#000000; stroke-linecap:butt; stroke-linejoin:round; stroke-width:2; stroke-opacity:0.1; fill:none\" points=\"\n",
       "  112.177,335.016 2352.76,335.016 \n",
       "  \"/>\n",
       "<polyline clip-path=\"url(#clip562)\" style=\"stroke:#000000; stroke-linecap:butt; stroke-linejoin:round; stroke-width:2; stroke-opacity:0.1; fill:none\" points=\"\n",
       "  112.177,57.2962 2352.76,57.2962 \n",
       "  \"/>\n",
       "<polyline clip-path=\"url(#clip560)\" style=\"stroke:#000000; stroke-linecap:butt; stroke-linejoin:round; stroke-width:4; stroke-opacity:1; fill:none\" points=\"\n",
       "  112.177,1486.45 112.177,47.2441 \n",
       "  \"/>\n",
       "<polyline clip-path=\"url(#clip560)\" style=\"stroke:#000000; stroke-linecap:butt; stroke-linejoin:round; stroke-width:4; stroke-opacity:1; fill:none\" points=\"\n",
       "  112.177,1445.9 131.075,1445.9 \n",
       "  \"/>\n",
       "<polyline clip-path=\"url(#clip560)\" style=\"stroke:#000000; stroke-linecap:butt; stroke-linejoin:round; stroke-width:4; stroke-opacity:1; fill:none\" points=\"\n",
       "  112.177,1168.18 131.075,1168.18 \n",
       "  \"/>\n",
       "<polyline clip-path=\"url(#clip560)\" style=\"stroke:#000000; stroke-linecap:butt; stroke-linejoin:round; stroke-width:4; stroke-opacity:1; fill:none\" points=\"\n",
       "  112.177,890.457 131.075,890.457 \n",
       "  \"/>\n",
       "<polyline clip-path=\"url(#clip560)\" style=\"stroke:#000000; stroke-linecap:butt; stroke-linejoin:round; stroke-width:4; stroke-opacity:1; fill:none\" points=\"\n",
       "  112.177,612.736 131.075,612.736 \n",
       "  \"/>\n",
       "<polyline clip-path=\"url(#clip560)\" style=\"stroke:#000000; stroke-linecap:butt; stroke-linejoin:round; stroke-width:4; stroke-opacity:1; fill:none\" points=\"\n",
       "  112.177,335.016 131.075,335.016 \n",
       "  \"/>\n",
       "<polyline clip-path=\"url(#clip560)\" style=\"stroke:#000000; stroke-linecap:butt; stroke-linejoin:round; stroke-width:4; stroke-opacity:1; fill:none\" points=\"\n",
       "  112.177,57.2962 131.075,57.2962 \n",
       "  \"/>\n",
       "<path clip-path=\"url(#clip560)\" d=\"M64.2328 1431.7 Q60.6217 1431.7 58.793 1435.26 Q56.9875 1438.8 56.9875 1445.93 Q56.9875 1453.04 58.793 1456.6 Q60.6217 1460.14 64.2328 1460.14 Q67.867 1460.14 69.6726 1456.6 Q71.5013 1453.04 71.5013 1445.93 Q71.5013 1438.8 69.6726 1435.26 Q67.867 1431.7 64.2328 1431.7 M64.2328 1427.99 Q70.0429 1427.99 73.0985 1432.6 Q76.1772 1437.18 76.1772 1445.93 Q76.1772 1454.66 73.0985 1459.26 Q70.0429 1463.85 64.2328 1463.85 Q58.4226 1463.85 55.344 1459.26 Q52.2884 1454.66 52.2884 1445.93 Q52.2884 1437.18 55.344 1432.6 Q58.4226 1427.99 64.2328 1427.99 Z\" fill=\"#000000\" fill-rule=\"evenodd\" fill-opacity=\"1\" /><path clip-path=\"url(#clip560)\" d=\"M56.2699 1181.52 L63.9087 1181.52 L63.9087 1155.16 L55.5986 1156.82 L55.5986 1152.56 L63.8624 1150.9 L68.5383 1150.9 L68.5383 1181.52 L76.1772 1181.52 L76.1772 1185.46 L56.2699 1185.46 L56.2699 1181.52 Z\" fill=\"#000000\" fill-rule=\"evenodd\" fill-opacity=\"1\" /><path clip-path=\"url(#clip560)\" d=\"M59.8578 903.801 L76.1772 903.801 L76.1772 907.737 L54.2328 907.737 L54.2328 903.801 Q56.8949 901.047 61.4782 896.417 Q66.0846 891.764 67.2652 890.422 Q69.5105 887.899 70.3902 886.163 Q71.2929 884.403 71.2929 882.714 Q71.2929 879.959 69.3485 878.223 Q67.4272 876.487 64.3254 876.487 Q62.1263 876.487 59.6726 877.251 Q57.2421 878.015 54.4643 879.565 L54.4643 874.843 Q57.2884 873.709 59.7421 873.13 Q62.1958 872.552 64.2328 872.552 Q69.6031 872.552 72.7976 875.237 Q75.992 877.922 75.992 882.413 Q75.992 884.542 75.1818 886.464 Q74.3948 888.362 72.2883 890.954 Q71.7096 891.626 68.6078 894.843 Q65.5059 898.038 59.8578 903.801 Z\" fill=\"#000000\" fill-rule=\"evenodd\" fill-opacity=\"1\" /><path clip-path=\"url(#clip560)\" d=\"M69.0476 611.382 Q72.404 612.1 74.279 614.368 Q76.1772 616.637 76.1772 619.97 Q76.1772 625.086 72.6587 627.887 Q69.1402 630.688 62.6587 630.688 Q60.4828 630.688 58.168 630.248 Q55.8764 629.831 53.4227 628.975 L53.4227 624.461 Q55.3671 625.595 57.6819 626.174 Q59.9967 626.753 62.5198 626.753 Q66.918 626.753 69.2096 625.017 Q71.5244 623.28 71.5244 619.97 Q71.5244 616.915 69.3717 615.202 Q67.242 613.466 63.4226 613.466 L59.3949 613.466 L59.3949 609.623 L63.6078 609.623 Q67.0569 609.623 68.8855 608.257 Q70.7142 606.868 70.7142 604.276 Q70.7142 601.614 68.8161 600.202 Q66.9411 598.767 63.4226 598.767 Q61.5013 598.767 59.3023 599.183 Q57.1032 599.6 54.4643 600.48 L54.4643 596.313 Q57.1264 595.572 59.4412 595.202 Q61.7791 594.831 63.8393 594.831 Q69.1633 594.831 72.2652 597.262 Q75.367 599.669 75.367 603.79 Q75.367 606.66 73.7235 608.651 Q72.08 610.618 69.0476 611.382 Z\" fill=\"#000000\" fill-rule=\"evenodd\" fill-opacity=\"1\" /><path clip-path=\"url(#clip560)\" d=\"M66.5939 321.81 L54.7884 340.259 L66.5939 340.259 L66.5939 321.81 M65.367 317.736 L71.2466 317.736 L71.2466 340.259 L76.1772 340.259 L76.1772 344.148 L71.2466 344.148 L71.2466 352.296 L66.5939 352.296 L66.5939 344.148 L50.9921 344.148 L50.9921 339.634 L65.367 317.736 Z\" fill=\"#000000\" fill-rule=\"evenodd\" fill-opacity=\"1\" /><path clip-path=\"url(#clip560)\" d=\"M55.2745 40.0162 L73.6309 40.0162 L73.6309 43.9514 L59.5569 43.9514 L59.5569 52.4236 Q60.5754 52.0764 61.5939 51.9143 Q62.6124 51.7291 63.6309 51.7291 Q69.418 51.7291 72.7976 54.9004 Q76.1772 58.0717 76.1772 63.4883 Q76.1772 69.067 72.705 72.1689 Q69.2328 75.2475 62.9134 75.2475 Q60.7374 75.2475 58.4689 74.8772 Q56.2236 74.5068 53.8162 73.7661 L53.8162 69.067 Q55.8995 70.2013 58.1217 70.7568 Q60.3439 71.3124 62.8208 71.3124 Q66.8254 71.3124 69.1633 69.2059 Q71.5013 67.0994 71.5013 63.4883 Q71.5013 59.8773 69.1633 57.7708 Q66.8254 55.6643 62.8208 55.6643 Q60.9458 55.6643 59.0708 56.081 Q57.2189 56.4976 55.2745 57.3773 L55.2745 40.0162 Z\" fill=\"#000000\" fill-rule=\"evenodd\" fill-opacity=\"1\" /><polyline clip-path=\"url(#clip562)\" style=\"stroke:#009af9; stroke-linecap:butt; stroke-linejoin:round; stroke-width:4; stroke-opacity:1; fill:none\" points=\"\n",
       "  175.59,1445.72 186.212,1445.7 196.834,1445.66 207.455,1445.6 218.077,1445.51 228.699,1445.39 239.321,1445.23 249.943,1445.01 260.565,1444.73 271.187,1444.38 \n",
       "  281.809,1443.92 292.43,1443.34 303.052,1442.62 313.674,1441.72 324.296,1440.6 334.918,1439.23 345.54,1437.57 356.162,1435.55 366.784,1433.13 377.405,1430.25 \n",
       "  388.027,1426.85 398.649,1422.86 409.271,1418.21 419.893,1412.85 430.515,1406.7 441.137,1399.71 451.759,1391.84 462.38,1383.03 473.002,1373.26 483.624,1362.51 \n",
       "  494.246,1350.79 504.868,1338.11 515.49,1324.52 526.112,1310.08 536.734,1294.86 547.355,1278.98 557.977,1262.56 568.599,1245.74 579.221,1228.68 589.843,1211.55 \n",
       "  600.465,1194.52 611.087,1177.75 621.709,1161.43 632.33,1145.71 642.952,1130.74 653.574,1116.62 664.196,1103.47 674.818,1091.35 685.44,1080.3 696.062,1070.31 \n",
       "  706.684,1061.37 717.306,1053.4 727.927,1046.33 738.549,1040.02 749.171,1034.35 759.793,1029.16 770.415,1024.28 781.037,1019.55 791.659,1014.78 802.281,1009.81 \n",
       "  812.902,1004.46 823.524,998.591 834.146,992.046 844.768,984.694 855.39,976.41 866.012,967.084 876.634,956.613 887.256,944.903 897.877,931.872 908.499,917.441 \n",
       "  919.121,901.543 929.743,884.116 940.365,865.114 950.987,844.5 961.609,822.259 972.231,798.395 982.852,772.941 993.474,745.957 1004.1,717.542 1014.72,687.829 \n",
       "  1025.34,656.993 1035.96,625.244 1046.58,592.831 1057.21,560.035 1067.83,527.16 1078.45,494.529 1089.07,462.471 1099.69,431.308 1110.31,401.348 1120.94,372.868 \n",
       "  1131.56,346.102 1142.18,321.236 1152.8,298.394 1163.42,277.638 1174.05,258.961 1184.67,242.29 1195.29,227.491 1205.91,214.376 1216.53,202.716 1227.16,192.252 \n",
       "  1237.78,182.713 1248.4,173.832 1259.02,165.363 1269.64,157.1 1280.26,148.888 1290.89,140.637 1301.51,132.336 1312.13,124.052 1322.75,115.934 1333.37,108.213 \n",
       "  1344,101.191 1354.62,95.2323 1365.24,90.7483 1375.86,88.1795 1386.48,87.9763 1397.11,90.5784 1407.73,96.394 1418.35,105.78 1428.97,119.022 1439.59,136.323 \n",
       "  1450.22,157.786 1460.84,183.412 1471.46,213.09 1482.08,246.603 1492.7,283.63 1503.32,323.756 1513.95,366.487 1524.57,411.264 1535.19,457.484 1545.81,504.516 \n",
       "  1556.43,551.726 1567.06,598.496 1577.68,644.243 1588.3,688.438 1598.92,730.618 1609.54,770.401 1620.17,807.495 1630.79,841.7 1641.41,872.913 1652.03,901.12 \n",
       "  1662.65,926.398 1673.27,948.901 1683.9,968.851 1694.52,986.526 1705.14,1002.24 1715.76,1016.35 1726.38,1029.2 1737.01,1041.15 1747.63,1052.53 1758.25,1063.67 \n",
       "  1768.87,1074.84 1779.49,1086.27 1790.12,1098.16 1800.74,1110.62 1811.36,1123.76 1821.98,1137.6 1832.6,1152.12 1843.22,1167.28 1853.85,1182.99 1864.47,1199.12 \n",
       "  1875.09,1215.55 1885.71,1232.1 1896.33,1248.63 1906.96,1264.97 1917.58,1280.97 1928.2,1296.48 1938.82,1311.38 1949.44,1325.57 1960.07,1338.94 1970.69,1351.44 \n",
       "  1981.31,1363.02 1991.93,1373.65 2002.55,1383.33 2013.17,1392.07 2023.8,1399.89 2034.42,1406.83 2045.04,1412.94 2055.66,1418.28 2066.28,1422.91 2076.91,1426.89 \n",
       "  2087.53,1430.28 2098.15,1433.15 2108.77,1435.56 2119.39,1437.58 2130.02,1439.24 2140.64,1440.61 2151.26,1441.72 2161.88,1442.62 2172.5,1443.35 2183.12,1443.92 \n",
       "  2193.75,1444.38 2204.37,1444.73 2214.99,1445.01 2225.61,1445.23 2236.23,1445.39 2246.86,1445.51 2257.48,1445.6 2268.1,1445.66 2278.72,1445.7 2289.34,1445.72 \n",
       "  \n",
       "  \"/>\n",
       "<path clip-path=\"url(#clip560)\" d=\"\n",
       "M1976.69 198.898 L2278.07 198.898 L2278.07 95.2176 L1976.69 95.2176  Z\n",
       "  \" fill=\"#ffffff\" fill-rule=\"evenodd\" fill-opacity=\"1\"/>\n",
       "<polyline clip-path=\"url(#clip560)\" style=\"stroke:#000000; stroke-linecap:butt; stroke-linejoin:round; stroke-width:4; stroke-opacity:1; fill:none\" points=\"\n",
       "  1976.69,198.898 2278.07,198.898 2278.07,95.2176 1976.69,95.2176 1976.69,198.898 \n",
       "  \"/>\n",
       "<polyline clip-path=\"url(#clip560)\" style=\"stroke:#009af9; stroke-linecap:butt; stroke-linejoin:round; stroke-width:4; stroke-opacity:1; fill:none\" points=\"\n",
       "  2001.58,147.058 2150.95,147.058 \n",
       "  \"/>\n",
       "<path clip-path=\"url(#clip560)\" d=\"M2189.69 166.745 Q2187.89 171.375 2186.17 172.787 Q2184.46 174.199 2181.59 174.199 L2178.19 174.199 L2178.19 170.634 L2180.69 170.634 Q2182.45 170.634 2183.42 169.8 Q2184.39 168.967 2185.57 165.865 L2186.34 163.921 L2175.85 138.412 L2180.36 138.412 L2188.46 158.689 L2196.57 138.412 L2201.08 138.412 L2189.69 166.745 Z\" fill=\"#000000\" fill-rule=\"evenodd\" fill-opacity=\"1\" /><path clip-path=\"url(#clip560)\" d=\"M2208.37 160.402 L2216.01 160.402 L2216.01 134.037 L2207.7 135.703 L2207.7 131.444 L2215.96 129.778 L2220.64 129.778 L2220.64 160.402 L2228.28 160.402 L2228.28 164.338 L2208.37 164.338 L2208.37 160.402 Z\" fill=\"#000000\" fill-rule=\"evenodd\" fill-opacity=\"1\" /></svg>\n"
      ]
     },
     "execution_count": 8,
     "metadata": {},
     "output_type": "execute_result"
    }
   ],
   "source": [
    "density(lls)"
   ]
  },
  {
   "cell_type": "code",
   "execution_count": null,
   "id": "51cf2b9d-529c-48e2-b49c-8ef46fa3ff73",
   "metadata": {},
   "outputs": [],
   "source": []
  }
 ],
 "metadata": {
  "kernelspec": {
   "display_name": "Julia 1.7.1",
   "language": "julia",
   "name": "julia-1.7"
  },
  "language_info": {
   "file_extension": ".jl",
   "mimetype": "application/julia",
   "name": "julia",
   "version": "1.7.1"
  }
 },
 "nbformat": 4,
 "nbformat_minor": 5
}
