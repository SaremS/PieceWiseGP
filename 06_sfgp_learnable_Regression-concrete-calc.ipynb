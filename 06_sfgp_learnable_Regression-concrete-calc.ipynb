{
 "cells": [
  {
   "cell_type": "code",
   "execution_count": 1,
   "id": "306f139c-fd46-4b96-aa35-18a9af0ea356",
   "metadata": {},
   "outputs": [],
   "source": [
    "using Plots, StatsPlots\n",
    "include(\"src/SFGP_regression-learnable.jl\")\n",
    "using Flux\n",
    "using StatsBase\n",
    "using CSV, DataFrames\n",
    "using ScikitLearn\n",
    "using KnetMetrics\n",
    "using Tables"
   ]
  },
  {
   "cell_type": "code",
   "execution_count": 3,
   "id": "4d8d82db-dc0c-4615-83d9-4d6ceddc4c18",
   "metadata": {},
   "outputs": [
    {
     "data": {
      "text/plain": [
       "1×103 Matrix{Float64}:\n",
       " 34.99  41.14  41.81  42.08  26.82  …  49.97  50.23  50.5  49.17  48.77"
      ]
     },
     "execution_count": 3,
     "metadata": {},
     "output_type": "execute_result"
    }
   ],
   "source": [
    "df = Matrix(CSV.File(\"./data/concrete.csv\") |> DataFrame)\n",
    "X = Matrix(transpose(df[:,2:end-1]))\n",
    "y = Matrix(transpose(df[:,end:end]))\n"
   ]
  },
  {
   "cell_type": "code",
   "execution_count": 4,
   "id": "bc10b27b-0984-4a9f-8c61-3bfb8e4f9830",
   "metadata": {},
   "outputs": [
    {
     "data": {
      "text/plain": [
       "getRMSE (generic function with 1 method)"
      ]
     },
     "execution_count": 4,
     "metadata": {},
     "output_type": "execute_result"
    }
   ],
   "source": [
    "function getLoglike(mm::SFGP,X,y)\n",
    "    \n",
    "    m,S = mm.gp(X)\n",
    "    s = Matrix(transpose(sqrt.(diag(S))[:,:]))\n",
    "    \n",
    "    probs = getProbs.(m,s,mm.lower,mm.upper)\n",
    "    vals = (mm.vals) \n",
    "    \n",
    "\n",
    "    return mean(logpdf.([MixtureModel(Normal.(vals,abs(mm.s[1,1])),p) for p in Flux.unstack(probs,2)],y[:]))\n",
    "end\n",
    "\n",
    "\n",
    "function getRMSE(mm::SFGP,X,y)\n",
    "    \n",
    "    m,S = mm.gp(X)\n",
    "    s = Matrix(transpose(sqrt.(diag(S))[:,:]))\n",
    "    \n",
    "    probs = getProbs.(m,s,mm.lower,mm.upper)\n",
    "    vals = (mm.vals) \n",
    "    \n",
    "    \n",
    "    return sqrt.(mean(((sum(probs.*vals,dims=1).-y).^2)))\n",
    "    \n",
    "end"
   ]
  },
  {
   "cell_type": "code",
   "execution_count": 5,
   "id": "d0107415-7066-44f6-8744-b88e5c0ab64a",
   "metadata": {},
   "outputs": [
    {
     "name": "stdout",
     "output_type": "stream",
     "text": [
      "1\n",
      "2\n",
      "3\n",
      "4\n",
      "5\n",
      "6\n",
      "7\n",
      "8\n",
      "9\n",
      "10\n"
     ]
    }
   ],
   "source": [
    "import Random\n",
    "Random.seed!(321)\n",
    "\n",
    "folds = ScikitLearn.CrossValidation.KFold(size(X,2),n_folds=10)\n",
    "\n",
    "lls = []\n",
    "rmses = []\n",
    "i = 0\n",
    "\n",
    "for (train, test) in folds\n",
    "\n",
    "    Xm = mean(X,dims=2)\n",
    "    Xs = std(X,dims=2)\n",
    "    sfgp = SFGP(SVGP((X[:,1:10] .- Xm)./Xs),20,3)\n",
    "    \n",
    "    params = Flux.params(sfgp)\n",
    "    opt = ADAM(0.05)\n",
    "    \n",
    "    Xtrain = X[:,train]\n",
    "    \n",
    "    mean_train = mean(Xtrain,dims=2)\n",
    "    std_train = std(Xtrain,dims=2)\n",
    "    Xtrain = (Xtrain.-mean_train) ./ std_train\n",
    "    \n",
    "    Xtest = X[:,test]\n",
    "    Xtest = (Xtest.-mean_train) ./ std_train\n",
    "    \n",
    "    ytrain = y[:,train]\n",
    "    ytest = y[:,test]\n",
    "    mean_ytrain = mean(ytrain)\n",
    "    std_ytrain = std(ytrain)\n",
    "    ytrain = (ytrain.-mean_ytrain)./std_ytrain\n",
    "    ytest = (ytest.-mean_ytrain)./std_ytrain\n",
    "    \n",
    "    for i in 1:350\n",
    "        grads = Zygote.gradient(() -> sample_elbo(sfgp,Xtrain,ytrain),params)\n",
    "        Flux.Optimise.update!(opt,params,grads)\n",
    "    end\n",
    "    \n",
    "    push!(lls, getLoglike(sfgp,Xtest,ytest))\n",
    "    push!(rmses, getRMSE(sfgp,Xtest,ytest))\n",
    "    \n",
    "    i = i+1\n",
    "    println(i)\n",
    "end"
   ]
  },
  {
   "cell_type": "code",
   "execution_count": 6,
   "id": "52730c37-c383-4ef7-906c-405a164846cb",
   "metadata": {},
   "outputs": [
    {
     "name": "stdout",
     "output_type": "stream",
     "text": [
      "-0.3935107302073551\n",
      "0.2405921052892619\n"
     ]
    }
   ],
   "source": [
    "println(mean(lls))\n",
    "println(std(lls))"
   ]
  },
  {
   "cell_type": "code",
   "execution_count": 7,
   "id": "f47f9e15-fad9-4e4f-8468-2d6aea0bb8e1",
   "metadata": {},
   "outputs": [
    {
     "name": "stdout",
     "output_type": "stream",
     "text": [
      "0.3479116947376578\n",
      "0.07616840560690083\n"
     ]
    }
   ],
   "source": [
    "println(mean((rmses)))\n",
    "println(std((rmses)))"
   ]
  },
  {
   "cell_type": "code",
   "execution_count": 8,
   "id": "59c484da-e2fe-4c27-b396-5150c0c21cc6",
   "metadata": {},
   "outputs": [
    {
     "data": {
      "text/plain": [
       "\"./evals/sfgp_learnable_regression_concrete.csv\""
      ]
     },
     "execution_count": 8,
     "metadata": {},
     "output_type": "execute_result"
    }
   ],
   "source": [
    "df = DataFrame(hcat(lls,rmses),[:loglike,:rmse])\n",
    "CSV.write(\"./evals/sfgp_learnable_regression_concrete.csv\",  df)"
   ]
  },
  {
   "cell_type": "code",
   "execution_count": 309,
   "id": "ca9ee484-2172-499a-85fe-39b85e9b8536",
   "metadata": {},
   "outputs": [
    {
     "data": {
      "image/svg+xml": [
       "<?xml version=\"1.0\" encoding=\"utf-8\"?>\n",
       "<svg xmlns=\"http://www.w3.org/2000/svg\" xmlns:xlink=\"http://www.w3.org/1999/xlink\" width=\"600\" height=\"400\" viewBox=\"0 0 2400 1600\">\n",
       "<defs>\n",
       "  <clipPath id=\"clip260\">\n",
       "    <rect x=\"0\" y=\"0\" width=\"2400\" height=\"1600\"/>\n",
       "  </clipPath>\n",
       "</defs>\n",
       "<path clip-path=\"url(#clip260)\" d=\"\n",
       "M0 1600 L2400 1600 L2400 0 L0 0  Z\n",
       "  \" fill=\"#ffffff\" fill-rule=\"evenodd\" fill-opacity=\"1\"/>\n",
       "<defs>\n",
       "  <clipPath id=\"clip261\">\n",
       "    <rect x=\"480\" y=\"0\" width=\"1681\" height=\"1600\"/>\n",
       "  </clipPath>\n",
       "</defs>\n",
       "<path clip-path=\"url(#clip260)\" d=\"\n",
       "M156.112 1486.45 L2352.76 1486.45 L2352.76 47.2441 L156.112 47.2441  Z\n",
       "  \" fill=\"#ffffff\" fill-rule=\"evenodd\" fill-opacity=\"1\"/>\n",
       "<defs>\n",
       "  <clipPath id=\"clip262\">\n",
       "    <rect x=\"156\" y=\"47\" width=\"2198\" height=\"1440\"/>\n",
       "  </clipPath>\n",
       "</defs>\n",
       "<polyline clip-path=\"url(#clip262)\" style=\"stroke:#000000; stroke-linecap:butt; stroke-linejoin:round; stroke-width:2; stroke-opacity:0.1; fill:none\" points=\"\n",
       "  385.848,1486.45 385.848,47.2441 \n",
       "  \"/>\n",
       "<polyline clip-path=\"url(#clip262)\" style=\"stroke:#000000; stroke-linecap:butt; stroke-linejoin:round; stroke-width:2; stroke-opacity:0.1; fill:none\" points=\"\n",
       "  838.855,1486.45 838.855,47.2441 \n",
       "  \"/>\n",
       "<polyline clip-path=\"url(#clip262)\" style=\"stroke:#000000; stroke-linecap:butt; stroke-linejoin:round; stroke-width:2; stroke-opacity:0.1; fill:none\" points=\"\n",
       "  1291.86,1486.45 1291.86,47.2441 \n",
       "  \"/>\n",
       "<polyline clip-path=\"url(#clip262)\" style=\"stroke:#000000; stroke-linecap:butt; stroke-linejoin:round; stroke-width:2; stroke-opacity:0.1; fill:none\" points=\"\n",
       "  1744.87,1486.45 1744.87,47.2441 \n",
       "  \"/>\n",
       "<polyline clip-path=\"url(#clip262)\" style=\"stroke:#000000; stroke-linecap:butt; stroke-linejoin:round; stroke-width:2; stroke-opacity:0.1; fill:none\" points=\"\n",
       "  2197.88,1486.45 2197.88,47.2441 \n",
       "  \"/>\n",
       "<polyline clip-path=\"url(#clip260)\" style=\"stroke:#000000; stroke-linecap:butt; stroke-linejoin:round; stroke-width:4; stroke-opacity:1; fill:none\" points=\"\n",
       "  156.112,1486.45 2352.76,1486.45 \n",
       "  \"/>\n",
       "<polyline clip-path=\"url(#clip260)\" style=\"stroke:#000000; stroke-linecap:butt; stroke-linejoin:round; stroke-width:4; stroke-opacity:1; fill:none\" points=\"\n",
       "  385.848,1486.45 385.848,1467.55 \n",
       "  \"/>\n",
       "<polyline clip-path=\"url(#clip260)\" style=\"stroke:#000000; stroke-linecap:butt; stroke-linejoin:round; stroke-width:4; stroke-opacity:1; fill:none\" points=\"\n",
       "  838.855,1486.45 838.855,1467.55 \n",
       "  \"/>\n",
       "<polyline clip-path=\"url(#clip260)\" style=\"stroke:#000000; stroke-linecap:butt; stroke-linejoin:round; stroke-width:4; stroke-opacity:1; fill:none\" points=\"\n",
       "  1291.86,1486.45 1291.86,1467.55 \n",
       "  \"/>\n",
       "<polyline clip-path=\"url(#clip260)\" style=\"stroke:#000000; stroke-linecap:butt; stroke-linejoin:round; stroke-width:4; stroke-opacity:1; fill:none\" points=\"\n",
       "  1744.87,1486.45 1744.87,1467.55 \n",
       "  \"/>\n",
       "<polyline clip-path=\"url(#clip260)\" style=\"stroke:#000000; stroke-linecap:butt; stroke-linejoin:round; stroke-width:4; stroke-opacity:1; fill:none\" points=\"\n",
       "  2197.88,1486.45 2197.88,1467.55 \n",
       "  \"/>\n",
       "<path clip-path=\"url(#clip260)\" d=\"M354.748 1532.02 L384.424 1532.02 L384.424 1535.95 L354.748 1535.95 L354.748 1532.02 Z\" fill=\"#000000\" fill-rule=\"evenodd\" fill-opacity=\"1\" /><path clip-path=\"url(#clip260)\" d=\"M407.364 1518.36 L395.558 1536.81 L407.364 1536.81 L407.364 1518.36 M406.137 1514.29 L412.016 1514.29 L412.016 1536.81 L416.947 1536.81 L416.947 1540.7 L412.016 1540.7 L412.016 1548.85 L407.364 1548.85 L407.364 1540.7 L391.762 1540.7 L391.762 1536.19 L406.137 1514.29 Z\" fill=\"#000000\" fill-rule=\"evenodd\" fill-opacity=\"1\" /><path clip-path=\"url(#clip260)\" d=\"M808.323 1532.02 L837.998 1532.02 L837.998 1535.95 L808.323 1535.95 L808.323 1532.02 Z\" fill=\"#000000\" fill-rule=\"evenodd\" fill-opacity=\"1\" /><path clip-path=\"url(#clip260)\" d=\"M862.257 1530.21 Q865.614 1530.93 867.489 1533.2 Q869.387 1535.47 869.387 1538.8 Q869.387 1543.92 865.869 1546.72 Q862.35 1549.52 855.869 1549.52 Q853.693 1549.52 851.378 1549.08 Q849.086 1548.66 846.633 1547.81 L846.633 1543.29 Q848.577 1544.43 850.892 1545.01 Q853.207 1545.58 855.73 1545.58 Q860.128 1545.58 862.42 1543.85 Q864.734 1542.11 864.734 1538.8 Q864.734 1535.75 862.582 1534.03 Q860.452 1532.3 856.633 1532.3 L852.605 1532.3 L852.605 1528.45 L856.818 1528.45 Q860.267 1528.45 862.095 1527.09 Q863.924 1525.7 863.924 1523.11 Q863.924 1520.45 862.026 1519.03 Q860.151 1517.6 856.633 1517.6 Q854.711 1517.6 852.512 1518.01 Q850.313 1518.43 847.674 1519.31 L847.674 1515.14 Q850.336 1514.4 852.651 1514.03 Q854.989 1513.66 857.049 1513.66 Q862.373 1513.66 865.475 1516.09 Q868.577 1518.5 868.577 1522.62 Q868.577 1525.49 866.933 1527.48 Q865.29 1529.45 862.257 1530.21 Z\" fill=\"#000000\" fill-rule=\"evenodd\" fill-opacity=\"1\" /><path clip-path=\"url(#clip260)\" d=\"M1261.8 1532.02 L1291.48 1532.02 L1291.48 1535.95 L1261.8 1535.95 L1261.8 1532.02 Z\" fill=\"#000000\" fill-rule=\"evenodd\" fill-opacity=\"1\" /><path clip-path=\"url(#clip260)\" d=\"M1305.6 1544.91 L1321.92 1544.91 L1321.92 1548.85 L1299.98 1548.85 L1299.98 1544.91 Q1302.64 1542.16 1307.22 1537.53 Q1311.83 1532.88 1313.01 1531.53 Q1315.25 1529.01 1316.13 1527.27 Q1317.04 1525.51 1317.04 1523.82 Q1317.04 1521.07 1315.09 1519.33 Q1313.17 1517.6 1310.07 1517.6 Q1307.87 1517.6 1305.42 1518.36 Q1302.98 1519.13 1300.21 1520.68 L1300.21 1515.95 Q1303.03 1514.82 1305.48 1514.24 Q1307.94 1513.66 1309.98 1513.66 Q1315.35 1513.66 1318.54 1516.35 Q1321.73 1519.03 1321.73 1523.52 Q1321.73 1525.65 1320.92 1527.57 Q1320.14 1529.47 1318.03 1532.07 Q1317.45 1532.74 1314.35 1535.95 Q1311.25 1539.15 1305.6 1544.91 Z\" fill=\"#000000\" fill-rule=\"evenodd\" fill-opacity=\"1\" /><path clip-path=\"url(#clip260)\" d=\"M1714.63 1532.02 L1744.3 1532.02 L1744.3 1535.95 L1714.63 1535.95 L1714.63 1532.02 Z\" fill=\"#000000\" fill-rule=\"evenodd\" fill-opacity=\"1\" /><path clip-path=\"url(#clip260)\" d=\"M1755.21 1544.91 L1762.84 1544.91 L1762.84 1518.55 L1754.53 1520.21 L1754.53 1515.95 L1762.8 1514.29 L1767.47 1514.29 L1767.47 1544.91 L1775.11 1544.91 L1775.11 1548.85 L1755.21 1548.85 L1755.21 1544.91 Z\" fill=\"#000000\" fill-rule=\"evenodd\" fill-opacity=\"1\" /><path clip-path=\"url(#clip260)\" d=\"M2197.88 1517.37 Q2194.27 1517.37 2192.44 1520.93 Q2190.63 1524.47 2190.63 1531.6 Q2190.63 1538.71 2192.44 1542.27 Q2194.27 1545.82 2197.88 1545.82 Q2201.51 1545.82 2203.32 1542.27 Q2205.15 1538.71 2205.15 1531.6 Q2205.15 1524.47 2203.32 1520.93 Q2201.51 1517.37 2197.88 1517.37 M2197.88 1513.66 Q2203.69 1513.66 2206.74 1518.27 Q2209.82 1522.85 2209.82 1531.6 Q2209.82 1540.33 2206.74 1544.94 Q2203.69 1549.52 2197.88 1549.52 Q2192.07 1549.52 2188.99 1544.94 Q2185.93 1540.33 2185.93 1531.6 Q2185.93 1522.85 2188.99 1518.27 Q2192.07 1513.66 2197.88 1513.66 Z\" fill=\"#000000\" fill-rule=\"evenodd\" fill-opacity=\"1\" /><polyline clip-path=\"url(#clip262)\" style=\"stroke:#000000; stroke-linecap:butt; stroke-linejoin:round; stroke-width:2; stroke-opacity:0.1; fill:none\" points=\"\n",
       "  156.112,1445.72 2352.76,1445.72 \n",
       "  \"/>\n",
       "<polyline clip-path=\"url(#clip262)\" style=\"stroke:#000000; stroke-linecap:butt; stroke-linejoin:round; stroke-width:2; stroke-opacity:0.1; fill:none\" points=\"\n",
       "  156.112,1070.32 2352.76,1070.32 \n",
       "  \"/>\n",
       "<polyline clip-path=\"url(#clip262)\" style=\"stroke:#000000; stroke-linecap:butt; stroke-linejoin:round; stroke-width:2; stroke-opacity:0.1; fill:none\" points=\"\n",
       "  156.112,694.933 2352.76,694.933 \n",
       "  \"/>\n",
       "<polyline clip-path=\"url(#clip262)\" style=\"stroke:#000000; stroke-linecap:butt; stroke-linejoin:round; stroke-width:2; stroke-opacity:0.1; fill:none\" points=\"\n",
       "  156.112,319.542 2352.76,319.542 \n",
       "  \"/>\n",
       "<polyline clip-path=\"url(#clip260)\" style=\"stroke:#000000; stroke-linecap:butt; stroke-linejoin:round; stroke-width:4; stroke-opacity:1; fill:none\" points=\"\n",
       "  156.112,1486.45 156.112,47.2441 \n",
       "  \"/>\n",
       "<polyline clip-path=\"url(#clip260)\" style=\"stroke:#000000; stroke-linecap:butt; stroke-linejoin:round; stroke-width:4; stroke-opacity:1; fill:none\" points=\"\n",
       "  156.112,1445.72 175.01,1445.72 \n",
       "  \"/>\n",
       "<polyline clip-path=\"url(#clip260)\" style=\"stroke:#000000; stroke-linecap:butt; stroke-linejoin:round; stroke-width:4; stroke-opacity:1; fill:none\" points=\"\n",
       "  156.112,1070.32 175.01,1070.32 \n",
       "  \"/>\n",
       "<polyline clip-path=\"url(#clip260)\" style=\"stroke:#000000; stroke-linecap:butt; stroke-linejoin:round; stroke-width:4; stroke-opacity:1; fill:none\" points=\"\n",
       "  156.112,694.933 175.01,694.933 \n",
       "  \"/>\n",
       "<polyline clip-path=\"url(#clip260)\" style=\"stroke:#000000; stroke-linecap:butt; stroke-linejoin:round; stroke-width:4; stroke-opacity:1; fill:none\" points=\"\n",
       "  156.112,319.542 175.01,319.542 \n",
       "  \"/>\n",
       "<path clip-path=\"url(#clip260)\" d=\"M62.9365 1431.51 Q59.3254 1431.51 57.4967 1435.08 Q55.6912 1438.62 55.6912 1445.75 Q55.6912 1452.86 57.4967 1456.42 Q59.3254 1459.96 62.9365 1459.96 Q66.5707 1459.96 68.3763 1456.42 Q70.205 1452.86 70.205 1445.75 Q70.205 1438.62 68.3763 1435.08 Q66.5707 1431.51 62.9365 1431.51 M62.9365 1427.81 Q68.7467 1427.81 71.8022 1432.42 Q74.8809 1437 74.8809 1445.75 Q74.8809 1454.48 71.8022 1459.08 Q68.7467 1463.67 62.9365 1463.67 Q57.1264 1463.67 54.0477 1459.08 Q50.9921 1454.48 50.9921 1445.75 Q50.9921 1437 54.0477 1432.42 Q57.1264 1427.81 62.9365 1427.81 Z\" fill=\"#000000\" fill-rule=\"evenodd\" fill-opacity=\"1\" /><path clip-path=\"url(#clip260)\" d=\"M83.0984 1457.12 L87.9827 1457.12 L87.9827 1463 L83.0984 1463 L83.0984 1457.12 Z\" fill=\"#000000\" fill-rule=\"evenodd\" fill-opacity=\"1\" /><path clip-path=\"url(#clip260)\" d=\"M108.168 1431.51 Q104.557 1431.51 102.728 1435.08 Q100.922 1438.62 100.922 1445.75 Q100.922 1452.86 102.728 1456.42 Q104.557 1459.96 108.168 1459.96 Q111.802 1459.96 113.608 1456.42 Q115.436 1452.86 115.436 1445.75 Q115.436 1438.62 113.608 1435.08 Q111.802 1431.51 108.168 1431.51 M108.168 1427.81 Q113.978 1427.81 117.033 1432.42 Q120.112 1437 120.112 1445.75 Q120.112 1454.48 117.033 1459.08 Q113.978 1463.67 108.168 1463.67 Q102.358 1463.67 99.2789 1459.08 Q96.2234 1454.48 96.2234 1445.75 Q96.2234 1437 99.2789 1432.42 Q102.358 1427.81 108.168 1427.81 Z\" fill=\"#000000\" fill-rule=\"evenodd\" fill-opacity=\"1\" /><path clip-path=\"url(#clip260)\" d=\"M63.9319 1056.12 Q60.3208 1056.12 58.4921 1059.69 Q56.6865 1063.23 56.6865 1070.36 Q56.6865 1077.47 58.4921 1081.03 Q60.3208 1084.57 63.9319 1084.57 Q67.5661 1084.57 69.3717 1081.03 Q71.2004 1077.47 71.2004 1070.36 Q71.2004 1063.23 69.3717 1059.69 Q67.5661 1056.12 63.9319 1056.12 M63.9319 1052.42 Q69.742 1052.42 72.7976 1057.03 Q75.8763 1061.61 75.8763 1070.36 Q75.8763 1079.09 72.7976 1083.69 Q69.742 1088.28 63.9319 1088.28 Q58.1217 1088.28 55.043 1083.69 Q51.9875 1079.09 51.9875 1070.36 Q51.9875 1061.61 55.043 1057.03 Q58.1217 1052.42 63.9319 1052.42 Z\" fill=\"#000000\" fill-rule=\"evenodd\" fill-opacity=\"1\" /><path clip-path=\"url(#clip260)\" d=\"M84.0938 1081.72 L88.978 1081.72 L88.978 1087.6 L84.0938 1087.6 L84.0938 1081.72 Z\" fill=\"#000000\" fill-rule=\"evenodd\" fill-opacity=\"1\" /><path clip-path=\"url(#clip260)\" d=\"M99.2095 1053.04 L117.566 1053.04 L117.566 1056.98 L103.492 1056.98 L103.492 1065.45 Q104.51 1065.1 105.529 1064.94 Q106.547 1064.76 107.566 1064.76 Q113.353 1064.76 116.733 1067.93 Q120.112 1071.1 120.112 1076.52 Q120.112 1082.1 116.64 1085.2 Q113.168 1088.28 106.848 1088.28 Q104.672 1088.28 102.404 1087.91 Q100.159 1087.53 97.7511 1086.79 L97.7511 1082.1 Q99.8345 1083.23 102.057 1083.78 Q104.279 1084.34 106.756 1084.34 Q110.76 1084.34 113.098 1082.23 Q115.436 1080.13 115.436 1076.52 Q115.436 1072.91 113.098 1070.8 Q110.76 1068.69 106.756 1068.69 Q104.881 1068.69 103.006 1069.11 Q101.154 1069.53 99.2095 1070.41 L99.2095 1053.04 Z\" fill=\"#000000\" fill-rule=\"evenodd\" fill-opacity=\"1\" /><path clip-path=\"url(#clip260)\" d=\"M53.7467 708.278 L61.3856 708.278 L61.3856 681.912 L53.0754 683.579 L53.0754 679.32 L61.3393 677.653 L66.0152 677.653 L66.0152 708.278 L73.654 708.278 L73.654 712.213 L53.7467 712.213 L53.7467 708.278 Z\" fill=\"#000000\" fill-rule=\"evenodd\" fill-opacity=\"1\" /><path clip-path=\"url(#clip260)\" d=\"M83.0984 706.333 L87.9827 706.333 L87.9827 712.213 L83.0984 712.213 L83.0984 706.333 Z\" fill=\"#000000\" fill-rule=\"evenodd\" fill-opacity=\"1\" /><path clip-path=\"url(#clip260)\" d=\"M108.168 680.732 Q104.557 680.732 102.728 684.296 Q100.922 687.838 100.922 694.968 Q100.922 702.074 102.728 705.639 Q104.557 709.181 108.168 709.181 Q111.802 709.181 113.608 705.639 Q115.436 702.074 115.436 694.968 Q115.436 687.838 113.608 684.296 Q111.802 680.732 108.168 680.732 M108.168 677.028 Q113.978 677.028 117.033 681.634 Q120.112 686.218 120.112 694.968 Q120.112 703.694 117.033 708.301 Q113.978 712.884 108.168 712.884 Q102.358 712.884 99.2789 708.301 Q96.2234 703.694 96.2234 694.968 Q96.2234 686.218 99.2789 681.634 Q102.358 677.028 108.168 677.028 Z\" fill=\"#000000\" fill-rule=\"evenodd\" fill-opacity=\"1\" /><path clip-path=\"url(#clip260)\" d=\"M54.7421 332.886 L62.381 332.886 L62.381 306.521 L54.0708 308.187 L54.0708 303.928 L62.3347 302.262 L67.0106 302.262 L67.0106 332.886 L74.6494 332.886 L74.6494 336.822 L54.7421 336.822 L54.7421 332.886 Z\" fill=\"#000000\" fill-rule=\"evenodd\" fill-opacity=\"1\" /><path clip-path=\"url(#clip260)\" d=\"M84.0938 330.942 L88.978 330.942 L88.978 336.822 L84.0938 336.822 L84.0938 330.942 Z\" fill=\"#000000\" fill-rule=\"evenodd\" fill-opacity=\"1\" /><path clip-path=\"url(#clip260)\" d=\"M99.2095 302.262 L117.566 302.262 L117.566 306.197 L103.492 306.197 L103.492 314.669 Q104.51 314.322 105.529 314.16 Q106.547 313.974 107.566 313.974 Q113.353 313.974 116.733 317.146 Q120.112 320.317 120.112 325.734 Q120.112 331.312 116.64 334.414 Q113.168 337.493 106.848 337.493 Q104.672 337.493 102.404 337.122 Q100.159 336.752 97.7511 336.011 L97.7511 331.312 Q99.8345 332.447 102.057 333.002 Q104.279 333.558 106.756 333.558 Q110.76 333.558 113.098 331.451 Q115.436 329.345 115.436 325.734 Q115.436 322.123 113.098 320.016 Q110.76 317.91 106.756 317.91 Q104.881 317.91 103.006 318.326 Q101.154 318.743 99.2095 319.623 L99.2095 302.262 Z\" fill=\"#000000\" fill-rule=\"evenodd\" fill-opacity=\"1\" /><polyline clip-path=\"url(#clip262)\" style=\"stroke:#009af9; stroke-linecap:butt; stroke-linejoin:round; stroke-width:4; stroke-opacity:1; fill:none\" points=\"\n",
       "  218.281,1445.57 228.695,1445.46 239.108,1445.18 249.522,1444.61 259.936,1443.49 270.349,1441.46 280.763,1437.93 291.176,1432.12 301.59,1423.08 312.004,1409.75 \n",
       "  322.417,1391.19 332.831,1366.84 343.244,1336.85 353.658,1302.34 364.072,1265.54 374.485,1229.67 384.899,1198.52 395.312,1175.83 405.726,1164.56 416.14,1166.23 \n",
       "  426.553,1180.6 436.967,1205.75 447.38,1238.45 457.794,1274.89 468.208,1311.37 478.621,1344.89 489.035,1373.51 499.448,1396.37 509.862,1413.54 520.276,1425.69 \n",
       "  530.689,1433.83 541.103,1438.98 551.516,1442.07 561.93,1443.84 572.344,1444.79 582.757,1445.28 593.171,1445.52 603.584,1445.63 613.998,1445.68 624.412,1445.7 \n",
       "  634.825,1445.71 645.239,1445.71 655.652,1445.72 666.066,1445.72 676.479,1445.72 686.893,1445.72 697.307,1445.72 707.72,1445.72 718.134,1445.72 728.547,1445.72 \n",
       "  738.961,1445.72 749.375,1445.72 759.788,1445.72 770.202,1445.72 780.615,1445.72 791.029,1445.72 801.443,1445.72 811.856,1445.72 822.27,1445.72 832.683,1445.72 \n",
       "  843.097,1445.72 853.511,1445.72 863.924,1445.72 874.338,1445.72 884.751,1445.72 895.165,1445.72 905.579,1445.72 915.992,1445.72 926.406,1445.72 936.819,1445.72 \n",
       "  947.233,1445.72 957.647,1445.72 968.06,1445.72 978.474,1445.72 988.887,1445.72 999.301,1445.72 1009.71,1445.72 1020.13,1445.72 1030.54,1445.72 1040.96,1445.72 \n",
       "  1051.37,1445.72 1061.78,1445.72 1072.2,1445.72 1082.61,1445.72 1093.02,1445.72 1103.44,1445.72 1113.85,1445.72 1124.26,1445.72 1134.68,1445.72 1145.09,1445.72 \n",
       "  1155.5,1445.72 1165.92,1445.72 1176.33,1445.72 1186.75,1445.72 1197.16,1445.72 1207.57,1445.72 1217.99,1445.72 1228.4,1445.72 1238.81,1445.72 1249.23,1445.72 \n",
       "  1259.64,1445.72 1270.05,1445.72 1280.47,1445.72 1290.88,1445.72 1301.3,1445.72 1311.71,1445.72 1322.12,1445.72 1332.54,1445.72 1342.95,1445.72 1353.36,1445.72 \n",
       "  1363.78,1445.72 1374.19,1445.72 1384.6,1445.72 1395.02,1445.72 1405.43,1445.72 1415.84,1445.72 1426.26,1445.72 1436.67,1445.72 1447.09,1445.72 1457.5,1445.72 \n",
       "  1467.91,1445.72 1478.33,1445.72 1488.74,1445.72 1499.15,1445.72 1509.57,1445.72 1519.98,1445.72 1530.39,1445.72 1540.81,1445.72 1551.22,1445.72 1561.64,1445.72 \n",
       "  1572.05,1445.72 1582.46,1445.72 1592.88,1445.71 1603.29,1445.71 1613.7,1445.71 1624.12,1445.7 1634.53,1445.67 1644.94,1445.61 1655.36,1445.48 1665.77,1445.19 \n",
       "  1676.18,1444.61 1686.6,1443.48 1697.01,1441.4 1707.43,1437.74 1717.84,1431.64 1728.25,1421.95 1738.67,1407.31 1749.08,1386.25 1759.49,1357.42 1769.91,1319.8 \n",
       "  1780.32,1272.97 1790.73,1217.21 1801.15,1153.47 1811.56,1083.09 1821.97,1007.42 1832.39,927.327 1842.8,842.954 1853.22,753.758 1863.63,659.016 1874.04,558.702 \n",
       "  1884.46,454.493 1894.87,350.529 1905.28,253.521 1915.7,171.978 1926.11,114.56 1936.52,87.9763 1946.94,95.0382 1957.35,133.567 1967.77,196.593 1978.18,273.877 \n",
       "  1988.59,354.319 1999.01,428.498 2009.42,490.593 2019.83,539.158 2030.25,576.677 2040.66,608.21 2051.07,639.674 2061.49,676.289 2071.9,721.555 2082.31,776.853 \n",
       "  2092.73,841.567 2103.14,913.519 2113.56,989.536 2123.97,1066.02 2134.38,1139.43 2144.8,1206.73 2155.21,1265.68 2165.62,1315 2176.04,1354.4 2186.45,1384.42 \n",
       "  2196.86,1406.23 2207.28,1421.33 2217.69,1431.29 2228.11,1437.55 2238.52,1441.3 2248.93,1443.43 2259.35,1444.58 2269.76,1445.17 2280.17,1445.46 2290.59,1445.57 \n",
       "  \n",
       "  \"/>\n",
       "<path clip-path=\"url(#clip260)\" d=\"\n",
       "M1983.03 198.898 L2279.53 198.898 L2279.53 95.2176 L1983.03 95.2176  Z\n",
       "  \" fill=\"#ffffff\" fill-rule=\"evenodd\" fill-opacity=\"1\"/>\n",
       "<polyline clip-path=\"url(#clip260)\" style=\"stroke:#000000; stroke-linecap:butt; stroke-linejoin:round; stroke-width:4; stroke-opacity:1; fill:none\" points=\"\n",
       "  1983.03,198.898 2279.53,198.898 2279.53,95.2176 1983.03,95.2176 1983.03,198.898 \n",
       "  \"/>\n",
       "<polyline clip-path=\"url(#clip260)\" style=\"stroke:#009af9; stroke-linecap:butt; stroke-linejoin:round; stroke-width:4; stroke-opacity:1; fill:none\" points=\"\n",
       "  2007.44,147.058 2153.88,147.058 \n",
       "  \"/>\n",
       "<path clip-path=\"url(#clip260)\" d=\"M2192.13 166.745 Q2190.33 171.375 2188.61 172.787 Q2186.9 174.199 2184.03 174.199 L2180.63 174.199 L2180.63 170.634 L2183.13 170.634 Q2184.89 170.634 2185.86 169.8 Q2186.83 168.967 2188.01 165.865 L2188.78 163.921 L2178.29 138.412 L2182.8 138.412 L2190.91 158.689 L2199.01 138.412 L2203.52 138.412 L2192.13 166.745 Z\" fill=\"#000000\" fill-rule=\"evenodd\" fill-opacity=\"1\" /><path clip-path=\"url(#clip260)\" d=\"M2210.81 160.402 L2218.45 160.402 L2218.45 134.037 L2210.14 135.703 L2210.14 131.444 L2218.41 129.778 L2223.08 129.778 L2223.08 160.402 L2230.72 160.402 L2230.72 164.338 L2210.81 164.338 L2210.81 160.402 Z\" fill=\"#000000\" fill-rule=\"evenodd\" fill-opacity=\"1\" /></svg>\n"
      ]
     },
     "execution_count": 309,
     "metadata": {},
     "output_type": "execute_result"
    }
   ],
   "source": [
    "density(lls)"
   ]
  },
  {
   "cell_type": "code",
   "execution_count": null,
   "id": "51cf2b9d-529c-48e2-b49c-8ef46fa3ff73",
   "metadata": {},
   "outputs": [],
   "source": []
  }
 ],
 "metadata": {
  "kernelspec": {
   "display_name": "Julia 1.7.1",
   "language": "julia",
   "name": "julia-1.7"
  },
  "language_info": {
   "file_extension": ".jl",
   "mimetype": "application/julia",
   "name": "julia",
   "version": "1.7.1"
  }
 },
 "nbformat": 4,
 "nbformat_minor": 5
}
